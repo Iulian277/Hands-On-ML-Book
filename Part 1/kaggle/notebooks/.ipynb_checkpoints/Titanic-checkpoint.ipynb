{
 "cells": [
  {
   "cell_type": "code",
   "execution_count": 15,
   "id": "6cbe74c5",
   "metadata": {},
   "outputs": [],
   "source": [
    "# Data processing \n",
    "import numpy as np\n",
    "import pandas as pd\n",
    "\n",
    "# Data vizualisation\n",
    "%matplotlib inline\n",
    "import matplotlib as mpl\n",
    "import matplotlib.pyplot as plt\n",
    "mpl.rc('axes',  labelsize=14)\n",
    "mpl.rc('xtick', labelsize=12)\n",
    "mpl.rc('ytick', labelsize=12)\n",
    "\n",
    "# Models\n",
    "import sklearn\n",
    "\n",
    "# Commons\n",
    "import os\n",
    "RANDOM_STATE = 42\n",
    "np.random.seed(RANDOM_STATE)"
   ]
  },
  {
   "cell_type": "code",
   "execution_count": 40,
   "id": "34d95362",
   "metadata": {},
   "outputs": [],
   "source": [
    "train = pd.read_csv('../input/titanic/train.csv')\n",
    "test  = pd.read_csv('../input/titanic/test.csv')"
   ]
  },
  {
   "cell_type": "code",
   "execution_count": 41,
   "id": "631a69eb",
   "metadata": {},
   "outputs": [
    {
     "data": {
      "text/html": [
       "<div>\n",
       "<style scoped>\n",
       "    .dataframe tbody tr th:only-of-type {\n",
       "        vertical-align: middle;\n",
       "    }\n",
       "\n",
       "    .dataframe tbody tr th {\n",
       "        vertical-align: top;\n",
       "    }\n",
       "\n",
       "    .dataframe thead th {\n",
       "        text-align: right;\n",
       "    }\n",
       "</style>\n",
       "<table border=\"1\" class=\"dataframe\">\n",
       "  <thead>\n",
       "    <tr style=\"text-align: right;\">\n",
       "      <th></th>\n",
       "      <th>PassengerId</th>\n",
       "      <th>Survived</th>\n",
       "      <th>Pclass</th>\n",
       "      <th>Name</th>\n",
       "      <th>Sex</th>\n",
       "      <th>Age</th>\n",
       "      <th>SibSp</th>\n",
       "      <th>Parch</th>\n",
       "      <th>Ticket</th>\n",
       "      <th>Fare</th>\n",
       "      <th>Cabin</th>\n",
       "      <th>Embarked</th>\n",
       "    </tr>\n",
       "  </thead>\n",
       "  <tbody>\n",
       "    <tr>\n",
       "      <th>0</th>\n",
       "      <td>1</td>\n",
       "      <td>0</td>\n",
       "      <td>3</td>\n",
       "      <td>Braund, Mr. Owen Harris</td>\n",
       "      <td>male</td>\n",
       "      <td>22.0</td>\n",
       "      <td>1</td>\n",
       "      <td>0</td>\n",
       "      <td>A/5 21171</td>\n",
       "      <td>7.2500</td>\n",
       "      <td>NaN</td>\n",
       "      <td>S</td>\n",
       "    </tr>\n",
       "    <tr>\n",
       "      <th>1</th>\n",
       "      <td>2</td>\n",
       "      <td>1</td>\n",
       "      <td>1</td>\n",
       "      <td>Cumings, Mrs. John Bradley (Florence Briggs Th...</td>\n",
       "      <td>female</td>\n",
       "      <td>38.0</td>\n",
       "      <td>1</td>\n",
       "      <td>0</td>\n",
       "      <td>PC 17599</td>\n",
       "      <td>71.2833</td>\n",
       "      <td>C85</td>\n",
       "      <td>C</td>\n",
       "    </tr>\n",
       "    <tr>\n",
       "      <th>2</th>\n",
       "      <td>3</td>\n",
       "      <td>1</td>\n",
       "      <td>3</td>\n",
       "      <td>Heikkinen, Miss. Laina</td>\n",
       "      <td>female</td>\n",
       "      <td>26.0</td>\n",
       "      <td>0</td>\n",
       "      <td>0</td>\n",
       "      <td>STON/O2. 3101282</td>\n",
       "      <td>7.9250</td>\n",
       "      <td>NaN</td>\n",
       "      <td>S</td>\n",
       "    </tr>\n",
       "    <tr>\n",
       "      <th>3</th>\n",
       "      <td>4</td>\n",
       "      <td>1</td>\n",
       "      <td>1</td>\n",
       "      <td>Futrelle, Mrs. Jacques Heath (Lily May Peel)</td>\n",
       "      <td>female</td>\n",
       "      <td>35.0</td>\n",
       "      <td>1</td>\n",
       "      <td>0</td>\n",
       "      <td>113803</td>\n",
       "      <td>53.1000</td>\n",
       "      <td>C123</td>\n",
       "      <td>S</td>\n",
       "    </tr>\n",
       "    <tr>\n",
       "      <th>4</th>\n",
       "      <td>5</td>\n",
       "      <td>0</td>\n",
       "      <td>3</td>\n",
       "      <td>Allen, Mr. William Henry</td>\n",
       "      <td>male</td>\n",
       "      <td>35.0</td>\n",
       "      <td>0</td>\n",
       "      <td>0</td>\n",
       "      <td>373450</td>\n",
       "      <td>8.0500</td>\n",
       "      <td>NaN</td>\n",
       "      <td>S</td>\n",
       "    </tr>\n",
       "  </tbody>\n",
       "</table>\n",
       "</div>"
      ],
      "text/plain": [
       "   PassengerId  Survived  Pclass  \\\n",
       "0            1         0       3   \n",
       "1            2         1       1   \n",
       "2            3         1       3   \n",
       "3            4         1       1   \n",
       "4            5         0       3   \n",
       "\n",
       "                                                Name     Sex   Age  SibSp  \\\n",
       "0                            Braund, Mr. Owen Harris    male  22.0      1   \n",
       "1  Cumings, Mrs. John Bradley (Florence Briggs Th...  female  38.0      1   \n",
       "2                             Heikkinen, Miss. Laina  female  26.0      0   \n",
       "3       Futrelle, Mrs. Jacques Heath (Lily May Peel)  female  35.0      1   \n",
       "4                           Allen, Mr. William Henry    male  35.0      0   \n",
       "\n",
       "   Parch            Ticket     Fare Cabin Embarked  \n",
       "0      0         A/5 21171   7.2500   NaN        S  \n",
       "1      0          PC 17599  71.2833   C85        C  \n",
       "2      0  STON/O2. 3101282   7.9250   NaN        S  \n",
       "3      0            113803  53.1000  C123        S  \n",
       "4      0            373450   8.0500   NaN        S  "
      ]
     },
     "execution_count": 41,
     "metadata": {},
     "output_type": "execute_result"
    }
   ],
   "source": [
    "train.head()"
   ]
  },
  {
   "cell_type": "code",
   "execution_count": 42,
   "id": "395bdd7b",
   "metadata": {},
   "outputs": [
    {
     "data": {
      "text/html": [
       "<div>\n",
       "<style scoped>\n",
       "    .dataframe tbody tr th:only-of-type {\n",
       "        vertical-align: middle;\n",
       "    }\n",
       "\n",
       "    .dataframe tbody tr th {\n",
       "        vertical-align: top;\n",
       "    }\n",
       "\n",
       "    .dataframe thead th {\n",
       "        text-align: right;\n",
       "    }\n",
       "</style>\n",
       "<table border=\"1\" class=\"dataframe\">\n",
       "  <thead>\n",
       "    <tr style=\"text-align: right;\">\n",
       "      <th></th>\n",
       "      <th>PassengerId</th>\n",
       "      <th>Pclass</th>\n",
       "      <th>Name</th>\n",
       "      <th>Sex</th>\n",
       "      <th>Age</th>\n",
       "      <th>SibSp</th>\n",
       "      <th>Parch</th>\n",
       "      <th>Ticket</th>\n",
       "      <th>Fare</th>\n",
       "      <th>Cabin</th>\n",
       "      <th>Embarked</th>\n",
       "    </tr>\n",
       "  </thead>\n",
       "  <tbody>\n",
       "    <tr>\n",
       "      <th>0</th>\n",
       "      <td>892</td>\n",
       "      <td>3</td>\n",
       "      <td>Kelly, Mr. James</td>\n",
       "      <td>male</td>\n",
       "      <td>34.5</td>\n",
       "      <td>0</td>\n",
       "      <td>0</td>\n",
       "      <td>330911</td>\n",
       "      <td>7.8292</td>\n",
       "      <td>NaN</td>\n",
       "      <td>Q</td>\n",
       "    </tr>\n",
       "    <tr>\n",
       "      <th>1</th>\n",
       "      <td>893</td>\n",
       "      <td>3</td>\n",
       "      <td>Wilkes, Mrs. James (Ellen Needs)</td>\n",
       "      <td>female</td>\n",
       "      <td>47.0</td>\n",
       "      <td>1</td>\n",
       "      <td>0</td>\n",
       "      <td>363272</td>\n",
       "      <td>7.0000</td>\n",
       "      <td>NaN</td>\n",
       "      <td>S</td>\n",
       "    </tr>\n",
       "    <tr>\n",
       "      <th>2</th>\n",
       "      <td>894</td>\n",
       "      <td>2</td>\n",
       "      <td>Myles, Mr. Thomas Francis</td>\n",
       "      <td>male</td>\n",
       "      <td>62.0</td>\n",
       "      <td>0</td>\n",
       "      <td>0</td>\n",
       "      <td>240276</td>\n",
       "      <td>9.6875</td>\n",
       "      <td>NaN</td>\n",
       "      <td>Q</td>\n",
       "    </tr>\n",
       "    <tr>\n",
       "      <th>3</th>\n",
       "      <td>895</td>\n",
       "      <td>3</td>\n",
       "      <td>Wirz, Mr. Albert</td>\n",
       "      <td>male</td>\n",
       "      <td>27.0</td>\n",
       "      <td>0</td>\n",
       "      <td>0</td>\n",
       "      <td>315154</td>\n",
       "      <td>8.6625</td>\n",
       "      <td>NaN</td>\n",
       "      <td>S</td>\n",
       "    </tr>\n",
       "    <tr>\n",
       "      <th>4</th>\n",
       "      <td>896</td>\n",
       "      <td>3</td>\n",
       "      <td>Hirvonen, Mrs. Alexander (Helga E Lindqvist)</td>\n",
       "      <td>female</td>\n",
       "      <td>22.0</td>\n",
       "      <td>1</td>\n",
       "      <td>1</td>\n",
       "      <td>3101298</td>\n",
       "      <td>12.2875</td>\n",
       "      <td>NaN</td>\n",
       "      <td>S</td>\n",
       "    </tr>\n",
       "  </tbody>\n",
       "</table>\n",
       "</div>"
      ],
      "text/plain": [
       "   PassengerId  Pclass                                          Name     Sex  \\\n",
       "0          892       3                              Kelly, Mr. James    male   \n",
       "1          893       3              Wilkes, Mrs. James (Ellen Needs)  female   \n",
       "2          894       2                     Myles, Mr. Thomas Francis    male   \n",
       "3          895       3                              Wirz, Mr. Albert    male   \n",
       "4          896       3  Hirvonen, Mrs. Alexander (Helga E Lindqvist)  female   \n",
       "\n",
       "    Age  SibSp  Parch   Ticket     Fare Cabin Embarked  \n",
       "0  34.5      0      0   330911   7.8292   NaN        Q  \n",
       "1  47.0      1      0   363272   7.0000   NaN        S  \n",
       "2  62.0      0      0   240276   9.6875   NaN        Q  \n",
       "3  27.0      0      0   315154   8.6625   NaN        S  \n",
       "4  22.0      1      1  3101298  12.2875   NaN        S  "
      ]
     },
     "execution_count": 42,
     "metadata": {},
     "output_type": "execute_result"
    }
   ],
   "source": [
    "test.head()"
   ]
  },
  {
   "cell_type": "code",
   "execution_count": 43,
   "id": "9af7e72a",
   "metadata": {},
   "outputs": [],
   "source": [
    "# Set the column `PassengerId` as df idx\n",
    "train.set_index('PassengerId', inplace=True)\n",
    "test.set_index('PassengerId', inplace=True)"
   ]
  },
  {
   "cell_type": "code",
   "execution_count": 44,
   "id": "1b7ddf74",
   "metadata": {},
   "outputs": [
    {
     "data": {
      "text/html": [
       "<div>\n",
       "<style scoped>\n",
       "    .dataframe tbody tr th:only-of-type {\n",
       "        vertical-align: middle;\n",
       "    }\n",
       "\n",
       "    .dataframe tbody tr th {\n",
       "        vertical-align: top;\n",
       "    }\n",
       "\n",
       "    .dataframe thead th {\n",
       "        text-align: right;\n",
       "    }\n",
       "</style>\n",
       "<table border=\"1\" class=\"dataframe\">\n",
       "  <thead>\n",
       "    <tr style=\"text-align: right;\">\n",
       "      <th></th>\n",
       "      <th>Survived</th>\n",
       "      <th>Pclass</th>\n",
       "      <th>Name</th>\n",
       "      <th>Sex</th>\n",
       "      <th>Age</th>\n",
       "      <th>SibSp</th>\n",
       "      <th>Parch</th>\n",
       "      <th>Ticket</th>\n",
       "      <th>Fare</th>\n",
       "      <th>Cabin</th>\n",
       "      <th>Embarked</th>\n",
       "    </tr>\n",
       "    <tr>\n",
       "      <th>PassengerId</th>\n",
       "      <th></th>\n",
       "      <th></th>\n",
       "      <th></th>\n",
       "      <th></th>\n",
       "      <th></th>\n",
       "      <th></th>\n",
       "      <th></th>\n",
       "      <th></th>\n",
       "      <th></th>\n",
       "      <th></th>\n",
       "      <th></th>\n",
       "    </tr>\n",
       "  </thead>\n",
       "  <tbody>\n",
       "    <tr>\n",
       "      <th>1</th>\n",
       "      <td>0</td>\n",
       "      <td>3</td>\n",
       "      <td>Braund, Mr. Owen Harris</td>\n",
       "      <td>male</td>\n",
       "      <td>22.0</td>\n",
       "      <td>1</td>\n",
       "      <td>0</td>\n",
       "      <td>A/5 21171</td>\n",
       "      <td>7.2500</td>\n",
       "      <td>NaN</td>\n",
       "      <td>S</td>\n",
       "    </tr>\n",
       "    <tr>\n",
       "      <th>2</th>\n",
       "      <td>1</td>\n",
       "      <td>1</td>\n",
       "      <td>Cumings, Mrs. John Bradley (Florence Briggs Th...</td>\n",
       "      <td>female</td>\n",
       "      <td>38.0</td>\n",
       "      <td>1</td>\n",
       "      <td>0</td>\n",
       "      <td>PC 17599</td>\n",
       "      <td>71.2833</td>\n",
       "      <td>C85</td>\n",
       "      <td>C</td>\n",
       "    </tr>\n",
       "    <tr>\n",
       "      <th>3</th>\n",
       "      <td>1</td>\n",
       "      <td>3</td>\n",
       "      <td>Heikkinen, Miss. Laina</td>\n",
       "      <td>female</td>\n",
       "      <td>26.0</td>\n",
       "      <td>0</td>\n",
       "      <td>0</td>\n",
       "      <td>STON/O2. 3101282</td>\n",
       "      <td>7.9250</td>\n",
       "      <td>NaN</td>\n",
       "      <td>S</td>\n",
       "    </tr>\n",
       "    <tr>\n",
       "      <th>4</th>\n",
       "      <td>1</td>\n",
       "      <td>1</td>\n",
       "      <td>Futrelle, Mrs. Jacques Heath (Lily May Peel)</td>\n",
       "      <td>female</td>\n",
       "      <td>35.0</td>\n",
       "      <td>1</td>\n",
       "      <td>0</td>\n",
       "      <td>113803</td>\n",
       "      <td>53.1000</td>\n",
       "      <td>C123</td>\n",
       "      <td>S</td>\n",
       "    </tr>\n",
       "    <tr>\n",
       "      <th>5</th>\n",
       "      <td>0</td>\n",
       "      <td>3</td>\n",
       "      <td>Allen, Mr. William Henry</td>\n",
       "      <td>male</td>\n",
       "      <td>35.0</td>\n",
       "      <td>0</td>\n",
       "      <td>0</td>\n",
       "      <td>373450</td>\n",
       "      <td>8.0500</td>\n",
       "      <td>NaN</td>\n",
       "      <td>S</td>\n",
       "    </tr>\n",
       "  </tbody>\n",
       "</table>\n",
       "</div>"
      ],
      "text/plain": [
       "             Survived  Pclass  \\\n",
       "PassengerId                     \n",
       "1                   0       3   \n",
       "2                   1       1   \n",
       "3                   1       3   \n",
       "4                   1       1   \n",
       "5                   0       3   \n",
       "\n",
       "                                                          Name     Sex   Age  \\\n",
       "PassengerId                                                                    \n",
       "1                                      Braund, Mr. Owen Harris    male  22.0   \n",
       "2            Cumings, Mrs. John Bradley (Florence Briggs Th...  female  38.0   \n",
       "3                                       Heikkinen, Miss. Laina  female  26.0   \n",
       "4                 Futrelle, Mrs. Jacques Heath (Lily May Peel)  female  35.0   \n",
       "5                                     Allen, Mr. William Henry    male  35.0   \n",
       "\n",
       "             SibSp  Parch            Ticket     Fare Cabin Embarked  \n",
       "PassengerId                                                          \n",
       "1                1      0         A/5 21171   7.2500   NaN        S  \n",
       "2                1      0          PC 17599  71.2833   C85        C  \n",
       "3                0      0  STON/O2. 3101282   7.9250   NaN        S  \n",
       "4                1      0            113803  53.1000  C123        S  \n",
       "5                0      0            373450   8.0500   NaN        S  "
      ]
     },
     "execution_count": 44,
     "metadata": {},
     "output_type": "execute_result"
    }
   ],
   "source": [
    "train.head()"
   ]
  },
  {
   "cell_type": "code",
   "execution_count": 45,
   "id": "fe8d7a2c",
   "metadata": {},
   "outputs": [
    {
     "data": {
      "text/html": [
       "<div>\n",
       "<style scoped>\n",
       "    .dataframe tbody tr th:only-of-type {\n",
       "        vertical-align: middle;\n",
       "    }\n",
       "\n",
       "    .dataframe tbody tr th {\n",
       "        vertical-align: top;\n",
       "    }\n",
       "\n",
       "    .dataframe thead th {\n",
       "        text-align: right;\n",
       "    }\n",
       "</style>\n",
       "<table border=\"1\" class=\"dataframe\">\n",
       "  <thead>\n",
       "    <tr style=\"text-align: right;\">\n",
       "      <th></th>\n",
       "      <th>Pclass</th>\n",
       "      <th>Name</th>\n",
       "      <th>Sex</th>\n",
       "      <th>Age</th>\n",
       "      <th>SibSp</th>\n",
       "      <th>Parch</th>\n",
       "      <th>Ticket</th>\n",
       "      <th>Fare</th>\n",
       "      <th>Cabin</th>\n",
       "      <th>Embarked</th>\n",
       "    </tr>\n",
       "    <tr>\n",
       "      <th>PassengerId</th>\n",
       "      <th></th>\n",
       "      <th></th>\n",
       "      <th></th>\n",
       "      <th></th>\n",
       "      <th></th>\n",
       "      <th></th>\n",
       "      <th></th>\n",
       "      <th></th>\n",
       "      <th></th>\n",
       "      <th></th>\n",
       "    </tr>\n",
       "  </thead>\n",
       "  <tbody>\n",
       "    <tr>\n",
       "      <th>892</th>\n",
       "      <td>3</td>\n",
       "      <td>Kelly, Mr. James</td>\n",
       "      <td>male</td>\n",
       "      <td>34.5</td>\n",
       "      <td>0</td>\n",
       "      <td>0</td>\n",
       "      <td>330911</td>\n",
       "      <td>7.8292</td>\n",
       "      <td>NaN</td>\n",
       "      <td>Q</td>\n",
       "    </tr>\n",
       "    <tr>\n",
       "      <th>893</th>\n",
       "      <td>3</td>\n",
       "      <td>Wilkes, Mrs. James (Ellen Needs)</td>\n",
       "      <td>female</td>\n",
       "      <td>47.0</td>\n",
       "      <td>1</td>\n",
       "      <td>0</td>\n",
       "      <td>363272</td>\n",
       "      <td>7.0000</td>\n",
       "      <td>NaN</td>\n",
       "      <td>S</td>\n",
       "    </tr>\n",
       "    <tr>\n",
       "      <th>894</th>\n",
       "      <td>2</td>\n",
       "      <td>Myles, Mr. Thomas Francis</td>\n",
       "      <td>male</td>\n",
       "      <td>62.0</td>\n",
       "      <td>0</td>\n",
       "      <td>0</td>\n",
       "      <td>240276</td>\n",
       "      <td>9.6875</td>\n",
       "      <td>NaN</td>\n",
       "      <td>Q</td>\n",
       "    </tr>\n",
       "    <tr>\n",
       "      <th>895</th>\n",
       "      <td>3</td>\n",
       "      <td>Wirz, Mr. Albert</td>\n",
       "      <td>male</td>\n",
       "      <td>27.0</td>\n",
       "      <td>0</td>\n",
       "      <td>0</td>\n",
       "      <td>315154</td>\n",
       "      <td>8.6625</td>\n",
       "      <td>NaN</td>\n",
       "      <td>S</td>\n",
       "    </tr>\n",
       "    <tr>\n",
       "      <th>896</th>\n",
       "      <td>3</td>\n",
       "      <td>Hirvonen, Mrs. Alexander (Helga E Lindqvist)</td>\n",
       "      <td>female</td>\n",
       "      <td>22.0</td>\n",
       "      <td>1</td>\n",
       "      <td>1</td>\n",
       "      <td>3101298</td>\n",
       "      <td>12.2875</td>\n",
       "      <td>NaN</td>\n",
       "      <td>S</td>\n",
       "    </tr>\n",
       "  </tbody>\n",
       "</table>\n",
       "</div>"
      ],
      "text/plain": [
       "             Pclass                                          Name     Sex  \\\n",
       "PassengerId                                                                 \n",
       "892               3                              Kelly, Mr. James    male   \n",
       "893               3              Wilkes, Mrs. James (Ellen Needs)  female   \n",
       "894               2                     Myles, Mr. Thomas Francis    male   \n",
       "895               3                              Wirz, Mr. Albert    male   \n",
       "896               3  Hirvonen, Mrs. Alexander (Helga E Lindqvist)  female   \n",
       "\n",
       "              Age  SibSp  Parch   Ticket     Fare Cabin Embarked  \n",
       "PassengerId                                                       \n",
       "892          34.5      0      0   330911   7.8292   NaN        Q  \n",
       "893          47.0      1      0   363272   7.0000   NaN        S  \n",
       "894          62.0      0      0   240276   9.6875   NaN        Q  \n",
       "895          27.0      0      0   315154   8.6625   NaN        S  \n",
       "896          22.0      1      1  3101298  12.2875   NaN        S  "
      ]
     },
     "execution_count": 45,
     "metadata": {},
     "output_type": "execute_result"
    }
   ],
   "source": [
    "test.head()"
   ]
  },
  {
   "cell_type": "code",
   "execution_count": 46,
   "id": "2b8aa9ec",
   "metadata": {},
   "outputs": [
    {
     "data": {
      "text/plain": [
       "Survived      0\n",
       "Pclass        0\n",
       "Name          0\n",
       "Sex           0\n",
       "Age         177\n",
       "SibSp         0\n",
       "Parch         0\n",
       "Ticket        0\n",
       "Fare          0\n",
       "Cabin       687\n",
       "Embarked      2\n",
       "dtype: int64"
      ]
     },
     "metadata": {},
     "output_type": "display_data"
    },
    {
     "data": {
      "text/plain": [
       "Pclass        0\n",
       "Name          0\n",
       "Sex           0\n",
       "Age          86\n",
       "SibSp         0\n",
       "Parch         0\n",
       "Ticket        0\n",
       "Fare          1\n",
       "Cabin       327\n",
       "Embarked      0\n",
       "dtype: int64"
      ]
     },
     "metadata": {},
     "output_type": "display_data"
    }
   ],
   "source": [
    "# Let's see the missing values\n",
    "display(train.isna().sum())\n",
    "display(test.isna().sum())"
   ]
  },
  {
   "cell_type": "code",
   "execution_count": 47,
   "id": "d5896367",
   "metadata": {},
   "outputs": [],
   "source": [
    "# `Cabin` has a lot of missing values, so we can drop it\n",
    "\n",
    "train.drop(columns=['Cabin'], inplace=True)\n",
    "test.drop(columns=['Cabin'], inplace=True)"
   ]
  },
  {
   "cell_type": "code",
   "execution_count": 56,
   "id": "6948e104",
   "metadata": {},
   "outputs": [
    {
     "data": {
      "text/plain": [
       "Pclass        0\n",
       "Name          0\n",
       "Sex           0\n",
       "Age         177\n",
       "SibSp         0\n",
       "Parch         0\n",
       "Ticket        0\n",
       "Fare          0\n",
       "Embarked      2\n",
       "dtype: int64"
      ]
     },
     "metadata": {},
     "output_type": "display_data"
    },
    {
     "data": {
      "text/plain": [
       "Pclass       0\n",
       "Name         0\n",
       "Sex          0\n",
       "Age         86\n",
       "SibSp        0\n",
       "Parch        0\n",
       "Ticket       0\n",
       "Fare         1\n",
       "Embarked     0\n",
       "dtype: int64"
      ]
     },
     "metadata": {},
     "output_type": "display_data"
    }
   ],
   "source": [
    "display(train.isna().sum())\n",
    "display(test.isna().sum())"
   ]
  },
  {
   "cell_type": "code",
   "execution_count": 48,
   "id": "5bfd9dbe",
   "metadata": {},
   "outputs": [],
   "source": [
    "# Divide the data as follows: (train, y_train), (test)\n",
    "\n",
    "y_train = train['Survived']\n",
    "y_train = np.asarray(y_train)\n",
    "train.drop(columns=['Survived'], inplace=True)"
   ]
  },
  {
   "cell_type": "code",
   "execution_count": 49,
   "id": "d46fb6ee",
   "metadata": {},
   "outputs": [
    {
     "data": {
      "text/html": [
       "<div>\n",
       "<style scoped>\n",
       "    .dataframe tbody tr th:only-of-type {\n",
       "        vertical-align: middle;\n",
       "    }\n",
       "\n",
       "    .dataframe tbody tr th {\n",
       "        vertical-align: top;\n",
       "    }\n",
       "\n",
       "    .dataframe thead th {\n",
       "        text-align: right;\n",
       "    }\n",
       "</style>\n",
       "<table border=\"1\" class=\"dataframe\">\n",
       "  <thead>\n",
       "    <tr style=\"text-align: right;\">\n",
       "      <th></th>\n",
       "      <th>Pclass</th>\n",
       "      <th>Name</th>\n",
       "      <th>Sex</th>\n",
       "      <th>Age</th>\n",
       "      <th>SibSp</th>\n",
       "      <th>Parch</th>\n",
       "      <th>Ticket</th>\n",
       "      <th>Fare</th>\n",
       "      <th>Embarked</th>\n",
       "    </tr>\n",
       "    <tr>\n",
       "      <th>PassengerId</th>\n",
       "      <th></th>\n",
       "      <th></th>\n",
       "      <th></th>\n",
       "      <th></th>\n",
       "      <th></th>\n",
       "      <th></th>\n",
       "      <th></th>\n",
       "      <th></th>\n",
       "      <th></th>\n",
       "    </tr>\n",
       "  </thead>\n",
       "  <tbody>\n",
       "    <tr>\n",
       "      <th>1</th>\n",
       "      <td>3</td>\n",
       "      <td>Braund, Mr. Owen Harris</td>\n",
       "      <td>male</td>\n",
       "      <td>22.0</td>\n",
       "      <td>1</td>\n",
       "      <td>0</td>\n",
       "      <td>A/5 21171</td>\n",
       "      <td>7.2500</td>\n",
       "      <td>S</td>\n",
       "    </tr>\n",
       "    <tr>\n",
       "      <th>2</th>\n",
       "      <td>1</td>\n",
       "      <td>Cumings, Mrs. John Bradley (Florence Briggs Th...</td>\n",
       "      <td>female</td>\n",
       "      <td>38.0</td>\n",
       "      <td>1</td>\n",
       "      <td>0</td>\n",
       "      <td>PC 17599</td>\n",
       "      <td>71.2833</td>\n",
       "      <td>C</td>\n",
       "    </tr>\n",
       "    <tr>\n",
       "      <th>3</th>\n",
       "      <td>3</td>\n",
       "      <td>Heikkinen, Miss. Laina</td>\n",
       "      <td>female</td>\n",
       "      <td>26.0</td>\n",
       "      <td>0</td>\n",
       "      <td>0</td>\n",
       "      <td>STON/O2. 3101282</td>\n",
       "      <td>7.9250</td>\n",
       "      <td>S</td>\n",
       "    </tr>\n",
       "    <tr>\n",
       "      <th>4</th>\n",
       "      <td>1</td>\n",
       "      <td>Futrelle, Mrs. Jacques Heath (Lily May Peel)</td>\n",
       "      <td>female</td>\n",
       "      <td>35.0</td>\n",
       "      <td>1</td>\n",
       "      <td>0</td>\n",
       "      <td>113803</td>\n",
       "      <td>53.1000</td>\n",
       "      <td>S</td>\n",
       "    </tr>\n",
       "    <tr>\n",
       "      <th>5</th>\n",
       "      <td>3</td>\n",
       "      <td>Allen, Mr. William Henry</td>\n",
       "      <td>male</td>\n",
       "      <td>35.0</td>\n",
       "      <td>0</td>\n",
       "      <td>0</td>\n",
       "      <td>373450</td>\n",
       "      <td>8.0500</td>\n",
       "      <td>S</td>\n",
       "    </tr>\n",
       "  </tbody>\n",
       "</table>\n",
       "</div>"
      ],
      "text/plain": [
       "             Pclass                                               Name  \\\n",
       "PassengerId                                                              \n",
       "1                 3                            Braund, Mr. Owen Harris   \n",
       "2                 1  Cumings, Mrs. John Bradley (Florence Briggs Th...   \n",
       "3                 3                             Heikkinen, Miss. Laina   \n",
       "4                 1       Futrelle, Mrs. Jacques Heath (Lily May Peel)   \n",
       "5                 3                           Allen, Mr. William Henry   \n",
       "\n",
       "                Sex   Age  SibSp  Parch            Ticket     Fare Embarked  \n",
       "PassengerId                                                                  \n",
       "1              male  22.0      1      0         A/5 21171   7.2500        S  \n",
       "2            female  38.0      1      0          PC 17599  71.2833        C  \n",
       "3            female  26.0      0      0  STON/O2. 3101282   7.9250        S  \n",
       "4            female  35.0      1      0            113803  53.1000        S  \n",
       "5              male  35.0      0      0            373450   8.0500        S  "
      ]
     },
     "execution_count": 49,
     "metadata": {},
     "output_type": "execute_result"
    }
   ],
   "source": [
    "train.head()"
   ]
  },
  {
   "cell_type": "code",
   "execution_count": 50,
   "id": "91695571",
   "metadata": {},
   "outputs": [
    {
     "data": {
      "text/plain": [
       "(891, 9)"
      ]
     },
     "execution_count": 50,
     "metadata": {},
     "output_type": "execute_result"
    }
   ],
   "source": [
    "train.shape"
   ]
  },
  {
   "cell_type": "code",
   "execution_count": 51,
   "id": "2d81529c",
   "metadata": {},
   "outputs": [
    {
     "data": {
      "text/plain": [
       "891"
      ]
     },
     "execution_count": 51,
     "metadata": {},
     "output_type": "execute_result"
    }
   ],
   "source": [
    "len(y_train)"
   ]
  },
  {
   "cell_type": "code",
   "execution_count": 52,
   "id": "67eb8177",
   "metadata": {},
   "outputs": [],
   "source": [
    "# First, let's use some of the attributes to see which one is more important\n",
    "# Select the most intuitive ones"
   ]
  },
  {
   "cell_type": "code",
   "execution_count": 77,
   "id": "7addc384",
   "metadata": {},
   "outputs": [],
   "source": [
    "cat_attr = ['Sex', 'Embarked']\n",
    "num_attr = ['Pclass', 'Age', 'SibSp', 'Parch', 'Fare']"
   ]
  },
  {
   "cell_type": "code",
   "execution_count": 156,
   "id": "af1d6b64",
   "metadata": {},
   "outputs": [],
   "source": [
    "# Let's make a separate pipeline for each type of attribute\n",
    "from sklearn.pipeline import Pipeline\n",
    "from sklearn.impute import SimpleImputer\n",
    "from sklearn.preprocessing import OneHotEncoder\n",
    "from sklearn.preprocessing import Normalizer\n",
    "\n",
    "cat_pipe = Pipeline([\n",
    "    ('imputer', SimpleImputer(strategy=\"most_frequent\")), # fill in the missing values\n",
    "    ('one_hot_enc', OneHotEncoder(sparse=False, handle_unknown='ignore')), # encode the categorical attributes\n",
    "])\n",
    "\n",
    "num_pipe = Pipeline([\n",
    "    ('imputer', SimpleImputer(strategy=\"mean\")), # fill in the missing values\n",
    "    ('normalizer', Normalizer()), # normalize the data\n",
    "])"
   ]
  },
  {
   "cell_type": "code",
   "execution_count": 112,
   "id": "cdeb07d4",
   "metadata": {},
   "outputs": [],
   "source": [
    "# Let's combine the `cat_pipe` and `num_pipe`\n",
    "from sklearn.compose import ColumnTransformer\n",
    "\n",
    "transformer = ColumnTransformer([\n",
    "    ('cat', cat_pipe, []),\n",
    "    ('num', num_pipe, num_attr),\n",
    "])"
   ]
  },
  {
   "cell_type": "code",
   "execution_count": 113,
   "id": "30adb0e1",
   "metadata": {},
   "outputs": [
    {
     "data": {
      "text/plain": [
       "ColumnTransformer(transformers=[('cat',\n",
       "                                 Pipeline(steps=[('imputer',\n",
       "                                                  SimpleImputer(strategy='most_frequent')),\n",
       "                                                 ('one_hot_enc',\n",
       "                                                  OneHotEncoder(sparse=False))]),\n",
       "                                 []),\n",
       "                                ('num',\n",
       "                                 Pipeline(steps=[('imputer', SimpleImputer()),\n",
       "                                                 ('scaler', StandardScaler())]),\n",
       "                                 ['Pclass', 'Age', 'SibSp', 'Parch', 'Fare'])])"
      ]
     },
     "execution_count": 113,
     "metadata": {},
     "output_type": "execute_result"
    }
   ],
   "source": [
    "transformer"
   ]
  },
  {
   "cell_type": "code",
   "execution_count": 114,
   "id": "8f52fdc1",
   "metadata": {},
   "outputs": [],
   "source": [
    "X_train = transformer.fit_transform(train[cat_attr + num_attr])"
   ]
  },
  {
   "cell_type": "code",
   "execution_count": 115,
   "id": "4a38cbe4",
   "metadata": {},
   "outputs": [
    {
     "data": {
      "text/plain": [
       "array([ 0.82737724, -0.5924806 ,  0.43279337, -0.47367361, -0.50244517])"
      ]
     },
     "execution_count": 115,
     "metadata": {},
     "output_type": "execute_result"
    }
   ],
   "source": [
    "X_train[0]"
   ]
  },
  {
   "cell_type": "code",
   "execution_count": 116,
   "id": "15ac4adf",
   "metadata": {},
   "outputs": [
    {
     "data": {
      "text/html": [
       "<div>\n",
       "<style scoped>\n",
       "    .dataframe tbody tr th:only-of-type {\n",
       "        vertical-align: middle;\n",
       "    }\n",
       "\n",
       "    .dataframe tbody tr th {\n",
       "        vertical-align: top;\n",
       "    }\n",
       "\n",
       "    .dataframe thead th {\n",
       "        text-align: right;\n",
       "    }\n",
       "</style>\n",
       "<table border=\"1\" class=\"dataframe\">\n",
       "  <thead>\n",
       "    <tr style=\"text-align: right;\">\n",
       "      <th></th>\n",
       "      <th>Pclass</th>\n",
       "      <th>Name</th>\n",
       "      <th>Sex</th>\n",
       "      <th>Age</th>\n",
       "      <th>SibSp</th>\n",
       "      <th>Parch</th>\n",
       "      <th>Ticket</th>\n",
       "      <th>Fare</th>\n",
       "      <th>Embarked</th>\n",
       "    </tr>\n",
       "    <tr>\n",
       "      <th>PassengerId</th>\n",
       "      <th></th>\n",
       "      <th></th>\n",
       "      <th></th>\n",
       "      <th></th>\n",
       "      <th></th>\n",
       "      <th></th>\n",
       "      <th></th>\n",
       "      <th></th>\n",
       "      <th></th>\n",
       "    </tr>\n",
       "  </thead>\n",
       "  <tbody>\n",
       "    <tr>\n",
       "      <th>1</th>\n",
       "      <td>3</td>\n",
       "      <td>Braund, Mr. Owen Harris</td>\n",
       "      <td>male</td>\n",
       "      <td>22.0</td>\n",
       "      <td>1</td>\n",
       "      <td>0</td>\n",
       "      <td>A/5 21171</td>\n",
       "      <td>7.2500</td>\n",
       "      <td>S</td>\n",
       "    </tr>\n",
       "    <tr>\n",
       "      <th>2</th>\n",
       "      <td>1</td>\n",
       "      <td>Cumings, Mrs. John Bradley (Florence Briggs Th...</td>\n",
       "      <td>female</td>\n",
       "      <td>38.0</td>\n",
       "      <td>1</td>\n",
       "      <td>0</td>\n",
       "      <td>PC 17599</td>\n",
       "      <td>71.2833</td>\n",
       "      <td>C</td>\n",
       "    </tr>\n",
       "    <tr>\n",
       "      <th>3</th>\n",
       "      <td>3</td>\n",
       "      <td>Heikkinen, Miss. Laina</td>\n",
       "      <td>female</td>\n",
       "      <td>26.0</td>\n",
       "      <td>0</td>\n",
       "      <td>0</td>\n",
       "      <td>STON/O2. 3101282</td>\n",
       "      <td>7.9250</td>\n",
       "      <td>S</td>\n",
       "    </tr>\n",
       "    <tr>\n",
       "      <th>4</th>\n",
       "      <td>1</td>\n",
       "      <td>Futrelle, Mrs. Jacques Heath (Lily May Peel)</td>\n",
       "      <td>female</td>\n",
       "      <td>35.0</td>\n",
       "      <td>1</td>\n",
       "      <td>0</td>\n",
       "      <td>113803</td>\n",
       "      <td>53.1000</td>\n",
       "      <td>S</td>\n",
       "    </tr>\n",
       "    <tr>\n",
       "      <th>5</th>\n",
       "      <td>3</td>\n",
       "      <td>Allen, Mr. William Henry</td>\n",
       "      <td>male</td>\n",
       "      <td>35.0</td>\n",
       "      <td>0</td>\n",
       "      <td>0</td>\n",
       "      <td>373450</td>\n",
       "      <td>8.0500</td>\n",
       "      <td>S</td>\n",
       "    </tr>\n",
       "  </tbody>\n",
       "</table>\n",
       "</div>"
      ],
      "text/plain": [
       "             Pclass                                               Name  \\\n",
       "PassengerId                                                              \n",
       "1                 3                            Braund, Mr. Owen Harris   \n",
       "2                 1  Cumings, Mrs. John Bradley (Florence Briggs Th...   \n",
       "3                 3                             Heikkinen, Miss. Laina   \n",
       "4                 1       Futrelle, Mrs. Jacques Heath (Lily May Peel)   \n",
       "5                 3                           Allen, Mr. William Henry   \n",
       "\n",
       "                Sex   Age  SibSp  Parch            Ticket     Fare Embarked  \n",
       "PassengerId                                                                  \n",
       "1              male  22.0      1      0         A/5 21171   7.2500        S  \n",
       "2            female  38.0      1      0          PC 17599  71.2833        C  \n",
       "3            female  26.0      0      0  STON/O2. 3101282   7.9250        S  \n",
       "4            female  35.0      1      0            113803  53.1000        S  \n",
       "5              male  35.0      0      0            373450   8.0500        S  "
      ]
     },
     "execution_count": 116,
     "metadata": {},
     "output_type": "execute_result"
    }
   ],
   "source": [
    "train.head()"
   ]
  },
  {
   "cell_type": "code",
   "execution_count": 117,
   "id": "7e6ec39a",
   "metadata": {},
   "outputs": [
    {
     "data": {
      "text/plain": [
       "(891, 5)"
      ]
     },
     "execution_count": 117,
     "metadata": {},
     "output_type": "execute_result"
    }
   ],
   "source": [
    "X_train.shape"
   ]
  },
  {
   "cell_type": "code",
   "execution_count": 118,
   "id": "680951b9",
   "metadata": {},
   "outputs": [
    {
     "data": {
      "text/plain": [
       "DecisionTreeClassifier(random_state=42)"
      ]
     },
     "execution_count": 118,
     "metadata": {},
     "output_type": "execute_result"
    }
   ],
   "source": [
    "# We can try to fit a `DecisionTreeClassifier`\n",
    "# to see the importance of each numerical feature\n",
    "\n",
    "from sklearn.tree import DecisionTreeClassifier\n",
    "\n",
    "tree_clf = DecisionTreeClassifier(random_state=RANDOM_STATE)\n",
    "tree_clf.fit(X_train, y_train)"
   ]
  },
  {
   "cell_type": "code",
   "execution_count": 119,
   "id": "d06993e0",
   "metadata": {},
   "outputs": [
    {
     "name": "stdout",
     "output_type": "stream",
     "text": [
      "Pclass 0.12751321894396114\n",
      "Age 0.3841439367490453\n",
      "SibSp 0.0762560337579654\n",
      "Parch 0.06467942782699589\n",
      "Fare 0.34740738272203237\n"
     ]
    }
   ],
   "source": [
    "for name, importance in zip(num_attr, tree_clf.feature_importances_):\n",
    "    print(name, importance)"
   ]
  },
  {
   "cell_type": "code",
   "execution_count": null,
   "id": "a2bc47e8",
   "metadata": {},
   "outputs": [],
   "source": []
  },
  {
   "cell_type": "code",
   "execution_count": 124,
   "id": "ee8dd82f",
   "metadata": {},
   "outputs": [
    {
     "data": {
      "text/plain": [
       "Survived       1.000000\n",
       "Fare           0.257307\n",
       "Parch          0.081629\n",
       "PassengerId   -0.005007\n",
       "SibSp         -0.035322\n",
       "Age           -0.077221\n",
       "Pclass        -0.338481\n",
       "Name: Survived, dtype: float64"
      ]
     },
     "execution_count": 124,
     "metadata": {},
     "output_type": "execute_result"
    }
   ],
   "source": [
    "# Let's use the correlation matrix to see more details\n",
    "full_train  = pd.read_csv('../input/titanic/train.csv')\n",
    "corr_mat = full_train.corr()\n",
    "corr_mat['Survived'].sort_values(ascending=False)"
   ]
  },
  {
   "cell_type": "code",
   "execution_count": 127,
   "id": "a25831ac",
   "metadata": {},
   "outputs": [],
   "source": [
    "# Taking in consideration both the `tree_clf` and `corr_mat`\n",
    "# we can drop the `Parch` and `SibSp` features"
   ]
  },
  {
   "cell_type": "code",
   "execution_count": 131,
   "id": "dfe62e60",
   "metadata": {},
   "outputs": [],
   "source": [
    "train.drop(columns=['Parch', 'SibSp'], inplace=True)\n",
    "test.drop(columns=['Parch', 'SibSp'], inplace=True)"
   ]
  },
  {
   "cell_type": "code",
   "execution_count": 134,
   "id": "348ffacc",
   "metadata": {},
   "outputs": [],
   "source": [
    "# The `Name` is also not relevant\n",
    "train.drop(columns=['Name'], inplace=True)\n",
    "test.drop(columns=['Name'], inplace=True)"
   ]
  },
  {
   "cell_type": "code",
   "execution_count": 135,
   "id": "ed6d7091",
   "metadata": {
    "scrolled": true
   },
   "outputs": [
    {
     "data": {
      "text/html": [
       "<div>\n",
       "<style scoped>\n",
       "    .dataframe tbody tr th:only-of-type {\n",
       "        vertical-align: middle;\n",
       "    }\n",
       "\n",
       "    .dataframe tbody tr th {\n",
       "        vertical-align: top;\n",
       "    }\n",
       "\n",
       "    .dataframe thead th {\n",
       "        text-align: right;\n",
       "    }\n",
       "</style>\n",
       "<table border=\"1\" class=\"dataframe\">\n",
       "  <thead>\n",
       "    <tr style=\"text-align: right;\">\n",
       "      <th></th>\n",
       "      <th>Pclass</th>\n",
       "      <th>Sex</th>\n",
       "      <th>Age</th>\n",
       "      <th>Ticket</th>\n",
       "      <th>Fare</th>\n",
       "      <th>Embarked</th>\n",
       "    </tr>\n",
       "    <tr>\n",
       "      <th>PassengerId</th>\n",
       "      <th></th>\n",
       "      <th></th>\n",
       "      <th></th>\n",
       "      <th></th>\n",
       "      <th></th>\n",
       "      <th></th>\n",
       "    </tr>\n",
       "  </thead>\n",
       "  <tbody>\n",
       "    <tr>\n",
       "      <th>1</th>\n",
       "      <td>3</td>\n",
       "      <td>male</td>\n",
       "      <td>22.0</td>\n",
       "      <td>A/5 21171</td>\n",
       "      <td>7.2500</td>\n",
       "      <td>S</td>\n",
       "    </tr>\n",
       "    <tr>\n",
       "      <th>2</th>\n",
       "      <td>1</td>\n",
       "      <td>female</td>\n",
       "      <td>38.0</td>\n",
       "      <td>PC 17599</td>\n",
       "      <td>71.2833</td>\n",
       "      <td>C</td>\n",
       "    </tr>\n",
       "    <tr>\n",
       "      <th>3</th>\n",
       "      <td>3</td>\n",
       "      <td>female</td>\n",
       "      <td>26.0</td>\n",
       "      <td>STON/O2. 3101282</td>\n",
       "      <td>7.9250</td>\n",
       "      <td>S</td>\n",
       "    </tr>\n",
       "    <tr>\n",
       "      <th>4</th>\n",
       "      <td>1</td>\n",
       "      <td>female</td>\n",
       "      <td>35.0</td>\n",
       "      <td>113803</td>\n",
       "      <td>53.1000</td>\n",
       "      <td>S</td>\n",
       "    </tr>\n",
       "    <tr>\n",
       "      <th>5</th>\n",
       "      <td>3</td>\n",
       "      <td>male</td>\n",
       "      <td>35.0</td>\n",
       "      <td>373450</td>\n",
       "      <td>8.0500</td>\n",
       "      <td>S</td>\n",
       "    </tr>\n",
       "  </tbody>\n",
       "</table>\n",
       "</div>"
      ],
      "text/plain": [
       "             Pclass     Sex   Age            Ticket     Fare Embarked\n",
       "PassengerId                                                          \n",
       "1                 3    male  22.0         A/5 21171   7.2500        S\n",
       "2                 1  female  38.0          PC 17599  71.2833        C\n",
       "3                 3  female  26.0  STON/O2. 3101282   7.9250        S\n",
       "4                 1  female  35.0            113803  53.1000        S\n",
       "5                 3    male  35.0            373450   8.0500        S"
      ]
     },
     "execution_count": 135,
     "metadata": {},
     "output_type": "execute_result"
    }
   ],
   "source": [
    "train.head()"
   ]
  },
  {
   "cell_type": "code",
   "execution_count": 139,
   "id": "a1521d54",
   "metadata": {},
   "outputs": [
    {
     "data": {
      "text/html": [
       "<div>\n",
       "<style scoped>\n",
       "    .dataframe tbody tr th:only-of-type {\n",
       "        vertical-align: middle;\n",
       "    }\n",
       "\n",
       "    .dataframe tbody tr th {\n",
       "        vertical-align: top;\n",
       "    }\n",
       "\n",
       "    .dataframe thead th {\n",
       "        text-align: right;\n",
       "    }\n",
       "</style>\n",
       "<table border=\"1\" class=\"dataframe\">\n",
       "  <thead>\n",
       "    <tr style=\"text-align: right;\">\n",
       "      <th></th>\n",
       "      <th>Pclass</th>\n",
       "      <th>Sex</th>\n",
       "      <th>Age</th>\n",
       "      <th>Ticket</th>\n",
       "      <th>Fare</th>\n",
       "      <th>Embarked</th>\n",
       "    </tr>\n",
       "    <tr>\n",
       "      <th>PassengerId</th>\n",
       "      <th></th>\n",
       "      <th></th>\n",
       "      <th></th>\n",
       "      <th></th>\n",
       "      <th></th>\n",
       "      <th></th>\n",
       "    </tr>\n",
       "  </thead>\n",
       "  <tbody>\n",
       "    <tr>\n",
       "      <th>892</th>\n",
       "      <td>3</td>\n",
       "      <td>male</td>\n",
       "      <td>34.5</td>\n",
       "      <td>330911</td>\n",
       "      <td>7.8292</td>\n",
       "      <td>Q</td>\n",
       "    </tr>\n",
       "    <tr>\n",
       "      <th>893</th>\n",
       "      <td>3</td>\n",
       "      <td>female</td>\n",
       "      <td>47.0</td>\n",
       "      <td>363272</td>\n",
       "      <td>7.0000</td>\n",
       "      <td>S</td>\n",
       "    </tr>\n",
       "    <tr>\n",
       "      <th>894</th>\n",
       "      <td>2</td>\n",
       "      <td>male</td>\n",
       "      <td>62.0</td>\n",
       "      <td>240276</td>\n",
       "      <td>9.6875</td>\n",
       "      <td>Q</td>\n",
       "    </tr>\n",
       "    <tr>\n",
       "      <th>895</th>\n",
       "      <td>3</td>\n",
       "      <td>male</td>\n",
       "      <td>27.0</td>\n",
       "      <td>315154</td>\n",
       "      <td>8.6625</td>\n",
       "      <td>S</td>\n",
       "    </tr>\n",
       "    <tr>\n",
       "      <th>896</th>\n",
       "      <td>3</td>\n",
       "      <td>female</td>\n",
       "      <td>22.0</td>\n",
       "      <td>3101298</td>\n",
       "      <td>12.2875</td>\n",
       "      <td>S</td>\n",
       "    </tr>\n",
       "  </tbody>\n",
       "</table>\n",
       "</div>"
      ],
      "text/plain": [
       "             Pclass     Sex   Age   Ticket     Fare Embarked\n",
       "PassengerId                                                 \n",
       "892               3    male  34.5   330911   7.8292        Q\n",
       "893               3  female  47.0   363272   7.0000        S\n",
       "894               2    male  62.0   240276   9.6875        Q\n",
       "895               3    male  27.0   315154   8.6625        S\n",
       "896               3  female  22.0  3101298  12.2875        S"
      ]
     },
     "execution_count": 139,
     "metadata": {},
     "output_type": "execute_result"
    }
   ],
   "source": [
    "test.head()"
   ]
  },
  {
   "cell_type": "code",
   "execution_count": 136,
   "id": "1dff05ba",
   "metadata": {},
   "outputs": [
    {
     "data": {
      "text/plain": [
       "Pclass        0\n",
       "Sex           0\n",
       "Age         177\n",
       "Ticket        0\n",
       "Fare          0\n",
       "Embarked      2\n",
       "dtype: int64"
      ]
     },
     "metadata": {},
     "output_type": "display_data"
    },
    {
     "data": {
      "text/plain": [
       "Pclass       0\n",
       "Sex          0\n",
       "Age         86\n",
       "Ticket       0\n",
       "Fare         1\n",
       "Embarked     0\n",
       "dtype: int64"
      ]
     },
     "metadata": {},
     "output_type": "display_data"
    }
   ],
   "source": [
    "# Let's see the missing values\n",
    "display(train.isna().sum())\n",
    "display(test.isna().sum())"
   ]
  },
  {
   "cell_type": "code",
   "execution_count": null,
   "id": "02f26dae",
   "metadata": {},
   "outputs": [],
   "source": []
  },
  {
   "cell_type": "code",
   "execution_count": 157,
   "id": "27e068d9",
   "metadata": {},
   "outputs": [],
   "source": [
    "# We can now use the `ColumnTransformer`\n",
    "# with the pipelines to preprocess the data\n",
    "\n",
    "cat_attr_red = ['Sex', 'Ticket', 'Embarked']\n",
    "num_attr_red = ['Pclass', 'Age', 'Fare']\n",
    "\n",
    "transformer = ColumnTransformer([\n",
    "    ('cat', cat_pipe, cat_attr_red),\n",
    "    ('num', num_pipe, num_attr_red),\n",
    "])"
   ]
  },
  {
   "cell_type": "code",
   "execution_count": 158,
   "id": "588ca6fd",
   "metadata": {},
   "outputs": [
    {
     "data": {
      "text/plain": [
       "ColumnTransformer(transformers=[('cat',\n",
       "                                 Pipeline(steps=[('imputer',\n",
       "                                                  SimpleImputer(strategy='most_frequent')),\n",
       "                                                 ('one_hot_enc',\n",
       "                                                  OneHotEncoder(handle_unknown='ignore',\n",
       "                                                                sparse=False))]),\n",
       "                                 ['Sex', 'Ticket', 'Embarked']),\n",
       "                                ('num',\n",
       "                                 Pipeline(steps=[('imputer', SimpleImputer()),\n",
       "                                                 ('normalizer', Normalizer())]),\n",
       "                                 ['Pclass', 'Age', 'Fare'])])"
      ]
     },
     "execution_count": 158,
     "metadata": {},
     "output_type": "execute_result"
    }
   ],
   "source": [
    "transformer"
   ]
  },
  {
   "cell_type": "code",
   "execution_count": 159,
   "id": "5471b61d",
   "metadata": {},
   "outputs": [],
   "source": [
    "X_train = transformer.fit_transform(train[cat_attr_red + num_attr_red])"
   ]
  },
  {
   "cell_type": "code",
   "execution_count": 160,
   "id": "6442fef4",
   "metadata": {},
   "outputs": [],
   "source": [
    "X_test = transformer.transform(test[cat_attr_red + num_attr_red])"
   ]
  },
  {
   "cell_type": "code",
   "execution_count": 163,
   "id": "7bb6db22",
   "metadata": {},
   "outputs": [
    {
     "data": {
      "text/plain": [
       "0.8350062421972535"
      ]
     },
     "execution_count": 163,
     "metadata": {},
     "output_type": "execute_result"
    }
   ],
   "source": [
    "from sklearn.model_selection import cross_val_score\n",
    "from sklearn.svm import LinearSVC\n",
    "\n",
    "linear_svc = LinearSVC()\n",
    "\n",
    "scores = cross_val_score(linear_svc, X_train, y_train, cv=10)\n",
    "scores.mean()"
   ]
  },
  {
   "cell_type": "code",
   "execution_count": 164,
   "id": "01a021ec",
   "metadata": {},
   "outputs": [],
   "source": [
    "# Until now, we have (X_train, y_train), (X_test)"
   ]
  },
  {
   "cell_type": "code",
   "execution_count": 183,
   "id": "8cc8c373",
   "metadata": {},
   "outputs": [
    {
     "data": {
      "text/plain": [
       "(891, 689)"
      ]
     },
     "execution_count": 183,
     "metadata": {},
     "output_type": "execute_result"
    }
   ],
   "source": [
    "X_train.shape"
   ]
  },
  {
   "cell_type": "code",
   "execution_count": 184,
   "id": "e868822c",
   "metadata": {},
   "outputs": [
    {
     "data": {
      "text/plain": [
       "(891,)"
      ]
     },
     "execution_count": 184,
     "metadata": {},
     "output_type": "execute_result"
    }
   ],
   "source": [
    "y_train.shape"
   ]
  },
  {
   "cell_type": "code",
   "execution_count": 185,
   "id": "bf17b06a",
   "metadata": {},
   "outputs": [
    {
     "data": {
      "text/plain": [
       "(418, 689)"
      ]
     },
     "execution_count": 185,
     "metadata": {},
     "output_type": "execute_result"
    }
   ],
   "source": [
    "X_test.shape"
   ]
  },
  {
   "cell_type": "code",
   "execution_count": 186,
   "id": "1acceb44",
   "metadata": {},
   "outputs": [],
   "source": [
    "# There are a lot of dimensions (689), because of the `Ticket` feature\n",
    "# The `OneHotEncoder` had to generate a big array to cover all the `tickets`"
   ]
  },
  {
   "cell_type": "code",
   "execution_count": null,
   "id": "e652a7a5",
   "metadata": {},
   "outputs": [],
   "source": []
  },
  {
   "cell_type": "code",
   "execution_count": null,
   "id": "5cd1bde2",
   "metadata": {},
   "outputs": [],
   "source": []
  },
  {
   "cell_type": "code",
   "execution_count": 221,
   "id": "7934b2e1",
   "metadata": {},
   "outputs": [],
   "source": [
    "# 0 - dead\n",
    "# 1 - survived\n",
    "def plot_clusters(X, y):\n",
    "    plt.figure(figsize=(10, 7))\n",
    "    plt.scatter(X[:, 0], X[:, 1], c=y, cmap=\"jet\")\n",
    "    plt.axis('off')\n",
    "    plt.colorbar()"
   ]
  },
  {
   "cell_type": "code",
   "execution_count": 210,
   "id": "ba7adb5f",
   "metadata": {},
   "outputs": [],
   "source": [
    "# We can try to use a TSNE for data viz\n",
    "from sklearn.manifold import TSNE\n",
    "tsne = TSNE(n_components=2, n_iter=10000, random_state=RANDOM_STATE)"
   ]
  },
  {
   "cell_type": "code",
   "execution_count": 223,
   "id": "92724f69",
   "metadata": {},
   "outputs": [],
   "source": [
    "X_train_red_tsne = tsne.fit_transform(X_train)"
   ]
  },
  {
   "cell_type": "code",
   "execution_count": 224,
   "id": "7fe838f3",
   "metadata": {},
   "outputs": [
    {
     "data": {
      "text/plain": [
       "(891, 2)"
      ]
     },
     "execution_count": 224,
     "metadata": {},
     "output_type": "execute_result"
    }
   ],
   "source": [
    "X_train_red_tsne.shape"
   ]
  },
  {
   "cell_type": "code",
   "execution_count": 225,
   "id": "9966d80e",
   "metadata": {},
   "outputs": [
    {
     "data": {
      "image/png": "[encoded data removed]",
      "text/plain": [
       "<Figure size 720x504 with 2 Axes>"
      ]
     },
     "metadata": {
      "needs_background": "light"
     },
     "output_type": "display_data"
    }
   ],
   "source": [
    "plot_clusters(X_train_red_tsne, y_train)"
   ]
  },
  {
   "cell_type": "code",
   "execution_count": 226,
   "id": "91e5e14d",
   "metadata": {},
   "outputs": [],
   "source": [
    "from sklearn.decomposition import PCA\n",
    "pca = PCA(n_components=2, random_state=RANDOM_STATE)"
   ]
  },
  {
   "cell_type": "code",
   "execution_count": 230,
   "id": "7cf9a67c",
   "metadata": {},
   "outputs": [],
   "source": [
    "X_train_red_pca = pca.fit_transform(X_train)"
   ]
  },
  {
   "cell_type": "code",
   "execution_count": 227,
   "id": "db21115f",
   "metadata": {},
   "outputs": [
    {
     "data": {
      "text/plain": [
       "(891, 2)"
      ]
     },
     "execution_count": 227,
     "metadata": {},
     "output_type": "execute_result"
    }
   ],
   "source": [
    "X_train_red_pca.shape"
   ]
  },
  {
   "cell_type": "code",
   "execution_count": 228,
   "id": "ef9c4baf",
   "metadata": {},
   "outputs": [
    {
     "data": {
      "image/png": "[encoded data removed]",
      "text/plain": [
       "<Figure size 720x504 with 2 Axes>"
      ]
     },
     "metadata": {
      "needs_background": "light"
     },
     "output_type": "display_data"
    }
   ],
   "source": [
    "plot_clusters(X_train_red_pca, y_train)"
   ]
  },
  {
   "cell_type": "code",
   "execution_count": 229,
   "id": "06653060",
   "metadata": {},
   "outputs": [],
   "source": [
    "# We can see some clusters, but they are not very obvious\n",
    "# That's because the Titanic Disaster had a lot of stochastic factors"
   ]
  },
  {
   "cell_type": "code",
   "execution_count": null,
   "id": "3dbfd59d",
   "metadata": {},
   "outputs": [],
   "source": []
  },
  {
   "cell_type": "code",
   "execution_count": 231,
   "id": "86a74374",
   "metadata": {},
   "outputs": [],
   "source": [
    "# Until now, we have (X_train, y_train), (X_test)"
   ]
  },
  {
   "cell_type": "code",
   "execution_count": 233,
   "id": "60604a13",
   "metadata": {},
   "outputs": [],
   "source": [
    "# We can start trying different base models:\n",
    "# -> LinearSVC\n",
    "# -> KNeighborsClassifier\n",
    "# -> Kernelized SVM\n",
    "# -> RandomForest\n",
    "# Then we can combine them into:\n",
    "# -> EnsembleClassifiers\n",
    "# Last, use a grid search on the entire ensemble"
   ]
  },
  {
   "cell_type": "code",
   "execution_count": 234,
   "id": "7b953e33",
   "metadata": {},
   "outputs": [],
   "source": [
    "from sklearn.model_selection import cross_val_score"
   ]
  },
  {
   "cell_type": "code",
   "execution_count": 251,
   "id": "47046447",
   "metadata": {},
   "outputs": [
    {
     "data": {
      "text/plain": [
       "0.8350062421972535"
      ]
     },
     "execution_count": 251,
     "metadata": {},
     "output_type": "execute_result"
    }
   ],
   "source": [
    "# Instead of using the LinearSVC class, I will use the SVC class\n",
    "# with `linear` kernel to be able to use it in a soft voting classifier later on \n",
    "from sklearn.svm import SVC\n",
    "\n",
    "lin_svc = SVC(kernel='linear', probability=True)\n",
    "lin_svc_scores = cross_val_score(linear_svc, X_train, y_train, cv=10)\n",
    "lin_svc_scores.mean()"
   ]
  },
  {
   "cell_type": "code",
   "execution_count": 252,
   "id": "6fbb9324",
   "metadata": {},
   "outputs": [
    {
     "data": {
      "text/plain": [
       "0.7856554307116105"
      ]
     },
     "execution_count": 252,
     "metadata": {},
     "output_type": "execute_result"
    }
   ],
   "source": [
    "from sklearn.neighbors import KNeighborsClassifier\n",
    "\n",
    "knn = KNeighborsClassifier()\n",
    "knn_scores = cross_val_score(knn, X_train, y_train, cv=10)\n",
    "knn_scores.mean()"
   ]
  },
  {
   "cell_type": "code",
   "execution_count": 255,
   "id": "58fe758c",
   "metadata": {},
   "outputs": [
    {
     "data": {
      "text/plain": [
       "0.8013233458177279"
      ]
     },
     "execution_count": 255,
     "metadata": {},
     "output_type": "execute_result"
    }
   ],
   "source": [
    "from sklearn.svm import SVC\n",
    "\n",
    "svc = SVC(probability=True)\n",
    "svc_scores = cross_val_score(svc, X_train, y_train, cv=10)\n",
    "svc_scores.mean()"
   ]
  },
  {
   "cell_type": "code",
   "execution_count": 239,
   "id": "f965e631",
   "metadata": {},
   "outputs": [
    {
     "data": {
      "text/plain": [
       "0.8148564294631712"
      ]
     },
     "execution_count": 239,
     "metadata": {},
     "output_type": "execute_result"
    }
   ],
   "source": [
    "from sklearn.ensemble import RandomForestClassifier\n",
    "\n",
    "rnd_forest = RandomForestClassifier()\n",
    "rnd_forest_scores = cross_val_score(rnd_forest, X_train, y_train, cv=10)\n",
    "rnd_forest_scores.mean()"
   ]
  },
  {
   "cell_type": "code",
   "execution_count": 272,
   "id": "e32064b6",
   "metadata": {},
   "outputs": [],
   "source": [
    "from sklearn.ensemble import VotingClassifier\n",
    "\n",
    "voting = VotingClassifier(estimators=[\n",
    "    ('lin_svc', lin_svc),\n",
    "    ('knn', knn),\n",
    "    ('svc', svc),\n",
    "    ('rnd_forest', rnd_forest),\n",
    "], voting='soft')"
   ]
  },
  {
   "cell_type": "code",
   "execution_count": 257,
   "id": "222cb466",
   "metadata": {},
   "outputs": [
    {
     "data": {
      "text/plain": [
       "0.8260299625468164"
      ]
     },
     "execution_count": 257,
     "metadata": {},
     "output_type": "execute_result"
    }
   ],
   "source": [
    "voting_scores = cross_val_score(voting, X_train, y_train, cv=10)\n",
    "voting_scores.mean()"
   ]
  },
  {
   "cell_type": "code",
   "execution_count": null,
   "id": "dbaae3de",
   "metadata": {},
   "outputs": [],
   "source": [
    "# 82.6% for the soft voting classifier\n",
    "# The score is not higher that the best predictor,\n",
    "# but maybe it will generalize better (on new instances)"
   ]
  },
  {
   "cell_type": "code",
   "execution_count": null,
   "id": "345b10c1",
   "metadata": {},
   "outputs": [],
   "source": []
  },
  {
   "cell_type": "code",
   "execution_count": 266,
   "id": "06d3fe57",
   "metadata": {},
   "outputs": [],
   "source": [
    "from sklearn.metrics import mean_squared_error\n",
    "from sklearn.model_selection import train_test_split\n",
    "\n",
    "def plot_learning_curves(model, X, y):\n",
    "    X_train, X_val, y_train, y_val = train_test_split(X, y, test_size=0.2, random_state=10)\n",
    "    train_errors, val_errors = [], []\n",
    "    \n",
    "    # Select a sized subset from the training set (10 instances, 11 instances,..., until all instances)\n",
    "    for m in range(10, len(X_train) + 1):\n",
    "        # Fit the model on that subset\n",
    "        model.fit(X_train[:m], y_train[:m])\n",
    "        \n",
    "        # Predict on the training subset\n",
    "        y_train_predict = model.predict(X_train[:m])\n",
    "        \n",
    "        # Predict on the validation subset\n",
    "        y_val_predict = model.predict(X_val)\n",
    "        \n",
    "        # Save the train and validation errors\n",
    "        train_errors.append(mean_squared_error(y_train[:m], y_train_predict))\n",
    "        val_errors.append(mean_squared_error(y_val, y_val_predict))\n",
    "\n",
    "    # Plot the results\n",
    "    plt.plot(np.sqrt(train_errors), \"r-+\", linewidth=2, label=\"train\")\n",
    "    plt.plot(np.sqrt(val_errors), \"b-\", linewidth=3, label=\"val\")\n",
    "    \n",
    "    plt.legend(loc=\"upper right\", fontsize=14)\n",
    "    \n",
    "    plt.xlabel(\"Training set size\", fontsize=14)\n",
    "    plt.ylabel(\"RMSE\", fontsize=14)"
   ]
  },
  {
   "cell_type": "code",
   "execution_count": 264,
   "id": "a0c4e27c",
   "metadata": {},
   "outputs": [
    {
     "data": {
      "image/png": "[encoded data removed]",
      "text/plain": [
       "<Figure size 432x288 with 1 Axes>"
      ]
     },
     "metadata": {
      "needs_background": "light"
     },
     "output_type": "display_data"
    }
   ],
   "source": [
    "plot_learning_curves(lin_svc, X_train, y_train)\n",
    "# There is a gap between the curves. This means that the `lin_svc` model performs\n",
    "# significantly better on the training data than on the validation data (overfitting)\n",
    "\n",
    "# If we had more data, we could try to feed the model with more training data,\n",
    "# until the validation error reaches the training error"
   ]
  },
  {
   "cell_type": "code",
   "execution_count": 267,
   "id": "0ac46845",
   "metadata": {},
   "outputs": [
    {
     "data": {
      "image/png": "[encoded data removed]",
      "text/plain": [
       "<Figure size 432x288 with 1 Axes>"
      ]
     },
     "metadata": {
      "needs_background": "light"
     },
     "output_type": "display_data"
    }
   ],
   "source": [
    "plot_learning_curves(knn, X_train, y_train)\n",
    "# These learning curves are typical of a model that's underfitting\n",
    "# Both curves have reached a plateu and they are close\n",
    "\n",
    "# The good thing is the RMSE isn't very high"
   ]
  },
  {
   "cell_type": "code",
   "execution_count": 268,
   "id": "9e46a799",
   "metadata": {},
   "outputs": [
    {
     "data": {
      "image/png": "[encoded data removed]",
      "text/plain": [
       "<Figure size 432x288 with 1 Axes>"
      ]
     },
     "metadata": {
      "needs_background": "light"
     },
     "output_type": "display_data"
    }
   ],
   "source": [
    "plot_learning_curves(svc, X_train, y_train)\n",
    "# This model generalizes better than the others"
   ]
  },
  {
   "cell_type": "code",
   "execution_count": 269,
   "id": "6cbbceeb",
   "metadata": {},
   "outputs": [
    {
     "data": {
      "image/png": "[encoded data removed]",
      "text/plain": [
       "<Figure size 432x288 with 1 Axes>"
      ]
     },
     "metadata": {
      "needs_background": "light"
     },
     "output_type": "display_data"
    }
   ],
   "source": [
    "plot_learning_curves(rnd_forest, X_train, y_train)\n",
    "# This model is overfitting the training set"
   ]
  },
  {
   "cell_type": "code",
   "execution_count": 270,
   "id": "583b194f",
   "metadata": {},
   "outputs": [
    {
     "data": {
      "image/png": "[encoded data removed]",
      "text/plain": [
       "<Figure size 432x288 with 1 Axes>"
      ]
     },
     "metadata": {
      "needs_background": "light"
     },
     "output_type": "display_data"
    }
   ],
   "source": [
    "plot_learning_curves(voting, X_train, y_train)\n",
    "# The plot looks ok, but there is room for improvement"
   ]
  },
  {
   "cell_type": "code",
   "execution_count": null,
   "id": "48fb4c9e",
   "metadata": {},
   "outputs": [],
   "source": []
  },
  {
   "cell_type": "code",
   "execution_count": 271,
   "id": "f23531e6",
   "metadata": {},
   "outputs": [],
   "source": [
    "# We can keep the `knn` and `svc` as they are\n",
    "# and regularize `lin_svc` and `rnd_forest`"
   ]
  },
  {
   "cell_type": "code",
   "execution_count": null,
   "id": "bd9cad57",
   "metadata": {},
   "outputs": [],
   "source": []
  },
  {
   "cell_type": "code",
   "execution_count": null,
   "id": "0be82826",
   "metadata": {},
   "outputs": [],
   "source": [
    "# voting = VotingClassifier(estimators=[\n",
    "#     ('lin_svc', lin_svc),\n",
    "#     ('knn', knn),\n",
    "#     ('svc', svc),\n",
    "#     ('rnd_forest', rnd_forest),\n",
    "# ], voting='soft')"
   ]
  },
  {
   "cell_type": "code",
   "execution_count": 290,
   "id": "2db0550e",
   "metadata": {},
   "outputs": [],
   "source": [
    "from sklearn.model_selection import GridSearchCV\n",
    "\n",
    "param_grid = {\n",
    "    'lin_svc__C': [0.1, 0.25, 0.5, 0.75, 1],\n",
    "    'rnd_forest__max_depth': [None, 25, 50, 75, 100],\n",
    "    'rnd_forest__n_estimators': [75, 100, 125],\n",
    "}\n",
    "\n",
    "grid = GridSearchCV(estimator=voting, param_grid=param_grid, cv=3, verbose=2)"
   ]
  },
  {
   "cell_type": "code",
   "execution_count": 291,
   "id": "24ff486b",
   "metadata": {
    "scrolled": true
   },
   "outputs": [
    {
     "name": "stdout",
     "output_type": "stream",
     "text": [
      "Fitting 3 folds for each of 75 candidates, totalling 225 fits\n",
      "[CV] END lin_svc__C=0.1, rnd_forest__max_depth=None, rnd_forest__n_estimators=75; total time=   0.9s\n",
      "[CV] END lin_svc__C=0.1, rnd_forest__max_depth=None, rnd_forest__n_estimators=75; total time=   1.0s\n",
      "[CV] END lin_svc__C=0.1, rnd_forest__max_depth=None, rnd_forest__n_estimators=75; total time=   0.9s\n",
      "[CV] END lin_svc__C=0.1, rnd_forest__max_depth=None, rnd_forest__n_estimators=100; total time=   1.1s\n",
      "[CV] END lin_svc__C=0.1, rnd_forest__max_depth=None, rnd_forest__n_estimators=100; total time=   0.9s\n",
      "[CV] END lin_svc__C=0.1, rnd_forest__max_depth=None, rnd_forest__n_estimators=100; total time=   1.0s\n",
      "[CV] END lin_svc__C=0.1, rnd_forest__max_depth=None, rnd_forest__n_estimators=125; total time=   1.0s\n",
      "[CV] END lin_svc__C=0.1, rnd_forest__max_depth=None, rnd_forest__n_estimators=125; total time=   1.0s\n",
      "[CV] END lin_svc__C=0.1, rnd_forest__max_depth=None, rnd_forest__n_estimators=125; total time=   1.2s\n",
      "[CV] END lin_svc__C=0.1, rnd_forest__max_depth=25, rnd_forest__n_estimators=75; total time=   1.0s\n",
      "[CV] END lin_svc__C=0.1, rnd_forest__max_depth=25, rnd_forest__n_estimators=75; total time=   0.8s\n",
      "[CV] END lin_svc__C=0.1, rnd_forest__max_depth=25, rnd_forest__n_estimators=75; total time=   0.9s\n",
      "[CV] END lin_svc__C=0.1, rnd_forest__max_depth=25, rnd_forest__n_estimators=100; total time=   1.0s\n",
      "[CV] END lin_svc__C=0.1, rnd_forest__max_depth=25, rnd_forest__n_estimators=100; total time=   1.1s\n",
      "[CV] END lin_svc__C=0.1, rnd_forest__max_depth=25, rnd_forest__n_estimators=100; total time=   1.1s\n",
      "[CV] END lin_svc__C=0.1, rnd_forest__max_depth=25, rnd_forest__n_estimators=125; total time=   1.1s\n",
      "[CV] END lin_svc__C=0.1, rnd_forest__max_depth=25, rnd_forest__n_estimators=125; total time=   1.1s\n",
      "[CV] END lin_svc__C=0.1, rnd_forest__max_depth=25, rnd_forest__n_estimators=125; total time=   1.0s\n",
      "[CV] END lin_svc__C=0.1, rnd_forest__max_depth=50, rnd_forest__n_estimators=75; total time=   0.9s\n",
      "[CV] END lin_svc__C=0.1, rnd_forest__max_depth=50, rnd_forest__n_estimators=75; total time=   1.0s\n",
      "[CV] END lin_svc__C=0.1, rnd_forest__max_depth=50, rnd_forest__n_estimators=75; total time=   1.2s\n",
      "[CV] END lin_svc__C=0.1, rnd_forest__max_depth=50, rnd_forest__n_estimators=100; total time=   1.2s\n",
      "[CV] END lin_svc__C=0.1, rnd_forest__max_depth=50, rnd_forest__n_estimators=100; total time=   1.1s\n",
      "[CV] END lin_svc__C=0.1, rnd_forest__max_depth=50, rnd_forest__n_estimators=100; total time=   1.2s\n",
      "[CV] END lin_svc__C=0.1, rnd_forest__max_depth=50, rnd_forest__n_estimators=125; total time=   1.1s\n",
      "[CV] END lin_svc__C=0.1, rnd_forest__max_depth=50, rnd_forest__n_estimators=125; total time=   1.0s\n",
      "[CV] END lin_svc__C=0.1, rnd_forest__max_depth=50, rnd_forest__n_estimators=125; total time=   1.4s\n",
      "[CV] END lin_svc__C=0.1, rnd_forest__max_depth=75, rnd_forest__n_estimators=75; total time=   1.0s\n",
      "[CV] END lin_svc__C=0.1, rnd_forest__max_depth=75, rnd_forest__n_estimators=75; total time=   1.1s\n",
      "[CV] END lin_svc__C=0.1, rnd_forest__max_depth=75, rnd_forest__n_estimators=75; total time=   1.1s\n",
      "[CV] END lin_svc__C=0.1, rnd_forest__max_depth=75, rnd_forest__n_estimators=100; total time=   1.0s\n",
      "[CV] END lin_svc__C=0.1, rnd_forest__max_depth=75, rnd_forest__n_estimators=100; total time=   1.1s\n",
      "[CV] END lin_svc__C=0.1, rnd_forest__max_depth=75, rnd_forest__n_estimators=100; total time=   1.1s\n",
      "[CV] END lin_svc__C=0.1, rnd_forest__max_depth=75, rnd_forest__n_estimators=125; total time=   1.2s\n",
      "[CV] END lin_svc__C=0.1, rnd_forest__max_depth=75, rnd_forest__n_estimators=125; total time=   1.1s\n",
      "[CV] END lin_svc__C=0.1, rnd_forest__max_depth=75, rnd_forest__n_estimators=125; total time=   1.2s\n",
      "[CV] END lin_svc__C=0.1, rnd_forest__max_depth=100, rnd_forest__n_estimators=75; total time=   1.1s\n",
      "[CV] END lin_svc__C=0.1, rnd_forest__max_depth=100, rnd_forest__n_estimators=75; total time=   0.9s\n",
      "[CV] END lin_svc__C=0.1, rnd_forest__max_depth=100, rnd_forest__n_estimators=75; total time=   1.2s\n",
      "[CV] END lin_svc__C=0.1, rnd_forest__max_depth=100, rnd_forest__n_estimators=100; total time=   1.0s\n",
      "[CV] END lin_svc__C=0.1, rnd_forest__max_depth=100, rnd_forest__n_estimators=100; total time=   0.9s\n",
      "[CV] END lin_svc__C=0.1, rnd_forest__max_depth=100, rnd_forest__n_estimators=100; total time=   1.0s\n",
      "[CV] END lin_svc__C=0.1, rnd_forest__max_depth=100, rnd_forest__n_estimators=125; total time=   1.1s\n",
      "[CV] END lin_svc__C=0.1, rnd_forest__max_depth=100, rnd_forest__n_estimators=125; total time=   1.1s\n",
      "[CV] END lin_svc__C=0.1, rnd_forest__max_depth=100, rnd_forest__n_estimators=125; total time=   1.4s\n",
      "[CV] END lin_svc__C=0.25, rnd_forest__max_depth=None, rnd_forest__n_estimators=75; total time=   0.9s\n",
      "[CV] END lin_svc__C=0.25, rnd_forest__max_depth=None, rnd_forest__n_estimators=75; total time=   1.0s\n",
      "[CV] END lin_svc__C=0.25, rnd_forest__max_depth=None, rnd_forest__n_estimators=75; total time=   0.9s\n",
      "[CV] END lin_svc__C=0.25, rnd_forest__max_depth=None, rnd_forest__n_estimators=100; total time=   1.0s\n",
      "[CV] END lin_svc__C=0.25, rnd_forest__max_depth=None, rnd_forest__n_estimators=100; total time=   1.1s\n",
      "[CV] END lin_svc__C=0.25, rnd_forest__max_depth=None, rnd_forest__n_estimators=100; total time=   1.5s\n",
      "[CV] END lin_svc__C=0.25, rnd_forest__max_depth=None, rnd_forest__n_estimators=125; total time=   1.2s\n",
      "[CV] END lin_svc__C=0.25, rnd_forest__max_depth=None, rnd_forest__n_estimators=125; total time=   1.7s\n",
      "[CV] END lin_svc__C=0.25, rnd_forest__max_depth=None, rnd_forest__n_estimators=125; total time=   1.3s\n",
      "[CV] END lin_svc__C=0.25, rnd_forest__max_depth=25, rnd_forest__n_estimators=75; total time=   0.9s\n",
      "[CV] END lin_svc__C=0.25, rnd_forest__max_depth=25, rnd_forest__n_estimators=75; total time=   1.1s\n",
      "[CV] END lin_svc__C=0.25, rnd_forest__max_depth=25, rnd_forest__n_estimators=75; total time=   1.1s\n",
      "[CV] END lin_svc__C=0.25, rnd_forest__max_depth=25, rnd_forest__n_estimators=100; total time=   0.9s\n",
      "[CV] END lin_svc__C=0.25, rnd_forest__max_depth=25, rnd_forest__n_estimators=100; total time=   0.9s\n",
      "[CV] END lin_svc__C=0.25, rnd_forest__max_depth=25, rnd_forest__n_estimators=100; total time=   1.0s\n",
      "[CV] END lin_svc__C=0.25, rnd_forest__max_depth=25, rnd_forest__n_estimators=125; total time=   1.1s\n",
      "[CV] END lin_svc__C=0.25, rnd_forest__max_depth=25, rnd_forest__n_estimators=125; total time=   1.0s\n",
      "[CV] END lin_svc__C=0.25, rnd_forest__max_depth=25, rnd_forest__n_estimators=125; total time=   1.0s\n",
      "[CV] END lin_svc__C=0.25, rnd_forest__max_depth=50, rnd_forest__n_estimators=75; total time=   0.9s\n",
      "[CV] END lin_svc__C=0.25, rnd_forest__max_depth=50, rnd_forest__n_estimators=75; total time=   0.9s\n",
      "[CV] END lin_svc__C=0.25, rnd_forest__max_depth=50, rnd_forest__n_estimators=75; total time=   1.1s\n",
      "[CV] END lin_svc__C=0.25, rnd_forest__max_depth=50, rnd_forest__n_estimators=100; total time=   1.0s\n",
      "[CV] END lin_svc__C=0.25, rnd_forest__max_depth=50, rnd_forest__n_estimators=100; total time=   1.0s\n",
      "[CV] END lin_svc__C=0.25, rnd_forest__max_depth=50, rnd_forest__n_estimators=100; total time=   1.2s\n",
      "[CV] END lin_svc__C=0.25, rnd_forest__max_depth=50, rnd_forest__n_estimators=125; total time=   1.5s\n",
      "[CV] END lin_svc__C=0.25, rnd_forest__max_depth=50, rnd_forest__n_estimators=125; total time=   1.1s\n",
      "[CV] END lin_svc__C=0.25, rnd_forest__max_depth=50, rnd_forest__n_estimators=125; total time=   1.2s\n",
      "[CV] END lin_svc__C=0.25, rnd_forest__max_depth=75, rnd_forest__n_estimators=75; total time=   0.9s\n",
      "[CV] END lin_svc__C=0.25, rnd_forest__max_depth=75, rnd_forest__n_estimators=75; total time=   0.9s\n",
      "[CV] END lin_svc__C=0.25, rnd_forest__max_depth=75, rnd_forest__n_estimators=75; total time=   0.9s\n",
      "[CV] END lin_svc__C=0.25, rnd_forest__max_depth=75, rnd_forest__n_estimators=100; total time=   1.2s\n",
      "[CV] END lin_svc__C=0.25, rnd_forest__max_depth=75, rnd_forest__n_estimators=100; total time=   1.2s\n",
      "[CV] END lin_svc__C=0.25, rnd_forest__max_depth=75, rnd_forest__n_estimators=100; total time=   1.3s\n",
      "[CV] END lin_svc__C=0.25, rnd_forest__max_depth=75, rnd_forest__n_estimators=125; total time=   1.3s\n",
      "[CV] END lin_svc__C=0.25, rnd_forest__max_depth=75, rnd_forest__n_estimators=125; total time=   1.2s\n",
      "[CV] END lin_svc__C=0.25, rnd_forest__max_depth=75, rnd_forest__n_estimators=125; total time=   1.2s\n"
     ]
    },
    {
     "name": "stdout",
     "output_type": "stream",
     "text": [
      "[CV] END lin_svc__C=0.25, rnd_forest__max_depth=100, rnd_forest__n_estimators=75; total time=   0.9s\n",
      "[CV] END lin_svc__C=0.25, rnd_forest__max_depth=100, rnd_forest__n_estimators=75; total time=   0.9s\n",
      "[CV] END lin_svc__C=0.25, rnd_forest__max_depth=100, rnd_forest__n_estimators=75; total time=   1.1s\n",
      "[CV] END lin_svc__C=0.25, rnd_forest__max_depth=100, rnd_forest__n_estimators=100; total time=   1.0s\n",
      "[CV] END lin_svc__C=0.25, rnd_forest__max_depth=100, rnd_forest__n_estimators=100; total time=   1.1s\n",
      "[CV] END lin_svc__C=0.25, rnd_forest__max_depth=100, rnd_forest__n_estimators=100; total time=   1.1s\n",
      "[CV] END lin_svc__C=0.25, rnd_forest__max_depth=100, rnd_forest__n_estimators=125; total time=   1.1s\n",
      "[CV] END lin_svc__C=0.25, rnd_forest__max_depth=100, rnd_forest__n_estimators=125; total time=   1.3s\n",
      "[CV] END lin_svc__C=0.25, rnd_forest__max_depth=100, rnd_forest__n_estimators=125; total time=   1.0s\n",
      "[CV] END lin_svc__C=0.5, rnd_forest__max_depth=None, rnd_forest__n_estimators=75; total time=   0.8s\n",
      "[CV] END lin_svc__C=0.5, rnd_forest__max_depth=None, rnd_forest__n_estimators=75; total time=   1.1s\n",
      "[CV] END lin_svc__C=0.5, rnd_forest__max_depth=None, rnd_forest__n_estimators=75; total time=   0.9s\n",
      "[CV] END lin_svc__C=0.5, rnd_forest__max_depth=None, rnd_forest__n_estimators=100; total time=   1.0s\n",
      "[CV] END lin_svc__C=0.5, rnd_forest__max_depth=None, rnd_forest__n_estimators=100; total time=   1.0s\n",
      "[CV] END lin_svc__C=0.5, rnd_forest__max_depth=None, rnd_forest__n_estimators=100; total time=   1.4s\n",
      "[CV] END lin_svc__C=0.5, rnd_forest__max_depth=None, rnd_forest__n_estimators=125; total time=   1.4s\n",
      "[CV] END lin_svc__C=0.5, rnd_forest__max_depth=None, rnd_forest__n_estimators=125; total time=   1.6s\n",
      "[CV] END lin_svc__C=0.5, rnd_forest__max_depth=None, rnd_forest__n_estimators=125; total time=   1.2s\n",
      "[CV] END lin_svc__C=0.5, rnd_forest__max_depth=25, rnd_forest__n_estimators=75; total time=   0.8s\n",
      "[CV] END lin_svc__C=0.5, rnd_forest__max_depth=25, rnd_forest__n_estimators=75; total time=   1.0s\n",
      "[CV] END lin_svc__C=0.5, rnd_forest__max_depth=25, rnd_forest__n_estimators=75; total time=   1.1s\n",
      "[CV] END lin_svc__C=0.5, rnd_forest__max_depth=25, rnd_forest__n_estimators=100; total time=   1.5s\n",
      "[CV] END lin_svc__C=0.5, rnd_forest__max_depth=25, rnd_forest__n_estimators=100; total time=   1.0s\n",
      "[CV] END lin_svc__C=0.5, rnd_forest__max_depth=25, rnd_forest__n_estimators=100; total time=   1.0s\n",
      "[CV] END lin_svc__C=0.5, rnd_forest__max_depth=25, rnd_forest__n_estimators=125; total time=   1.0s\n",
      "[CV] END lin_svc__C=0.5, rnd_forest__max_depth=25, rnd_forest__n_estimators=125; total time=   1.1s\n",
      "[CV] END lin_svc__C=0.5, rnd_forest__max_depth=25, rnd_forest__n_estimators=125; total time=   1.0s\n",
      "[CV] END lin_svc__C=0.5, rnd_forest__max_depth=50, rnd_forest__n_estimators=75; total time=   1.0s\n",
      "[CV] END lin_svc__C=0.5, rnd_forest__max_depth=50, rnd_forest__n_estimators=75; total time=   1.0s\n",
      "[CV] END lin_svc__C=0.5, rnd_forest__max_depth=50, rnd_forest__n_estimators=75; total time=   1.0s\n",
      "[CV] END lin_svc__C=0.5, rnd_forest__max_depth=50, rnd_forest__n_estimators=100; total time=   1.1s\n",
      "[CV] END lin_svc__C=0.5, rnd_forest__max_depth=50, rnd_forest__n_estimators=100; total time=   1.1s\n",
      "[CV] END lin_svc__C=0.5, rnd_forest__max_depth=50, rnd_forest__n_estimators=100; total time=   1.1s\n",
      "[CV] END lin_svc__C=0.5, rnd_forest__max_depth=50, rnd_forest__n_estimators=125; total time=   1.2s\n",
      "[CV] END lin_svc__C=0.5, rnd_forest__max_depth=50, rnd_forest__n_estimators=125; total time=   1.1s\n",
      "[CV] END lin_svc__C=0.5, rnd_forest__max_depth=50, rnd_forest__n_estimators=125; total time=   1.1s\n",
      "[CV] END lin_svc__C=0.5, rnd_forest__max_depth=75, rnd_forest__n_estimators=75; total time=   1.0s\n",
      "[CV] END lin_svc__C=0.5, rnd_forest__max_depth=75, rnd_forest__n_estimators=75; total time=   1.0s\n",
      "[CV] END lin_svc__C=0.5, rnd_forest__max_depth=75, rnd_forest__n_estimators=75; total time=   1.1s\n",
      "[CV] END lin_svc__C=0.5, rnd_forest__max_depth=75, rnd_forest__n_estimators=100; total time=   1.1s\n",
      "[CV] END lin_svc__C=0.5, rnd_forest__max_depth=75, rnd_forest__n_estimators=100; total time=   1.1s\n",
      "[CV] END lin_svc__C=0.5, rnd_forest__max_depth=75, rnd_forest__n_estimators=100; total time=   1.2s\n",
      "[CV] END lin_svc__C=0.5, rnd_forest__max_depth=75, rnd_forest__n_estimators=125; total time=   1.4s\n",
      "[CV] END lin_svc__C=0.5, rnd_forest__max_depth=75, rnd_forest__n_estimators=125; total time=   1.4s\n",
      "[CV] END lin_svc__C=0.5, rnd_forest__max_depth=75, rnd_forest__n_estimators=125; total time=   1.2s\n",
      "[CV] END lin_svc__C=0.5, rnd_forest__max_depth=100, rnd_forest__n_estimators=75; total time=   1.0s\n",
      "[CV] END lin_svc__C=0.5, rnd_forest__max_depth=100, rnd_forest__n_estimators=75; total time=   0.9s\n",
      "[CV] END lin_svc__C=0.5, rnd_forest__max_depth=100, rnd_forest__n_estimators=75; total time=   1.0s\n",
      "[CV] END lin_svc__C=0.5, rnd_forest__max_depth=100, rnd_forest__n_estimators=100; total time=   0.9s\n",
      "[CV] END lin_svc__C=0.5, rnd_forest__max_depth=100, rnd_forest__n_estimators=100; total time=   1.1s\n",
      "[CV] END lin_svc__C=0.5, rnd_forest__max_depth=100, rnd_forest__n_estimators=100; total time=   0.9s\n",
      "[CV] END lin_svc__C=0.5, rnd_forest__max_depth=100, rnd_forest__n_estimators=125; total time=   1.0s\n",
      "[CV] END lin_svc__C=0.5, rnd_forest__max_depth=100, rnd_forest__n_estimators=125; total time=   1.1s\n",
      "[CV] END lin_svc__C=0.5, rnd_forest__max_depth=100, rnd_forest__n_estimators=125; total time=   1.0s\n",
      "[CV] END lin_svc__C=0.75, rnd_forest__max_depth=None, rnd_forest__n_estimators=75; total time=   0.8s\n",
      "[CV] END lin_svc__C=0.75, rnd_forest__max_depth=None, rnd_forest__n_estimators=75; total time=   0.9s\n",
      "[CV] END lin_svc__C=0.75, rnd_forest__max_depth=None, rnd_forest__n_estimators=75; total time=   0.9s\n",
      "[CV] END lin_svc__C=0.75, rnd_forest__max_depth=None, rnd_forest__n_estimators=100; total time=   0.9s\n",
      "[CV] END lin_svc__C=0.75, rnd_forest__max_depth=None, rnd_forest__n_estimators=100; total time=   1.1s\n",
      "[CV] END lin_svc__C=0.75, rnd_forest__max_depth=None, rnd_forest__n_estimators=100; total time=   1.2s\n",
      "[CV] END lin_svc__C=0.75, rnd_forest__max_depth=None, rnd_forest__n_estimators=125; total time=   1.1s\n",
      "[CV] END lin_svc__C=0.75, rnd_forest__max_depth=None, rnd_forest__n_estimators=125; total time=   1.1s\n",
      "[CV] END lin_svc__C=0.75, rnd_forest__max_depth=None, rnd_forest__n_estimators=125; total time=   1.1s\n",
      "[CV] END lin_svc__C=0.75, rnd_forest__max_depth=25, rnd_forest__n_estimators=75; total time=   1.0s\n",
      "[CV] END lin_svc__C=0.75, rnd_forest__max_depth=25, rnd_forest__n_estimators=75; total time=   1.3s\n",
      "[CV] END lin_svc__C=0.75, rnd_forest__max_depth=25, rnd_forest__n_estimators=75; total time=   1.0s\n",
      "[CV] END lin_svc__C=0.75, rnd_forest__max_depth=25, rnd_forest__n_estimators=100; total time=   1.1s\n",
      "[CV] END lin_svc__C=0.75, rnd_forest__max_depth=25, rnd_forest__n_estimators=100; total time=   1.3s\n",
      "[CV] END lin_svc__C=0.75, rnd_forest__max_depth=25, rnd_forest__n_estimators=100; total time=   1.2s\n",
      "[CV] END lin_svc__C=0.75, rnd_forest__max_depth=25, rnd_forest__n_estimators=125; total time=   1.0s\n",
      "[CV] END lin_svc__C=0.75, rnd_forest__max_depth=25, rnd_forest__n_estimators=125; total time=   1.2s\n",
      "[CV] END lin_svc__C=0.75, rnd_forest__max_depth=25, rnd_forest__n_estimators=125; total time=   1.0s\n",
      "[CV] END lin_svc__C=0.75, rnd_forest__max_depth=50, rnd_forest__n_estimators=75; total time=   1.0s\n",
      "[CV] END lin_svc__C=0.75, rnd_forest__max_depth=50, rnd_forest__n_estimators=75; total time=   0.9s\n",
      "[CV] END lin_svc__C=0.75, rnd_forest__max_depth=50, rnd_forest__n_estimators=75; total time=   0.9s\n",
      "[CV] END lin_svc__C=0.75, rnd_forest__max_depth=50, rnd_forest__n_estimators=100; total time=   0.9s\n",
      "[CV] END lin_svc__C=0.75, rnd_forest__max_depth=50, rnd_forest__n_estimators=100; total time=   0.9s\n",
      "[CV] END lin_svc__C=0.75, rnd_forest__max_depth=50, rnd_forest__n_estimators=100; total time=   1.0s\n",
      "[CV] END lin_svc__C=0.75, rnd_forest__max_depth=50, rnd_forest__n_estimators=125; total time=   1.0s\n",
      "[CV] END lin_svc__C=0.75, rnd_forest__max_depth=50, rnd_forest__n_estimators=125; total time=   1.0s\n",
      "[CV] END lin_svc__C=0.75, rnd_forest__max_depth=50, rnd_forest__n_estimators=125; total time=   1.0s\n",
      "[CV] END lin_svc__C=0.75, rnd_forest__max_depth=75, rnd_forest__n_estimators=75; total time=   0.9s\n"
     ]
    },
    {
     "name": "stdout",
     "output_type": "stream",
     "text": [
      "[CV] END lin_svc__C=0.75, rnd_forest__max_depth=75, rnd_forest__n_estimators=75; total time=   0.9s\n",
      "[CV] END lin_svc__C=0.75, rnd_forest__max_depth=75, rnd_forest__n_estimators=75; total time=   0.9s\n",
      "[CV] END lin_svc__C=0.75, rnd_forest__max_depth=75, rnd_forest__n_estimators=100; total time=   0.9s\n",
      "[CV] END lin_svc__C=0.75, rnd_forest__max_depth=75, rnd_forest__n_estimators=100; total time=   0.9s\n",
      "[CV] END lin_svc__C=0.75, rnd_forest__max_depth=75, rnd_forest__n_estimators=100; total time=   0.9s\n",
      "[CV] END lin_svc__C=0.75, rnd_forest__max_depth=75, rnd_forest__n_estimators=125; total time=   1.0s\n",
      "[CV] END lin_svc__C=0.75, rnd_forest__max_depth=75, rnd_forest__n_estimators=125; total time=   1.0s\n",
      "[CV] END lin_svc__C=0.75, rnd_forest__max_depth=75, rnd_forest__n_estimators=125; total time=   1.0s\n",
      "[CV] END lin_svc__C=0.75, rnd_forest__max_depth=100, rnd_forest__n_estimators=75; total time=   0.9s\n",
      "[CV] END lin_svc__C=0.75, rnd_forest__max_depth=100, rnd_forest__n_estimators=75; total time=   0.8s\n",
      "[CV] END lin_svc__C=0.75, rnd_forest__max_depth=100, rnd_forest__n_estimators=75; total time=   0.9s\n",
      "[CV] END lin_svc__C=0.75, rnd_forest__max_depth=100, rnd_forest__n_estimators=100; total time=   0.9s\n",
      "[CV] END lin_svc__C=0.75, rnd_forest__max_depth=100, rnd_forest__n_estimators=100; total time=   0.9s\n",
      "[CV] END lin_svc__C=0.75, rnd_forest__max_depth=100, rnd_forest__n_estimators=100; total time=   1.0s\n",
      "[CV] END lin_svc__C=0.75, rnd_forest__max_depth=100, rnd_forest__n_estimators=125; total time=   1.0s\n",
      "[CV] END lin_svc__C=0.75, rnd_forest__max_depth=100, rnd_forest__n_estimators=125; total time=   1.0s\n",
      "[CV] END lin_svc__C=0.75, rnd_forest__max_depth=100, rnd_forest__n_estimators=125; total time=   1.0s\n",
      "[CV] END lin_svc__C=1, rnd_forest__max_depth=None, rnd_forest__n_estimators=75; total time=   0.9s\n",
      "[CV] END lin_svc__C=1, rnd_forest__max_depth=None, rnd_forest__n_estimators=75; total time=   1.0s\n",
      "[CV] END lin_svc__C=1, rnd_forest__max_depth=None, rnd_forest__n_estimators=75; total time=   0.9s\n",
      "[CV] END lin_svc__C=1, rnd_forest__max_depth=None, rnd_forest__n_estimators=100; total time=   0.9s\n",
      "[CV] END lin_svc__C=1, rnd_forest__max_depth=None, rnd_forest__n_estimators=100; total time=   0.9s\n",
      "[CV] END lin_svc__C=1, rnd_forest__max_depth=None, rnd_forest__n_estimators=100; total time=   0.9s\n",
      "[CV] END lin_svc__C=1, rnd_forest__max_depth=None, rnd_forest__n_estimators=125; total time=   1.0s\n",
      "[CV] END lin_svc__C=1, rnd_forest__max_depth=None, rnd_forest__n_estimators=125; total time=   1.0s\n",
      "[CV] END lin_svc__C=1, rnd_forest__max_depth=None, rnd_forest__n_estimators=125; total time=   1.1s\n",
      "[CV] END lin_svc__C=1, rnd_forest__max_depth=25, rnd_forest__n_estimators=75; total time=   0.9s\n",
      "[CV] END lin_svc__C=1, rnd_forest__max_depth=25, rnd_forest__n_estimators=75; total time=   0.8s\n",
      "[CV] END lin_svc__C=1, rnd_forest__max_depth=25, rnd_forest__n_estimators=75; total time=   0.8s\n",
      "[CV] END lin_svc__C=1, rnd_forest__max_depth=25, rnd_forest__n_estimators=100; total time=   0.9s\n",
      "[CV] END lin_svc__C=1, rnd_forest__max_depth=25, rnd_forest__n_estimators=100; total time=   0.9s\n",
      "[CV] END lin_svc__C=1, rnd_forest__max_depth=25, rnd_forest__n_estimators=100; total time=   0.9s\n",
      "[CV] END lin_svc__C=1, rnd_forest__max_depth=25, rnd_forest__n_estimators=125; total time=   1.1s\n",
      "[CV] END lin_svc__C=1, rnd_forest__max_depth=25, rnd_forest__n_estimators=125; total time=   0.9s\n",
      "[CV] END lin_svc__C=1, rnd_forest__max_depth=25, rnd_forest__n_estimators=125; total time=   0.9s\n",
      "[CV] END lin_svc__C=1, rnd_forest__max_depth=50, rnd_forest__n_estimators=75; total time=   0.9s\n",
      "[CV] END lin_svc__C=1, rnd_forest__max_depth=50, rnd_forest__n_estimators=75; total time=   1.2s\n",
      "[CV] END lin_svc__C=1, rnd_forest__max_depth=50, rnd_forest__n_estimators=75; total time=   1.0s\n",
      "[CV] END lin_svc__C=1, rnd_forest__max_depth=50, rnd_forest__n_estimators=100; total time=   1.1s\n",
      "[CV] END lin_svc__C=1, rnd_forest__max_depth=50, rnd_forest__n_estimators=100; total time=   1.0s\n",
      "[CV] END lin_svc__C=1, rnd_forest__max_depth=50, rnd_forest__n_estimators=100; total time=   1.0s\n",
      "[CV] END lin_svc__C=1, rnd_forest__max_depth=50, rnd_forest__n_estimators=125; total time=   1.1s\n",
      "[CV] END lin_svc__C=1, rnd_forest__max_depth=50, rnd_forest__n_estimators=125; total time=   1.0s\n",
      "[CV] END lin_svc__C=1, rnd_forest__max_depth=50, rnd_forest__n_estimators=125; total time=   1.0s\n",
      "[CV] END lin_svc__C=1, rnd_forest__max_depth=75, rnd_forest__n_estimators=75; total time=   0.9s\n",
      "[CV] END lin_svc__C=1, rnd_forest__max_depth=75, rnd_forest__n_estimators=75; total time=   0.9s\n",
      "[CV] END lin_svc__C=1, rnd_forest__max_depth=75, rnd_forest__n_estimators=75; total time=   0.9s\n",
      "[CV] END lin_svc__C=1, rnd_forest__max_depth=75, rnd_forest__n_estimators=100; total time=   1.2s\n",
      "[CV] END lin_svc__C=1, rnd_forest__max_depth=75, rnd_forest__n_estimators=100; total time=   1.0s\n",
      "[CV] END lin_svc__C=1, rnd_forest__max_depth=75, rnd_forest__n_estimators=100; total time=   1.1s\n",
      "[CV] END lin_svc__C=1, rnd_forest__max_depth=75, rnd_forest__n_estimators=125; total time=   1.2s\n",
      "[CV] END lin_svc__C=1, rnd_forest__max_depth=75, rnd_forest__n_estimators=125; total time=   1.1s\n",
      "[CV] END lin_svc__C=1, rnd_forest__max_depth=75, rnd_forest__n_estimators=125; total time=   1.1s\n",
      "[CV] END lin_svc__C=1, rnd_forest__max_depth=100, rnd_forest__n_estimators=75; total time=   1.2s\n",
      "[CV] END lin_svc__C=1, rnd_forest__max_depth=100, rnd_forest__n_estimators=75; total time=   1.4s\n",
      "[CV] END lin_svc__C=1, rnd_forest__max_depth=100, rnd_forest__n_estimators=75; total time=   1.0s\n",
      "[CV] END lin_svc__C=1, rnd_forest__max_depth=100, rnd_forest__n_estimators=100; total time=   1.0s\n",
      "[CV] END lin_svc__C=1, rnd_forest__max_depth=100, rnd_forest__n_estimators=100; total time=   1.1s\n",
      "[CV] END lin_svc__C=1, rnd_forest__max_depth=100, rnd_forest__n_estimators=100; total time=   1.0s\n",
      "[CV] END lin_svc__C=1, rnd_forest__max_depth=100, rnd_forest__n_estimators=125; total time=   1.0s\n",
      "[CV] END lin_svc__C=1, rnd_forest__max_depth=100, rnd_forest__n_estimators=125; total time=   1.2s\n",
      "[CV] END lin_svc__C=1, rnd_forest__max_depth=100, rnd_forest__n_estimators=125; total time=   1.1s\n"
     ]
    },
    {
     "data": {
      "text/plain": [
       "GridSearchCV(cv=3,\n",
       "             estimator=VotingClassifier(estimators=[('lin_svc',\n",
       "                                                     SVC(kernel='linear',\n",
       "                                                         probability=True)),\n",
       "                                                    ('knn',\n",
       "                                                     KNeighborsClassifier()),\n",
       "                                                    ('svc',\n",
       "                                                     SVC(probability=True)),\n",
       "                                                    ('rnd_forest',\n",
       "                                                     RandomForestClassifier())],\n",
       "                                        voting='soft'),\n",
       "             param_grid={'lin_svc__C': [0.1, 0.25, 0.5, 0.75, 1],\n",
       "                         'rnd_forest__max_depth': [None, 25, 50, 75, 100],\n",
       "                         'rnd_forest__n_estimators': [75, 100, 125]},\n",
       "             verbose=2)"
      ]
     },
     "execution_count": 291,
     "metadata": {},
     "output_type": "execute_result"
    }
   ],
   "source": [
    "grid.fit(X_train, y_train)"
   ]
  },
  {
   "cell_type": "code",
   "execution_count": 292,
   "id": "43b69fc7",
   "metadata": {},
   "outputs": [
    {
     "data": {
      "text/plain": [
       "{'lin_svc__C': 1, 'rnd_forest__max_depth': 75, 'rnd_forest__n_estimators': 125}"
      ]
     },
     "execution_count": 292,
     "metadata": {},
     "output_type": "execute_result"
    }
   ],
   "source": [
    "grid.best_params_"
   ]
  },
  {
   "cell_type": "code",
   "execution_count": 293,
   "id": "1f1f6ed4",
   "metadata": {},
   "outputs": [
    {
     "data": {
      "text/plain": [
       "VotingClassifier(estimators=[('lin_svc',\n",
       "                              SVC(C=1, kernel='linear', probability=True)),\n",
       "                             ('knn', KNeighborsClassifier()),\n",
       "                             ('svc', SVC(probability=True)),\n",
       "                             ('rnd_forest',\n",
       "                              RandomForestClassifier(max_depth=75,\n",
       "                                                     n_estimators=125))],\n",
       "                 voting='soft')"
      ]
     },
     "execution_count": 293,
     "metadata": {},
     "output_type": "execute_result"
    }
   ],
   "source": [
    "grid.best_estimator_"
   ]
  },
  {
   "cell_type": "code",
   "execution_count": 295,
   "id": "8b1ddbb5",
   "metadata": {},
   "outputs": [
    {
     "data": {
      "text/plain": [
       "0.8237827715355805"
      ]
     },
     "execution_count": 295,
     "metadata": {},
     "output_type": "execute_result"
    }
   ],
   "source": [
    "grid_model = grid.best_estimator_\n",
    "grid_model_scores = cross_val_score(grid_model, X_train, y_train, cv=10)\n",
    "grid_model_scores.mean()"
   ]
  },
  {
   "cell_type": "code",
   "execution_count": 294,
   "id": "235f6411",
   "metadata": {},
   "outputs": [
    {
     "data": {
      "text/plain": [
       "VotingClassifier(estimators=[('lin_svc',\n",
       "                              SVC(C=0.75, kernel='linear', probability=True)),\n",
       "                             ('knn', KNeighborsClassifier()),\n",
       "                             ('svc', SVC(probability=True)),\n",
       "                             ('rnd_forest',\n",
       "                              RandomForestClassifier(max_depth=75,\n",
       "                                                     n_estimators=125))],\n",
       "                 voting='soft')"
      ]
     },
     "execution_count": 294,
     "metadata": {},
     "output_type": "execute_result"
    }
   ],
   "source": [
    "grid_model"
   ]
  },
  {
   "cell_type": "code",
   "execution_count": null,
   "id": "34ece4f2",
   "metadata": {},
   "outputs": [],
   "source": [
    "# This is the final model. Let's plot the learning curves\n",
    "# to see if is any improvement compared to the base models"
   ]
  },
  {
   "cell_type": "code",
   "execution_count": 298,
   "id": "9e1b7d80",
   "metadata": {},
   "outputs": [
    {
     "data": {
      "image/png": "[encoded data removed]",
      "text/plain": [
       "<Figure size 432x288 with 1 Axes>"
      ]
     },
     "metadata": {
      "needs_background": "light"
     },
     "output_type": "display_data"
    }
   ],
   "source": [
    "plot_learning_curves(grid_model, X_train, y_train)\n",
    "# Not the best results, compared to the base models\n",
    "# Maybe next time :("
   ]
  },
  {
   "cell_type": "code",
   "execution_count": 297,
   "id": "516036b9",
   "metadata": {},
   "outputs": [],
   "source": [
    "# Generate the ouput submission file\n",
    "y_pred = grid_model.predict(X_test)\n",
    "\n",
    "submission = pd.DataFrame({\n",
    "    'PassengerId': test.index,\n",
    "    'Survived': y_pred\n",
    "})\n",
    "submission.to_csv('../output/titanic/submission.csv', index=False)"
   ]
  },
  {
   "cell_type": "code",
   "execution_count": null,
   "id": "817c7837",
   "metadata": {},
   "outputs": [],
   "source": []
  }
 ],
 "metadata": {
  "kernelspec": {
   "display_name": "Python 3",
   "language": "python",
   "name": "python3"
  },
  "language_info": {
   "codemirror_mode": {
    "name": "ipython",
    "version": 3
   },
   "file_extension": ".py",
   "mimetype": "text/x-python",
   "name": "python",
   "nbconvert_exporter": "python",
   "pygments_lexer": "ipython3",
   "version": "3.8.8"
  }
 },
 "nbformat": 4,
 "nbformat_minor": 5
}
