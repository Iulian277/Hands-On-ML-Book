{
 "cells": [
  {
   "cell_type": "code",
   "execution_count": 30,
   "id": "9e6a2ceb",
   "metadata": {},
   "outputs": [],
   "source": [
    "# Data processing \n",
    "import numpy as np\n",
    "import pandas as pd\n",
    "\n",
    "# Data vizualisation\n",
    "%matplotlib inline\n",
    "import matplotlib as mpl\n",
    "import matplotlib.pyplot as plt\n",
    "mpl.rc('axes',  labelsize=14)\n",
    "mpl.rc('xtick', labelsize=12)\n",
    "mpl.rc('ytick', labelsize=12)\n",
    "\n",
    "# Models\n",
    "import sklearn\n",
    "\n",
    "# Commons\n",
    "import os\n",
    "RANDOM_STATE = 42\n",
    "np.random.seed(RANDOM_STATE)"
   ]
  },
  {
   "cell_type": "code",
   "execution_count": 31,
   "id": "1195eef1",
   "metadata": {},
   "outputs": [],
   "source": [
    "data = pd.read_csv('../input/brain_tumor/data.csv')"
   ]
  },
  {
   "cell_type": "code",
   "execution_count": 32,
   "id": "afc5ee52",
   "metadata": {},
   "outputs": [
    {
     "data": {
      "text/plain": [
       "(36, 7466)"
      ]
     },
     "execution_count": 32,
     "metadata": {},
     "output_type": "execute_result"
    }
   ],
   "source": [
    "data.shape"
   ]
  },
  {
   "cell_type": "code",
   "execution_count": 33,
   "id": "c2e27b7d",
   "metadata": {},
   "outputs": [
    {
     "data": {
      "text/html": [
       "<div>\n",
       "<style scoped>\n",
       "    .dataframe tbody tr th:only-of-type {\n",
       "        vertical-align: middle;\n",
       "    }\n",
       "\n",
       "    .dataframe tbody tr th {\n",
       "        vertical-align: top;\n",
       "    }\n",
       "\n",
       "    .dataframe thead th {\n",
       "        text-align: right;\n",
       "    }\n",
       "</style>\n",
       "<table border=\"1\" class=\"dataframe\">\n",
       "  <thead>\n",
       "    <tr style=\"text-align: right;\">\n",
       "      <th></th>\n",
       "      <th>Unnamed: 0</th>\n",
       "      <th>X53416</th>\n",
       "      <th>M83670</th>\n",
       "      <th>X90908</th>\n",
       "      <th>M97496</th>\n",
       "      <th>X90908.1</th>\n",
       "      <th>U37019</th>\n",
       "      <th>R48602</th>\n",
       "      <th>T96548</th>\n",
       "      <th>X64559</th>\n",
       "      <th>...</th>\n",
       "      <th>H87456</th>\n",
       "      <th>R64130</th>\n",
       "      <th>H11125.1</th>\n",
       "      <th>U22055</th>\n",
       "      <th>L22524</th>\n",
       "      <th>M13699.1</th>\n",
       "      <th>X54489</th>\n",
       "      <th>T55008</th>\n",
       "      <th>M10065.2</th>\n",
       "      <th>y</th>\n",
       "    </tr>\n",
       "  </thead>\n",
       "  <tbody>\n",
       "    <tr>\n",
       "      <th>0</th>\n",
       "      <td>0</td>\n",
       "      <td>70</td>\n",
       "      <td>-81</td>\n",
       "      <td>25</td>\n",
       "      <td>10</td>\n",
       "      <td>22</td>\n",
       "      <td>113</td>\n",
       "      <td>36</td>\n",
       "      <td>163</td>\n",
       "      <td>9</td>\n",
       "      <td>...</td>\n",
       "      <td>75</td>\n",
       "      <td>5</td>\n",
       "      <td>68</td>\n",
       "      <td>138</td>\n",
       "      <td>53</td>\n",
       "      <td>-4</td>\n",
       "      <td>123</td>\n",
       "      <td>2</td>\n",
       "      <td>19</td>\n",
       "      <td>tumor</td>\n",
       "    </tr>\n",
       "    <tr>\n",
       "      <th>1</th>\n",
       "      <td>1</td>\n",
       "      <td>108</td>\n",
       "      <td>-30</td>\n",
       "      <td>-7</td>\n",
       "      <td>60</td>\n",
       "      <td>0</td>\n",
       "      <td>24</td>\n",
       "      <td>8</td>\n",
       "      <td>113</td>\n",
       "      <td>-3</td>\n",
       "      <td>...</td>\n",
       "      <td>186</td>\n",
       "      <td>6</td>\n",
       "      <td>60</td>\n",
       "      <td>93</td>\n",
       "      <td>140</td>\n",
       "      <td>-3</td>\n",
       "      <td>271</td>\n",
       "      <td>-1</td>\n",
       "      <td>-51</td>\n",
       "      <td>tumor</td>\n",
       "    </tr>\n",
       "    <tr>\n",
       "      <th>2</th>\n",
       "      <td>2</td>\n",
       "      <td>75</td>\n",
       "      <td>-1</td>\n",
       "      <td>5</td>\n",
       "      <td>48</td>\n",
       "      <td>6</td>\n",
       "      <td>34</td>\n",
       "      <td>27</td>\n",
       "      <td>35</td>\n",
       "      <td>-1</td>\n",
       "      <td>...</td>\n",
       "      <td>186</td>\n",
       "      <td>225</td>\n",
       "      <td>94</td>\n",
       "      <td>62</td>\n",
       "      <td>39</td>\n",
       "      <td>-14</td>\n",
       "      <td>127</td>\n",
       "      <td>7</td>\n",
       "      <td>192</td>\n",
       "      <td>tumor</td>\n",
       "    </tr>\n",
       "    <tr>\n",
       "      <th>3</th>\n",
       "      <td>3</td>\n",
       "      <td>871</td>\n",
       "      <td>4</td>\n",
       "      <td>14</td>\n",
       "      <td>78</td>\n",
       "      <td>-6</td>\n",
       "      <td>85</td>\n",
       "      <td>65</td>\n",
       "      <td>227</td>\n",
       "      <td>19</td>\n",
       "      <td>...</td>\n",
       "      <td>77</td>\n",
       "      <td>6</td>\n",
       "      <td>78</td>\n",
       "      <td>30</td>\n",
       "      <td>87</td>\n",
       "      <td>-4</td>\n",
       "      <td>59</td>\n",
       "      <td>3</td>\n",
       "      <td>367</td>\n",
       "      <td>tumor</td>\n",
       "    </tr>\n",
       "    <tr>\n",
       "      <th>4</th>\n",
       "      <td>4</td>\n",
       "      <td>-92</td>\n",
       "      <td>-34</td>\n",
       "      <td>14</td>\n",
       "      <td>19</td>\n",
       "      <td>11</td>\n",
       "      <td>-6</td>\n",
       "      <td>27</td>\n",
       "      <td>-8</td>\n",
       "      <td>9</td>\n",
       "      <td>...</td>\n",
       "      <td>87</td>\n",
       "      <td>303</td>\n",
       "      <td>204</td>\n",
       "      <td>81</td>\n",
       "      <td>105</td>\n",
       "      <td>9</td>\n",
       "      <td>265</td>\n",
       "      <td>-2</td>\n",
       "      <td>126</td>\n",
       "      <td>tumor</td>\n",
       "    </tr>\n",
       "  </tbody>\n",
       "</table>\n",
       "<p>5 rows × 7466 columns</p>\n",
       "</div>"
      ],
      "text/plain": [
       "   Unnamed: 0  X53416  M83670  X90908  M97496  X90908.1  U37019  R48602  \\\n",
       "0           0      70     -81      25      10        22     113      36   \n",
       "1           1     108     -30      -7      60         0      24       8   \n",
       "2           2      75      -1       5      48         6      34      27   \n",
       "3           3     871       4      14      78        -6      85      65   \n",
       "4           4     -92     -34      14      19        11      -6      27   \n",
       "\n",
       "   T96548  X64559  ...  H87456  R64130  H11125.1  U22055  L22524  M13699.1  \\\n",
       "0     163       9  ...      75       5        68     138      53        -4   \n",
       "1     113      -3  ...     186       6        60      93     140        -3   \n",
       "2      35      -1  ...     186     225        94      62      39       -14   \n",
       "3     227      19  ...      77       6        78      30      87        -4   \n",
       "4      -8       9  ...      87     303       204      81     105         9   \n",
       "\n",
       "   X54489  T55008  M10065.2      y  \n",
       "0     123       2        19  tumor  \n",
       "1     271      -1       -51  tumor  \n",
       "2     127       7       192  tumor  \n",
       "3      59       3       367  tumor  \n",
       "4     265      -2       126  tumor  \n",
       "\n",
       "[5 rows x 7466 columns]"
      ]
     },
     "execution_count": 33,
     "metadata": {},
     "output_type": "execute_result"
    }
   ],
   "source": [
    "data.head()"
   ]
  },
  {
   "cell_type": "code",
   "execution_count": 34,
   "id": "bbcc333a",
   "metadata": {},
   "outputs": [
    {
     "data": {
      "text/plain": [
       "Index(['Unnamed: 0', 'X53416', 'M83670', 'X90908', 'M97496', 'X90908.1',\n",
       "       'U37019', 'R48602', 'T96548', 'X64559',\n",
       "       ...\n",
       "       'H87456', 'R64130', 'H11125.1', 'U22055', 'L22524', 'M13699.1',\n",
       "       'X54489', 'T55008', 'M10065.2', 'y'],\n",
       "      dtype='object', length=7466)"
      ]
     },
     "execution_count": 34,
     "metadata": {},
     "output_type": "execute_result"
    }
   ],
   "source": [
    "data.columns"
   ]
  },
  {
   "cell_type": "code",
   "execution_count": 35,
   "id": "f1837d10",
   "metadata": {},
   "outputs": [],
   "source": [
    "data.drop(data.columns[[0]], axis=1, inplace=True)"
   ]
  },
  {
   "cell_type": "code",
   "execution_count": 36,
   "id": "370039ab",
   "metadata": {
    "scrolled": true
   },
   "outputs": [
    {
     "data": {
      "text/html": [
       "<div>\n",
       "<style scoped>\n",
       "    .dataframe tbody tr th:only-of-type {\n",
       "        vertical-align: middle;\n",
       "    }\n",
       "\n",
       "    .dataframe tbody tr th {\n",
       "        vertical-align: top;\n",
       "    }\n",
       "\n",
       "    .dataframe thead th {\n",
       "        text-align: right;\n",
       "    }\n",
       "</style>\n",
       "<table border=\"1\" class=\"dataframe\">\n",
       "  <thead>\n",
       "    <tr style=\"text-align: right;\">\n",
       "      <th></th>\n",
       "      <th>X53416</th>\n",
       "      <th>M83670</th>\n",
       "      <th>X90908</th>\n",
       "      <th>M97496</th>\n",
       "      <th>X90908.1</th>\n",
       "      <th>U37019</th>\n",
       "      <th>R48602</th>\n",
       "      <th>T96548</th>\n",
       "      <th>X64559</th>\n",
       "      <th>T55741</th>\n",
       "      <th>...</th>\n",
       "      <th>H87456</th>\n",
       "      <th>R64130</th>\n",
       "      <th>H11125.1</th>\n",
       "      <th>U22055</th>\n",
       "      <th>L22524</th>\n",
       "      <th>M13699.1</th>\n",
       "      <th>X54489</th>\n",
       "      <th>T55008</th>\n",
       "      <th>M10065.2</th>\n",
       "      <th>y</th>\n",
       "    </tr>\n",
       "  </thead>\n",
       "  <tbody>\n",
       "    <tr>\n",
       "      <th>0</th>\n",
       "      <td>70</td>\n",
       "      <td>-81</td>\n",
       "      <td>25</td>\n",
       "      <td>10</td>\n",
       "      <td>22</td>\n",
       "      <td>113</td>\n",
       "      <td>36</td>\n",
       "      <td>163</td>\n",
       "      <td>9</td>\n",
       "      <td>25</td>\n",
       "      <td>...</td>\n",
       "      <td>75</td>\n",
       "      <td>5</td>\n",
       "      <td>68</td>\n",
       "      <td>138</td>\n",
       "      <td>53</td>\n",
       "      <td>-4</td>\n",
       "      <td>123</td>\n",
       "      <td>2</td>\n",
       "      <td>19</td>\n",
       "      <td>tumor</td>\n",
       "    </tr>\n",
       "    <tr>\n",
       "      <th>1</th>\n",
       "      <td>108</td>\n",
       "      <td>-30</td>\n",
       "      <td>-7</td>\n",
       "      <td>60</td>\n",
       "      <td>0</td>\n",
       "      <td>24</td>\n",
       "      <td>8</td>\n",
       "      <td>113</td>\n",
       "      <td>-3</td>\n",
       "      <td>9</td>\n",
       "      <td>...</td>\n",
       "      <td>186</td>\n",
       "      <td>6</td>\n",
       "      <td>60</td>\n",
       "      <td>93</td>\n",
       "      <td>140</td>\n",
       "      <td>-3</td>\n",
       "      <td>271</td>\n",
       "      <td>-1</td>\n",
       "      <td>-51</td>\n",
       "      <td>tumor</td>\n",
       "    </tr>\n",
       "    <tr>\n",
       "      <th>2</th>\n",
       "      <td>75</td>\n",
       "      <td>-1</td>\n",
       "      <td>5</td>\n",
       "      <td>48</td>\n",
       "      <td>6</td>\n",
       "      <td>34</td>\n",
       "      <td>27</td>\n",
       "      <td>35</td>\n",
       "      <td>-1</td>\n",
       "      <td>4</td>\n",
       "      <td>...</td>\n",
       "      <td>186</td>\n",
       "      <td>225</td>\n",
       "      <td>94</td>\n",
       "      <td>62</td>\n",
       "      <td>39</td>\n",
       "      <td>-14</td>\n",
       "      <td>127</td>\n",
       "      <td>7</td>\n",
       "      <td>192</td>\n",
       "      <td>tumor</td>\n",
       "    </tr>\n",
       "    <tr>\n",
       "      <th>3</th>\n",
       "      <td>871</td>\n",
       "      <td>4</td>\n",
       "      <td>14</td>\n",
       "      <td>78</td>\n",
       "      <td>-6</td>\n",
       "      <td>85</td>\n",
       "      <td>65</td>\n",
       "      <td>227</td>\n",
       "      <td>19</td>\n",
       "      <td>22</td>\n",
       "      <td>...</td>\n",
       "      <td>77</td>\n",
       "      <td>6</td>\n",
       "      <td>78</td>\n",
       "      <td>30</td>\n",
       "      <td>87</td>\n",
       "      <td>-4</td>\n",
       "      <td>59</td>\n",
       "      <td>3</td>\n",
       "      <td>367</td>\n",
       "      <td>tumor</td>\n",
       "    </tr>\n",
       "    <tr>\n",
       "      <th>4</th>\n",
       "      <td>-92</td>\n",
       "      <td>-34</td>\n",
       "      <td>14</td>\n",
       "      <td>19</td>\n",
       "      <td>11</td>\n",
       "      <td>-6</td>\n",
       "      <td>27</td>\n",
       "      <td>-8</td>\n",
       "      <td>9</td>\n",
       "      <td>-5</td>\n",
       "      <td>...</td>\n",
       "      <td>87</td>\n",
       "      <td>303</td>\n",
       "      <td>204</td>\n",
       "      <td>81</td>\n",
       "      <td>105</td>\n",
       "      <td>9</td>\n",
       "      <td>265</td>\n",
       "      <td>-2</td>\n",
       "      <td>126</td>\n",
       "      <td>tumor</td>\n",
       "    </tr>\n",
       "  </tbody>\n",
       "</table>\n",
       "<p>5 rows × 7465 columns</p>\n",
       "</div>"
      ],
      "text/plain": [
       "   X53416  M83670  X90908  M97496  X90908.1  U37019  R48602  T96548  X64559  \\\n",
       "0      70     -81      25      10        22     113      36     163       9   \n",
       "1     108     -30      -7      60         0      24       8     113      -3   \n",
       "2      75      -1       5      48         6      34      27      35      -1   \n",
       "3     871       4      14      78        -6      85      65     227      19   \n",
       "4     -92     -34      14      19        11      -6      27      -8       9   \n",
       "\n",
       "   T55741  ...  H87456  R64130  H11125.1  U22055  L22524  M13699.1  X54489  \\\n",
       "0      25  ...      75       5        68     138      53        -4     123   \n",
       "1       9  ...     186       6        60      93     140        -3     271   \n",
       "2       4  ...     186     225        94      62      39       -14     127   \n",
       "3      22  ...      77       6        78      30      87        -4      59   \n",
       "4      -5  ...      87     303       204      81     105         9     265   \n",
       "\n",
       "   T55008  M10065.2      y  \n",
       "0       2        19  tumor  \n",
       "1      -1       -51  tumor  \n",
       "2       7       192  tumor  \n",
       "3       3       367  tumor  \n",
       "4      -2       126  tumor  \n",
       "\n",
       "[5 rows x 7465 columns]"
      ]
     },
     "execution_count": 36,
     "metadata": {},
     "output_type": "execute_result"
    }
   ],
   "source": [
    "data.head()"
   ]
  },
  {
   "cell_type": "code",
   "execution_count": 37,
   "id": "132d80b4",
   "metadata": {},
   "outputs": [
    {
     "data": {
      "text/plain": [
       "0"
      ]
     },
     "execution_count": 37,
     "metadata": {},
     "output_type": "execute_result"
    }
   ],
   "source": [
    "# No missing values\n",
    "sum(data.isna().sum())"
   ]
  },
  {
   "cell_type": "code",
   "execution_count": 38,
   "id": "0cceb196",
   "metadata": {},
   "outputs": [
    {
     "data": {
      "text/plain": [
       "Normal    18\n",
       "tumor     18\n",
       "Name: y, dtype: int64"
      ]
     },
     "execution_count": 38,
     "metadata": {},
     "output_type": "execute_result"
    }
   ],
   "source": [
    "# Count unique labels\n",
    "# The dataset is very small, but it has a lot of features\n",
    "data['y'].value_counts()"
   ]
  },
  {
   "cell_type": "code",
   "execution_count": 46,
   "id": "6448cb2b",
   "metadata": {},
   "outputs": [],
   "source": [
    "y = data['y']\n",
    "y = np.asarray(y)\n",
    "data.drop(columns=['y'], inplace=True)"
   ]
  },
  {
   "cell_type": "code",
   "execution_count": 47,
   "id": "d9941d37",
   "metadata": {},
   "outputs": [
    {
     "data": {
      "text/plain": [
       "(36, 7464)"
      ]
     },
     "execution_count": 47,
     "metadata": {},
     "output_type": "execute_result"
    }
   ],
   "source": [
    "data.shape"
   ]
  },
  {
   "cell_type": "code",
   "execution_count": 48,
   "id": "8022205f",
   "metadata": {},
   "outputs": [
    {
     "data": {
      "text/html": [
       "<div>\n",
       "<style scoped>\n",
       "    .dataframe tbody tr th:only-of-type {\n",
       "        vertical-align: middle;\n",
       "    }\n",
       "\n",
       "    .dataframe tbody tr th {\n",
       "        vertical-align: top;\n",
       "    }\n",
       "\n",
       "    .dataframe thead th {\n",
       "        text-align: right;\n",
       "    }\n",
       "</style>\n",
       "<table border=\"1\" class=\"dataframe\">\n",
       "  <thead>\n",
       "    <tr style=\"text-align: right;\">\n",
       "      <th></th>\n",
       "      <th>X53416</th>\n",
       "      <th>M83670</th>\n",
       "      <th>X90908</th>\n",
       "      <th>M97496</th>\n",
       "      <th>X90908.1</th>\n",
       "      <th>U37019</th>\n",
       "      <th>R48602</th>\n",
       "      <th>T96548</th>\n",
       "      <th>X64559</th>\n",
       "      <th>T55741</th>\n",
       "      <th>...</th>\n",
       "      <th>D14657</th>\n",
       "      <th>H87456</th>\n",
       "      <th>R64130</th>\n",
       "      <th>H11125.1</th>\n",
       "      <th>U22055</th>\n",
       "      <th>L22524</th>\n",
       "      <th>M13699.1</th>\n",
       "      <th>X54489</th>\n",
       "      <th>T55008</th>\n",
       "      <th>M10065.2</th>\n",
       "    </tr>\n",
       "  </thead>\n",
       "  <tbody>\n",
       "    <tr>\n",
       "      <th>0</th>\n",
       "      <td>70</td>\n",
       "      <td>-81</td>\n",
       "      <td>25</td>\n",
       "      <td>10</td>\n",
       "      <td>22</td>\n",
       "      <td>113</td>\n",
       "      <td>36</td>\n",
       "      <td>163</td>\n",
       "      <td>9</td>\n",
       "      <td>25</td>\n",
       "      <td>...</td>\n",
       "      <td>44</td>\n",
       "      <td>75</td>\n",
       "      <td>5</td>\n",
       "      <td>68</td>\n",
       "      <td>138</td>\n",
       "      <td>53</td>\n",
       "      <td>-4</td>\n",
       "      <td>123</td>\n",
       "      <td>2</td>\n",
       "      <td>19</td>\n",
       "    </tr>\n",
       "    <tr>\n",
       "      <th>1</th>\n",
       "      <td>108</td>\n",
       "      <td>-30</td>\n",
       "      <td>-7</td>\n",
       "      <td>60</td>\n",
       "      <td>0</td>\n",
       "      <td>24</td>\n",
       "      <td>8</td>\n",
       "      <td>113</td>\n",
       "      <td>-3</td>\n",
       "      <td>9</td>\n",
       "      <td>...</td>\n",
       "      <td>110</td>\n",
       "      <td>186</td>\n",
       "      <td>6</td>\n",
       "      <td>60</td>\n",
       "      <td>93</td>\n",
       "      <td>140</td>\n",
       "      <td>-3</td>\n",
       "      <td>271</td>\n",
       "      <td>-1</td>\n",
       "      <td>-51</td>\n",
       "    </tr>\n",
       "    <tr>\n",
       "      <th>2</th>\n",
       "      <td>75</td>\n",
       "      <td>-1</td>\n",
       "      <td>5</td>\n",
       "      <td>48</td>\n",
       "      <td>6</td>\n",
       "      <td>34</td>\n",
       "      <td>27</td>\n",
       "      <td>35</td>\n",
       "      <td>-1</td>\n",
       "      <td>4</td>\n",
       "      <td>...</td>\n",
       "      <td>98</td>\n",
       "      <td>186</td>\n",
       "      <td>225</td>\n",
       "      <td>94</td>\n",
       "      <td>62</td>\n",
       "      <td>39</td>\n",
       "      <td>-14</td>\n",
       "      <td>127</td>\n",
       "      <td>7</td>\n",
       "      <td>192</td>\n",
       "    </tr>\n",
       "    <tr>\n",
       "      <th>3</th>\n",
       "      <td>871</td>\n",
       "      <td>4</td>\n",
       "      <td>14</td>\n",
       "      <td>78</td>\n",
       "      <td>-6</td>\n",
       "      <td>85</td>\n",
       "      <td>65</td>\n",
       "      <td>227</td>\n",
       "      <td>19</td>\n",
       "      <td>22</td>\n",
       "      <td>...</td>\n",
       "      <td>54</td>\n",
       "      <td>77</td>\n",
       "      <td>6</td>\n",
       "      <td>78</td>\n",
       "      <td>30</td>\n",
       "      <td>87</td>\n",
       "      <td>-4</td>\n",
       "      <td>59</td>\n",
       "      <td>3</td>\n",
       "      <td>367</td>\n",
       "    </tr>\n",
       "    <tr>\n",
       "      <th>4</th>\n",
       "      <td>-92</td>\n",
       "      <td>-34</td>\n",
       "      <td>14</td>\n",
       "      <td>19</td>\n",
       "      <td>11</td>\n",
       "      <td>-6</td>\n",
       "      <td>27</td>\n",
       "      <td>-8</td>\n",
       "      <td>9</td>\n",
       "      <td>-5</td>\n",
       "      <td>...</td>\n",
       "      <td>142</td>\n",
       "      <td>87</td>\n",
       "      <td>303</td>\n",
       "      <td>204</td>\n",
       "      <td>81</td>\n",
       "      <td>105</td>\n",
       "      <td>9</td>\n",
       "      <td>265</td>\n",
       "      <td>-2</td>\n",
       "      <td>126</td>\n",
       "    </tr>\n",
       "  </tbody>\n",
       "</table>\n",
       "<p>5 rows × 7464 columns</p>\n",
       "</div>"
      ],
      "text/plain": [
       "   X53416  M83670  X90908  M97496  X90908.1  U37019  R48602  T96548  X64559  \\\n",
       "0      70     -81      25      10        22     113      36     163       9   \n",
       "1     108     -30      -7      60         0      24       8     113      -3   \n",
       "2      75      -1       5      48         6      34      27      35      -1   \n",
       "3     871       4      14      78        -6      85      65     227      19   \n",
       "4     -92     -34      14      19        11      -6      27      -8       9   \n",
       "\n",
       "   T55741  ...  D14657  H87456  R64130  H11125.1  U22055  L22524  M13699.1  \\\n",
       "0      25  ...      44      75       5        68     138      53        -4   \n",
       "1       9  ...     110     186       6        60      93     140        -3   \n",
       "2       4  ...      98     186     225        94      62      39       -14   \n",
       "3      22  ...      54      77       6        78      30      87        -4   \n",
       "4      -5  ...     142      87     303       204      81     105         9   \n",
       "\n",
       "   X54489  T55008  M10065.2  \n",
       "0     123       2        19  \n",
       "1     271      -1       -51  \n",
       "2     127       7       192  \n",
       "3      59       3       367  \n",
       "4     265      -2       126  \n",
       "\n",
       "[5 rows x 7464 columns]"
      ]
     },
     "execution_count": 48,
     "metadata": {},
     "output_type": "execute_result"
    }
   ],
   "source": [
    "data.head()"
   ]
  },
  {
   "cell_type": "code",
   "execution_count": 49,
   "id": "5a1bb77f",
   "metadata": {},
   "outputs": [
    {
     "data": {
      "text/plain": [
       "(36,)"
      ]
     },
     "execution_count": 49,
     "metadata": {},
     "output_type": "execute_result"
    }
   ],
   "source": [
    "y.shape"
   ]
  },
  {
   "cell_type": "code",
   "execution_count": 50,
   "id": "a4ebabed",
   "metadata": {},
   "outputs": [],
   "source": [
    "# Let's split the dataset\n",
    "from sklearn.model_selection import train_test_split\n",
    "\n",
    "train_df, test_df, y_train, y_test = train_test_split(data, y, test_size=0.2)"
   ]
  },
  {
   "cell_type": "code",
   "execution_count": 51,
   "id": "34bbcfb3",
   "metadata": {},
   "outputs": [
    {
     "data": {
      "text/plain": [
       "(28, 7464)"
      ]
     },
     "execution_count": 51,
     "metadata": {},
     "output_type": "execute_result"
    }
   ],
   "source": [
    "train_df.shape"
   ]
  },
  {
   "cell_type": "code",
   "execution_count": 53,
   "id": "63021388",
   "metadata": {},
   "outputs": [
    {
     "data": {
      "text/plain": [
       "(28,)"
      ]
     },
     "execution_count": 53,
     "metadata": {},
     "output_type": "execute_result"
    }
   ],
   "source": [
    "y_train.shape"
   ]
  },
  {
   "cell_type": "code",
   "execution_count": 52,
   "id": "eaf4ffbc",
   "metadata": {},
   "outputs": [
    {
     "data": {
      "text/plain": [
       "(8, 7464)"
      ]
     },
     "execution_count": 52,
     "metadata": {},
     "output_type": "execute_result"
    }
   ],
   "source": [
    "test_df.shape"
   ]
  },
  {
   "cell_type": "code",
   "execution_count": 54,
   "id": "384ec46e",
   "metadata": {},
   "outputs": [
    {
     "data": {
      "text/plain": [
       "(8,)"
      ]
     },
     "execution_count": 54,
     "metadata": {},
     "output_type": "execute_result"
    }
   ],
   "source": [
    "y_test.shape"
   ]
  },
  {
   "cell_type": "code",
   "execution_count": null,
   "id": "a9ce0c43",
   "metadata": {},
   "outputs": [],
   "source": []
  },
  {
   "cell_type": "code",
   "execution_count": 56,
   "id": "a9904c86",
   "metadata": {},
   "outputs": [],
   "source": [
    "attrs = []\n",
    "for attr in train_df.columns:\n",
    "    attrs.append(attr)"
   ]
  },
  {
   "cell_type": "code",
   "execution_count": 60,
   "id": "0e20e277",
   "metadata": {},
   "outputs": [],
   "source": [
    "# Let's create a preprocessing pipeline\n",
    "from sklearn.compose import ColumnTransformer\n",
    "from sklearn.pipeline import Pipeline\n",
    "from sklearn.preprocessing import StandardScaler\n",
    "\n",
    "pipe = Pipeline([\n",
    "    ('scaler', StandardScaler()),\n",
    "])\n",
    "\n",
    "transformer = ColumnTransformer([\n",
    "    ('num', pipe, attrs),\n",
    "])"
   ]
  },
  {
   "cell_type": "code",
   "execution_count": 61,
   "id": "5c153b52",
   "metadata": {},
   "outputs": [
    {
     "data": {
      "text/plain": [
       "ColumnTransformer(transformers=[('num',\n",
       "                                 Pipeline(steps=[('scaler', StandardScaler())]),\n",
       "                                 ['X53416', 'M83670', 'X90908', 'M97496',\n",
       "                                  'X90908.1', 'U37019', 'R48602', 'T96548',\n",
       "                                  'X64559', 'T55741', 'T64171', 'T54547',\n",
       "                                  'M95936', 'X54162', 'H57136', 'M10373',\n",
       "                                  'T55200', 'T46924', 'L11708', 'M18079',\n",
       "                                  'T46933', 'M98331', 'H54425', 'M76378',\n",
       "                                  'M26393', 'H59796', 'M82962', 'T55255',\n",
       "                                  'L13773', 'X53416.1', ...])])"
      ]
     },
     "execution_count": 61,
     "metadata": {},
     "output_type": "execute_result"
    }
   ],
   "source": [
    "transformer"
   ]
  },
  {
   "cell_type": "code",
   "execution_count": 62,
   "id": "78fcf242",
   "metadata": {},
   "outputs": [],
   "source": [
    "X_train = transformer.fit_transform(train_df[attrs])"
   ]
  },
  {
   "cell_type": "code",
   "execution_count": 63,
   "id": "9451612c",
   "metadata": {},
   "outputs": [
    {
     "data": {
      "text/plain": [
       "(28, 7464)"
      ]
     },
     "execution_count": 63,
     "metadata": {},
     "output_type": "execute_result"
    }
   ],
   "source": [
    "X_train.shape"
   ]
  },
  {
   "cell_type": "code",
   "execution_count": 69,
   "id": "a8899923",
   "metadata": {},
   "outputs": [
    {
     "data": {
      "text/plain": [
       "array([-1.16152576, -0.57125   , -1.45171125, ...,  0.55857091,\n",
       "       -0.40427083, -0.40206435])"
      ]
     },
     "execution_count": 69,
     "metadata": {},
     "output_type": "execute_result"
    }
   ],
   "source": [
    "X_train[0]"
   ]
  },
  {
   "cell_type": "code",
   "execution_count": 84,
   "id": "7c15c845",
   "metadata": {},
   "outputs": [
    {
     "data": {
      "text/plain": [
       "'tumor'"
      ]
     },
     "execution_count": 84,
     "metadata": {},
     "output_type": "execute_result"
    }
   ],
   "source": [
    "y_train[0]"
   ]
  },
  {
   "cell_type": "code",
   "execution_count": 67,
   "id": "140ff2b8",
   "metadata": {},
   "outputs": [],
   "source": [
    "X_test = transformer.transform(test_df[attrs])"
   ]
  },
  {
   "cell_type": "code",
   "execution_count": 68,
   "id": "6c7b49e7",
   "metadata": {},
   "outputs": [
    {
     "data": {
      "text/plain": [
       "(8, 7464)"
      ]
     },
     "execution_count": 68,
     "metadata": {},
     "output_type": "execute_result"
    }
   ],
   "source": [
    "X_test.shape"
   ]
  },
  {
   "cell_type": "code",
   "execution_count": null,
   "id": "5d6967bb",
   "metadata": {},
   "outputs": [],
   "source": []
  },
  {
   "cell_type": "code",
   "execution_count": 92,
   "id": "7bec21d8",
   "metadata": {},
   "outputs": [],
   "source": [
    "# Let's convert the labels from `categorical` to `numerical` using `LabelEncoder`\n",
    "from sklearn.preprocessing import LabelEncoder\n",
    "\n",
    "label_enc = LabelEncoder()\n",
    "y_train = label_enc.fit_transform(y_train)"
   ]
  },
  {
   "cell_type": "code",
   "execution_count": 93,
   "id": "b8f95220",
   "metadata": {},
   "outputs": [
    {
     "data": {
      "text/plain": [
       "array(['Normal', 'tumor'], dtype=object)"
      ]
     },
     "execution_count": 93,
     "metadata": {},
     "output_type": "execute_result"
    }
   ],
   "source": [
    "# 0 = 'normal'\n",
    "# 1 = 'tumor'\n",
    "label_enc.classes_"
   ]
  },
  {
   "cell_type": "code",
   "execution_count": 95,
   "id": "b2e367b9",
   "metadata": {},
   "outputs": [],
   "source": [
    "y_test = label_enc.fit_transform(y_test)"
   ]
  },
  {
   "cell_type": "code",
   "execution_count": 70,
   "id": "68e995ca",
   "metadata": {},
   "outputs": [],
   "source": [
    "# The preprocessing part is done\n",
    "# Until now, we have (X_train, y_train), (X_test, y_test)"
   ]
  },
  {
   "cell_type": "code",
   "execution_count": 104,
   "id": "bdda1256",
   "metadata": {},
   "outputs": [],
   "source": [
    "def model_acc(model, X_train, y_train, X_test, y_test):\n",
    "    model.fit(X_train, y_train)\n",
    "    y_pred = model.predict(X_test)\n",
    "    return [model, accuracy_score(y_test, y_pred)]"
   ]
  },
  {
   "cell_type": "code",
   "execution_count": 105,
   "id": "152cb53e",
   "metadata": {},
   "outputs": [
    {
     "data": {
      "text/plain": [
       "0.75"
      ]
     },
     "execution_count": 105,
     "metadata": {},
     "output_type": "execute_result"
    }
   ],
   "source": [
    "# We can try a base model to see how it performs\n",
    "from sklearn.tree import DecisionTreeClassifier\n",
    "\n",
    "tree_clf = DecisionTreeClassifier(random_state=RANDOM_STATE)\n",
    "[tree_clf, acc] = model_acc(tree_clf, X_train, y_train, X_test, y_test)\n",
    "acc"
   ]
  },
  {
   "cell_type": "code",
   "execution_count": 127,
   "id": "37c497ee",
   "metadata": {},
   "outputs": [
    {
     "data": {
      "text/plain": [
       "array([0])"
      ]
     },
     "execution_count": 127,
     "metadata": {},
     "output_type": "execute_result"
    }
   ],
   "source": [
    "# Predict only one instance\n",
    "tree_clf.predict([X_test[0]])"
   ]
  },
  {
   "cell_type": "code",
   "execution_count": 128,
   "id": "45438770",
   "metadata": {},
   "outputs": [
    {
     "data": {
      "text/plain": [
       "1.0"
      ]
     },
     "execution_count": 128,
     "metadata": {},
     "output_type": "execute_result"
    }
   ],
   "source": [
    "# Let's try a `RandomForestClassifier`\n",
    "from sklearn.ensemble import RandomForestClassifier\n",
    "\n",
    "rnd_forest = RandomForestClassifier(random_state=RANDOM_STATE)\n",
    "[rnd_forest, acc] = model_acc(rnd_forest, X_train, y_train, X_test, y_test)\n",
    "acc"
   ]
  },
  {
   "cell_type": "code",
   "execution_count": 131,
   "id": "8a4e69fd",
   "metadata": {},
   "outputs": [],
   "source": [
    "from sklearn.metrics import mean_squared_error\n",
    "from sklearn.model_selection import train_test_split\n",
    "\n",
    "def plot_learning_curves(model, X, y):\n",
    "    X_train, X_val, y_train, y_val = train_test_split(X, y, test_size=0.2, random_state=RANDOM_STATE)\n",
    "    train_errors, val_errors = [], []\n",
    "    \n",
    "    # Select a sized subset from the training set (1 instances, 2 instances,..., until all instances)\n",
    "    for m in range(1, len(X_train) + 1):\n",
    "        # Fit the model on that subset\n",
    "        model.fit(X_train[:m], y_train[:m])\n",
    "        \n",
    "        # Predict on the training subset\n",
    "        y_train_predict = model.predict(X_train[:m])\n",
    "        \n",
    "        # Predict on the validation subset\n",
    "        y_val_predict = model.predict(X_val)\n",
    "        \n",
    "        # Save the train and validation errors\n",
    "        train_errors.append(mean_squared_error(y_train[:m], y_train_predict))\n",
    "        val_errors.append(mean_squared_error(y_val, y_val_predict))\n",
    "\n",
    "    # Plot the results\n",
    "    plt.plot(np.sqrt(train_errors), \"r-+\", linewidth=2, label=\"train\")\n",
    "    plt.plot(np.sqrt(val_errors), \"b-\", linewidth=3, label=\"val\")\n",
    "    \n",
    "    plt.legend(loc=\"upper right\", fontsize=14)\n",
    "    \n",
    "    plt.xlabel(\"Training set size\", fontsize=14)\n",
    "    plt.ylabel(\"RMSE\", fontsize=14)"
   ]
  },
  {
   "cell_type": "code",
   "execution_count": 132,
   "id": "40756f3a",
   "metadata": {},
   "outputs": [
    {
     "data": {
      "image/png": "[encoded data removed]",
      "text/plain": [
       "<Figure size 432x288 with 1 Axes>"
      ]
     },
     "metadata": {
      "needs_background": "light"
     },
     "output_type": "display_data"
    }
   ],
   "source": [
    "plot_learning_curves(rnd_forest, X_train, y_train)"
   ]
  },
  {
   "cell_type": "code",
   "execution_count": 133,
   "id": "dadc9eff",
   "metadata": {},
   "outputs": [
    {
     "data": {
      "image/png": "[encoded data removed]",
      "text/plain": [
       "<Figure size 432x288 with 1 Axes>"
      ]
     },
     "metadata": {
      "needs_background": "light"
     },
     "output_type": "display_data"
    }
   ],
   "source": [
    "plot_learning_curves(tree_clf, X_train, y_train)"
   ]
  },
  {
   "cell_type": "code",
   "execution_count": 134,
   "id": "6e7cb218",
   "metadata": {},
   "outputs": [],
   "source": [
    "# Conclusion: The dataset is very small\n",
    "# We can't make any model to generalize well"
   ]
  },
  {
   "cell_type": "code",
   "execution_count": null,
   "id": "18a833a4",
   "metadata": {},
   "outputs": [],
   "source": []
  }
 ],
 "metadata": {
  "kernelspec": {
   "display_name": "Python 3",
   "language": "python",
   "name": "python3"
  },
  "language_info": {
   "codemirror_mode": {
    "name": "ipython",
    "version": 3
   },
   "file_extension": ".py",
   "mimetype": "text/x-python",
   "name": "python",
   "nbconvert_exporter": "python",
   "pygments_lexer": "ipython3",
   "version": "3.8.8"
  }
 },
 "nbformat": 4,
 "nbformat_minor": 5
}
