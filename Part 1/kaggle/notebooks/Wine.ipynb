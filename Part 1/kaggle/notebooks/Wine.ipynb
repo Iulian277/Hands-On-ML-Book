{
 "cells": [
  {
   "cell_type": "code",
   "execution_count": 8,
   "id": "abb86485",
   "metadata": {},
   "outputs": [],
   "source": [
    "# Data processing \n",
    "import numpy as np\n",
    "import pandas as pd\n",
    "\n",
    "# Data visualisation\n",
    "%matplotlib inline\n",
    "import matplotlib as mpl\n",
    "import matplotlib.pyplot as plt\n",
    "mpl.rc('axes',  labelsize=14)\n",
    "mpl.rc('xtick', labelsize=12)\n",
    "mpl.rc('ytick', labelsize=12)\n",
    "\n",
    "# Models\n",
    "import sklearn\n",
    "\n",
    "# Commons\n",
    "import os\n",
    "RANDOM_STATE = 42\n",
    "np.random.seed(RANDOM_STATE)"
   ]
  },
  {
   "cell_type": "code",
   "execution_count": 9,
   "id": "7c9acf83",
   "metadata": {},
   "outputs": [],
   "source": [
    "dataset = pd.read_csv('../input/wine/wine.csv')"
   ]
  },
  {
   "cell_type": "code",
   "execution_count": 10,
   "id": "c8a2fc06",
   "metadata": {},
   "outputs": [
    {
     "data": {
      "text/html": [
       "<div>\n",
       "<style scoped>\n",
       "    .dataframe tbody tr th:only-of-type {\n",
       "        vertical-align: middle;\n",
       "    }\n",
       "\n",
       "    .dataframe tbody tr th {\n",
       "        vertical-align: top;\n",
       "    }\n",
       "\n",
       "    .dataframe thead th {\n",
       "        text-align: right;\n",
       "    }\n",
       "</style>\n",
       "<table border=\"1\" class=\"dataframe\">\n",
       "  <thead>\n",
       "    <tr style=\"text-align: right;\">\n",
       "      <th></th>\n",
       "      <th>fixed acidity</th>\n",
       "      <th>volatile acidity</th>\n",
       "      <th>citric acid</th>\n",
       "      <th>residual sugar</th>\n",
       "      <th>chlorides</th>\n",
       "      <th>free sulfur dioxide</th>\n",
       "      <th>total sulfur dioxide</th>\n",
       "      <th>density</th>\n",
       "      <th>pH</th>\n",
       "      <th>sulphates</th>\n",
       "      <th>alcohol</th>\n",
       "      <th>quality</th>\n",
       "      <th>Id</th>\n",
       "    </tr>\n",
       "  </thead>\n",
       "  <tbody>\n",
       "    <tr>\n",
       "      <th>0</th>\n",
       "      <td>7.4</td>\n",
       "      <td>0.70</td>\n",
       "      <td>0.00</td>\n",
       "      <td>1.9</td>\n",
       "      <td>0.076</td>\n",
       "      <td>11.0</td>\n",
       "      <td>34.0</td>\n",
       "      <td>0.9978</td>\n",
       "      <td>3.51</td>\n",
       "      <td>0.56</td>\n",
       "      <td>9.4</td>\n",
       "      <td>5</td>\n",
       "      <td>0</td>\n",
       "    </tr>\n",
       "    <tr>\n",
       "      <th>1</th>\n",
       "      <td>7.8</td>\n",
       "      <td>0.88</td>\n",
       "      <td>0.00</td>\n",
       "      <td>2.6</td>\n",
       "      <td>0.098</td>\n",
       "      <td>25.0</td>\n",
       "      <td>67.0</td>\n",
       "      <td>0.9968</td>\n",
       "      <td>3.20</td>\n",
       "      <td>0.68</td>\n",
       "      <td>9.8</td>\n",
       "      <td>5</td>\n",
       "      <td>1</td>\n",
       "    </tr>\n",
       "    <tr>\n",
       "      <th>2</th>\n",
       "      <td>7.8</td>\n",
       "      <td>0.76</td>\n",
       "      <td>0.04</td>\n",
       "      <td>2.3</td>\n",
       "      <td>0.092</td>\n",
       "      <td>15.0</td>\n",
       "      <td>54.0</td>\n",
       "      <td>0.9970</td>\n",
       "      <td>3.26</td>\n",
       "      <td>0.65</td>\n",
       "      <td>9.8</td>\n",
       "      <td>5</td>\n",
       "      <td>2</td>\n",
       "    </tr>\n",
       "    <tr>\n",
       "      <th>3</th>\n",
       "      <td>11.2</td>\n",
       "      <td>0.28</td>\n",
       "      <td>0.56</td>\n",
       "      <td>1.9</td>\n",
       "      <td>0.075</td>\n",
       "      <td>17.0</td>\n",
       "      <td>60.0</td>\n",
       "      <td>0.9980</td>\n",
       "      <td>3.16</td>\n",
       "      <td>0.58</td>\n",
       "      <td>9.8</td>\n",
       "      <td>6</td>\n",
       "      <td>3</td>\n",
       "    </tr>\n",
       "    <tr>\n",
       "      <th>4</th>\n",
       "      <td>7.4</td>\n",
       "      <td>0.70</td>\n",
       "      <td>0.00</td>\n",
       "      <td>1.9</td>\n",
       "      <td>0.076</td>\n",
       "      <td>11.0</td>\n",
       "      <td>34.0</td>\n",
       "      <td>0.9978</td>\n",
       "      <td>3.51</td>\n",
       "      <td>0.56</td>\n",
       "      <td>9.4</td>\n",
       "      <td>5</td>\n",
       "      <td>4</td>\n",
       "    </tr>\n",
       "  </tbody>\n",
       "</table>\n",
       "</div>"
      ],
      "text/plain": [
       "   fixed acidity  volatile acidity  citric acid  residual sugar  chlorides  \\\n",
       "0            7.4              0.70         0.00             1.9      0.076   \n",
       "1            7.8              0.88         0.00             2.6      0.098   \n",
       "2            7.8              0.76         0.04             2.3      0.092   \n",
       "3           11.2              0.28         0.56             1.9      0.075   \n",
       "4            7.4              0.70         0.00             1.9      0.076   \n",
       "\n",
       "   free sulfur dioxide  total sulfur dioxide  density    pH  sulphates  \\\n",
       "0                 11.0                  34.0   0.9978  3.51       0.56   \n",
       "1                 25.0                  67.0   0.9968  3.20       0.68   \n",
       "2                 15.0                  54.0   0.9970  3.26       0.65   \n",
       "3                 17.0                  60.0   0.9980  3.16       0.58   \n",
       "4                 11.0                  34.0   0.9978  3.51       0.56   \n",
       "\n",
       "   alcohol  quality  Id  \n",
       "0      9.4        5   0  \n",
       "1      9.8        5   1  \n",
       "2      9.8        5   2  \n",
       "3      9.8        6   3  \n",
       "4      9.4        5   4  "
      ]
     },
     "execution_count": 10,
     "metadata": {},
     "output_type": "execute_result"
    }
   ],
   "source": [
    "dataset.head()"
   ]
  },
  {
   "cell_type": "code",
   "execution_count": 11,
   "id": "cabb00c7",
   "metadata": {},
   "outputs": [
    {
     "data": {
      "text/plain": [
       "(1143, 13)"
      ]
     },
     "execution_count": 11,
     "metadata": {},
     "output_type": "execute_result"
    }
   ],
   "source": [
    "dataset.shape"
   ]
  },
  {
   "cell_type": "code",
   "execution_count": 12,
   "id": "14b8dc32",
   "metadata": {},
   "outputs": [
    {
     "data": {
      "text/plain": [
       "fixed acidity           0\n",
       "volatile acidity        0\n",
       "citric acid             0\n",
       "residual sugar          0\n",
       "chlorides               0\n",
       "free sulfur dioxide     0\n",
       "total sulfur dioxide    0\n",
       "density                 0\n",
       "pH                      0\n",
       "sulphates               0\n",
       "alcohol                 0\n",
       "quality                 0\n",
       "Id                      0\n",
       "dtype: int64"
      ]
     },
     "execution_count": 12,
     "metadata": {},
     "output_type": "execute_result"
    }
   ],
   "source": [
    "dataset.isna().sum()"
   ]
  },
  {
   "cell_type": "code",
   "execution_count": 13,
   "id": "3943cb9e",
   "metadata": {},
   "outputs": [],
   "source": [
    "dataset.drop(columns=['Id'], inplace=True)"
   ]
  },
  {
   "cell_type": "code",
   "execution_count": 14,
   "id": "bd21f902",
   "metadata": {},
   "outputs": [
    {
     "data": {
      "text/html": [
       "<div>\n",
       "<style scoped>\n",
       "    .dataframe tbody tr th:only-of-type {\n",
       "        vertical-align: middle;\n",
       "    }\n",
       "\n",
       "    .dataframe tbody tr th {\n",
       "        vertical-align: top;\n",
       "    }\n",
       "\n",
       "    .dataframe thead th {\n",
       "        text-align: right;\n",
       "    }\n",
       "</style>\n",
       "<table border=\"1\" class=\"dataframe\">\n",
       "  <thead>\n",
       "    <tr style=\"text-align: right;\">\n",
       "      <th></th>\n",
       "      <th>fixed acidity</th>\n",
       "      <th>volatile acidity</th>\n",
       "      <th>citric acid</th>\n",
       "      <th>residual sugar</th>\n",
       "      <th>chlorides</th>\n",
       "      <th>free sulfur dioxide</th>\n",
       "      <th>total sulfur dioxide</th>\n",
       "      <th>density</th>\n",
       "      <th>pH</th>\n",
       "      <th>sulphates</th>\n",
       "      <th>alcohol</th>\n",
       "      <th>quality</th>\n",
       "    </tr>\n",
       "  </thead>\n",
       "  <tbody>\n",
       "    <tr>\n",
       "      <th>0</th>\n",
       "      <td>7.4</td>\n",
       "      <td>0.70</td>\n",
       "      <td>0.00</td>\n",
       "      <td>1.9</td>\n",
       "      <td>0.076</td>\n",
       "      <td>11.0</td>\n",
       "      <td>34.0</td>\n",
       "      <td>0.9978</td>\n",
       "      <td>3.51</td>\n",
       "      <td>0.56</td>\n",
       "      <td>9.4</td>\n",
       "      <td>5</td>\n",
       "    </tr>\n",
       "    <tr>\n",
       "      <th>1</th>\n",
       "      <td>7.8</td>\n",
       "      <td>0.88</td>\n",
       "      <td>0.00</td>\n",
       "      <td>2.6</td>\n",
       "      <td>0.098</td>\n",
       "      <td>25.0</td>\n",
       "      <td>67.0</td>\n",
       "      <td>0.9968</td>\n",
       "      <td>3.20</td>\n",
       "      <td>0.68</td>\n",
       "      <td>9.8</td>\n",
       "      <td>5</td>\n",
       "    </tr>\n",
       "    <tr>\n",
       "      <th>2</th>\n",
       "      <td>7.8</td>\n",
       "      <td>0.76</td>\n",
       "      <td>0.04</td>\n",
       "      <td>2.3</td>\n",
       "      <td>0.092</td>\n",
       "      <td>15.0</td>\n",
       "      <td>54.0</td>\n",
       "      <td>0.9970</td>\n",
       "      <td>3.26</td>\n",
       "      <td>0.65</td>\n",
       "      <td>9.8</td>\n",
       "      <td>5</td>\n",
       "    </tr>\n",
       "    <tr>\n",
       "      <th>3</th>\n",
       "      <td>11.2</td>\n",
       "      <td>0.28</td>\n",
       "      <td>0.56</td>\n",
       "      <td>1.9</td>\n",
       "      <td>0.075</td>\n",
       "      <td>17.0</td>\n",
       "      <td>60.0</td>\n",
       "      <td>0.9980</td>\n",
       "      <td>3.16</td>\n",
       "      <td>0.58</td>\n",
       "      <td>9.8</td>\n",
       "      <td>6</td>\n",
       "    </tr>\n",
       "    <tr>\n",
       "      <th>4</th>\n",
       "      <td>7.4</td>\n",
       "      <td>0.70</td>\n",
       "      <td>0.00</td>\n",
       "      <td>1.9</td>\n",
       "      <td>0.076</td>\n",
       "      <td>11.0</td>\n",
       "      <td>34.0</td>\n",
       "      <td>0.9978</td>\n",
       "      <td>3.51</td>\n",
       "      <td>0.56</td>\n",
       "      <td>9.4</td>\n",
       "      <td>5</td>\n",
       "    </tr>\n",
       "  </tbody>\n",
       "</table>\n",
       "</div>"
      ],
      "text/plain": [
       "   fixed acidity  volatile acidity  citric acid  residual sugar  chlorides  \\\n",
       "0            7.4              0.70         0.00             1.9      0.076   \n",
       "1            7.8              0.88         0.00             2.6      0.098   \n",
       "2            7.8              0.76         0.04             2.3      0.092   \n",
       "3           11.2              0.28         0.56             1.9      0.075   \n",
       "4            7.4              0.70         0.00             1.9      0.076   \n",
       "\n",
       "   free sulfur dioxide  total sulfur dioxide  density    pH  sulphates  \\\n",
       "0                 11.0                  34.0   0.9978  3.51       0.56   \n",
       "1                 25.0                  67.0   0.9968  3.20       0.68   \n",
       "2                 15.0                  54.0   0.9970  3.26       0.65   \n",
       "3                 17.0                  60.0   0.9980  3.16       0.58   \n",
       "4                 11.0                  34.0   0.9978  3.51       0.56   \n",
       "\n",
       "   alcohol  quality  \n",
       "0      9.4        5  \n",
       "1      9.8        5  \n",
       "2      9.8        5  \n",
       "3      9.8        6  \n",
       "4      9.4        5  "
      ]
     },
     "execution_count": 14,
     "metadata": {},
     "output_type": "execute_result"
    }
   ],
   "source": [
    "dataset.head()"
   ]
  },
  {
   "cell_type": "code",
   "execution_count": 15,
   "id": "69f50e31",
   "metadata": {},
   "outputs": [
    {
     "data": {
      "image/png": "[encoded data removed]",
      "text/plain": [
       "<Figure size 1440x1080 with 12 Axes>"
      ]
     },
     "metadata": {
      "needs_background": "light"
     },
     "output_type": "display_data"
    }
   ],
   "source": [
    "dataset.hist(bins=50, figsize=(20, 15))\n",
    "plt.show()"
   ]
  },
  {
   "cell_type": "code",
   "execution_count": 16,
   "id": "10d1bed7",
   "metadata": {},
   "outputs": [
    {
     "data": {
      "text/html": [
       "<div>\n",
       "<style scoped>\n",
       "    .dataframe tbody tr th:only-of-type {\n",
       "        vertical-align: middle;\n",
       "    }\n",
       "\n",
       "    .dataframe tbody tr th {\n",
       "        vertical-align: top;\n",
       "    }\n",
       "\n",
       "    .dataframe thead th {\n",
       "        text-align: right;\n",
       "    }\n",
       "</style>\n",
       "<table border=\"1\" class=\"dataframe\">\n",
       "  <thead>\n",
       "    <tr style=\"text-align: right;\">\n",
       "      <th></th>\n",
       "      <th>fixed acidity</th>\n",
       "      <th>volatile acidity</th>\n",
       "      <th>citric acid</th>\n",
       "      <th>residual sugar</th>\n",
       "      <th>chlorides</th>\n",
       "      <th>free sulfur dioxide</th>\n",
       "      <th>total sulfur dioxide</th>\n",
       "      <th>density</th>\n",
       "      <th>pH</th>\n",
       "      <th>sulphates</th>\n",
       "      <th>alcohol</th>\n",
       "      <th>quality</th>\n",
       "    </tr>\n",
       "  </thead>\n",
       "  <tbody>\n",
       "    <tr>\n",
       "      <th>count</th>\n",
       "      <td>1143.000000</td>\n",
       "      <td>1143.000000</td>\n",
       "      <td>1143.000000</td>\n",
       "      <td>1143.000000</td>\n",
       "      <td>1143.000000</td>\n",
       "      <td>1143.000000</td>\n",
       "      <td>1143.000000</td>\n",
       "      <td>1143.000000</td>\n",
       "      <td>1143.000000</td>\n",
       "      <td>1143.000000</td>\n",
       "      <td>1143.000000</td>\n",
       "      <td>1143.000000</td>\n",
       "    </tr>\n",
       "    <tr>\n",
       "      <th>mean</th>\n",
       "      <td>8.311111</td>\n",
       "      <td>0.531339</td>\n",
       "      <td>0.268364</td>\n",
       "      <td>2.532152</td>\n",
       "      <td>0.086933</td>\n",
       "      <td>15.615486</td>\n",
       "      <td>45.914698</td>\n",
       "      <td>0.996730</td>\n",
       "      <td>3.311015</td>\n",
       "      <td>0.657708</td>\n",
       "      <td>10.442111</td>\n",
       "      <td>5.657043</td>\n",
       "    </tr>\n",
       "    <tr>\n",
       "      <th>std</th>\n",
       "      <td>1.747595</td>\n",
       "      <td>0.179633</td>\n",
       "      <td>0.196686</td>\n",
       "      <td>1.355917</td>\n",
       "      <td>0.047267</td>\n",
       "      <td>10.250486</td>\n",
       "      <td>32.782130</td>\n",
       "      <td>0.001925</td>\n",
       "      <td>0.156664</td>\n",
       "      <td>0.170399</td>\n",
       "      <td>1.082196</td>\n",
       "      <td>0.805824</td>\n",
       "    </tr>\n",
       "    <tr>\n",
       "      <th>min</th>\n",
       "      <td>4.600000</td>\n",
       "      <td>0.120000</td>\n",
       "      <td>0.000000</td>\n",
       "      <td>0.900000</td>\n",
       "      <td>0.012000</td>\n",
       "      <td>1.000000</td>\n",
       "      <td>6.000000</td>\n",
       "      <td>0.990070</td>\n",
       "      <td>2.740000</td>\n",
       "      <td>0.330000</td>\n",
       "      <td>8.400000</td>\n",
       "      <td>3.000000</td>\n",
       "    </tr>\n",
       "    <tr>\n",
       "      <th>25%</th>\n",
       "      <td>7.100000</td>\n",
       "      <td>0.392500</td>\n",
       "      <td>0.090000</td>\n",
       "      <td>1.900000</td>\n",
       "      <td>0.070000</td>\n",
       "      <td>7.000000</td>\n",
       "      <td>21.000000</td>\n",
       "      <td>0.995570</td>\n",
       "      <td>3.205000</td>\n",
       "      <td>0.550000</td>\n",
       "      <td>9.500000</td>\n",
       "      <td>5.000000</td>\n",
       "    </tr>\n",
       "    <tr>\n",
       "      <th>50%</th>\n",
       "      <td>7.900000</td>\n",
       "      <td>0.520000</td>\n",
       "      <td>0.250000</td>\n",
       "      <td>2.200000</td>\n",
       "      <td>0.079000</td>\n",
       "      <td>13.000000</td>\n",
       "      <td>37.000000</td>\n",
       "      <td>0.996680</td>\n",
       "      <td>3.310000</td>\n",
       "      <td>0.620000</td>\n",
       "      <td>10.200000</td>\n",
       "      <td>6.000000</td>\n",
       "    </tr>\n",
       "    <tr>\n",
       "      <th>75%</th>\n",
       "      <td>9.100000</td>\n",
       "      <td>0.640000</td>\n",
       "      <td>0.420000</td>\n",
       "      <td>2.600000</td>\n",
       "      <td>0.090000</td>\n",
       "      <td>21.000000</td>\n",
       "      <td>61.000000</td>\n",
       "      <td>0.997845</td>\n",
       "      <td>3.400000</td>\n",
       "      <td>0.730000</td>\n",
       "      <td>11.100000</td>\n",
       "      <td>6.000000</td>\n",
       "    </tr>\n",
       "    <tr>\n",
       "      <th>max</th>\n",
       "      <td>15.900000</td>\n",
       "      <td>1.580000</td>\n",
       "      <td>1.000000</td>\n",
       "      <td>15.500000</td>\n",
       "      <td>0.611000</td>\n",
       "      <td>68.000000</td>\n",
       "      <td>289.000000</td>\n",
       "      <td>1.003690</td>\n",
       "      <td>4.010000</td>\n",
       "      <td>2.000000</td>\n",
       "      <td>14.900000</td>\n",
       "      <td>8.000000</td>\n",
       "    </tr>\n",
       "  </tbody>\n",
       "</table>\n",
       "</div>"
      ],
      "text/plain": [
       "       fixed acidity  volatile acidity  citric acid  residual sugar  \\\n",
       "count    1143.000000       1143.000000  1143.000000     1143.000000   \n",
       "mean        8.311111          0.531339     0.268364        2.532152   \n",
       "std         1.747595          0.179633     0.196686        1.355917   \n",
       "min         4.600000          0.120000     0.000000        0.900000   \n",
       "25%         7.100000          0.392500     0.090000        1.900000   \n",
       "50%         7.900000          0.520000     0.250000        2.200000   \n",
       "75%         9.100000          0.640000     0.420000        2.600000   \n",
       "max        15.900000          1.580000     1.000000       15.500000   \n",
       "\n",
       "         chlorides  free sulfur dioxide  total sulfur dioxide      density  \\\n",
       "count  1143.000000          1143.000000           1143.000000  1143.000000   \n",
       "mean      0.086933            15.615486             45.914698     0.996730   \n",
       "std       0.047267            10.250486             32.782130     0.001925   \n",
       "min       0.012000             1.000000              6.000000     0.990070   \n",
       "25%       0.070000             7.000000             21.000000     0.995570   \n",
       "50%       0.079000            13.000000             37.000000     0.996680   \n",
       "75%       0.090000            21.000000             61.000000     0.997845   \n",
       "max       0.611000            68.000000            289.000000     1.003690   \n",
       "\n",
       "                pH    sulphates      alcohol      quality  \n",
       "count  1143.000000  1143.000000  1143.000000  1143.000000  \n",
       "mean      3.311015     0.657708    10.442111     5.657043  \n",
       "std       0.156664     0.170399     1.082196     0.805824  \n",
       "min       2.740000     0.330000     8.400000     3.000000  \n",
       "25%       3.205000     0.550000     9.500000     5.000000  \n",
       "50%       3.310000     0.620000    10.200000     6.000000  \n",
       "75%       3.400000     0.730000    11.100000     6.000000  \n",
       "max       4.010000     2.000000    14.900000     8.000000  "
      ]
     },
     "execution_count": 16,
     "metadata": {},
     "output_type": "execute_result"
    }
   ],
   "source": [
    "dataset.describe()"
   ]
  },
  {
   "cell_type": "code",
   "execution_count": 17,
   "id": "40fed68d",
   "metadata": {},
   "outputs": [
    {
     "data": {
      "text/plain": [
       "array([5, 6, 7, 4, 8, 3], dtype=int64)"
      ]
     },
     "execution_count": 17,
     "metadata": {},
     "output_type": "execute_result"
    }
   ],
   "source": [
    "dataset['quality'].unique()"
   ]
  },
  {
   "cell_type": "code",
   "execution_count": 18,
   "id": "ed120bd2",
   "metadata": {},
   "outputs": [
    {
     "data": {
      "text/plain": [
       "quality                 1.000000\n",
       "alcohol                 0.484866\n",
       "sulphates               0.257710\n",
       "citric acid             0.240821\n",
       "fixed acidity           0.121970\n",
       "residual sugar          0.022002\n",
       "pH                     -0.052453\n",
       "free sulfur dioxide    -0.063260\n",
       "chlorides              -0.124085\n",
       "density                -0.175208\n",
       "total sulfur dioxide   -0.183339\n",
       "volatile acidity       -0.407394\n",
       "Name: quality, dtype: float64"
      ]
     },
     "execution_count": 18,
     "metadata": {},
     "output_type": "execute_result"
    }
   ],
   "source": [
    "corr_mat = dataset.corr()\n",
    "corr_mat['quality'].sort_values(ascending=False)"
   ]
  },
  {
   "cell_type": "code",
   "execution_count": 19,
   "id": "bfaac064",
   "metadata": {},
   "outputs": [
    {
     "data": {
      "image/png": "[encoded data removed]",
      "text/plain": [
       "<Figure size 1080x720 with 16 Axes>"
      ]
     },
     "metadata": {
      "needs_background": "light"
     },
     "output_type": "display_data"
    }
   ],
   "source": [
    "from pandas.plotting import scatter_matrix\n",
    "\n",
    "attrs = ['quality', 'alcohol', 'sulphates', 'volatile acidity']\n",
    "scatter_matrix(dataset[attrs], figsize=(15, 10))\n",
    "plt.show()"
   ]
  },
  {
   "cell_type": "code",
   "execution_count": 20,
   "id": "ec0ab0e7",
   "metadata": {},
   "outputs": [],
   "source": [
    "# labels = dataset['quality']\n",
    "# dataset.drop(columns=['quality'], inplace=True)"
   ]
  },
  {
   "cell_type": "code",
   "execution_count": 21,
   "id": "c9268455",
   "metadata": {},
   "outputs": [
    {
     "data": {
      "text/html": [
       "<div>\n",
       "<style scoped>\n",
       "    .dataframe tbody tr th:only-of-type {\n",
       "        vertical-align: middle;\n",
       "    }\n",
       "\n",
       "    .dataframe tbody tr th {\n",
       "        vertical-align: top;\n",
       "    }\n",
       "\n",
       "    .dataframe thead th {\n",
       "        text-align: right;\n",
       "    }\n",
       "</style>\n",
       "<table border=\"1\" class=\"dataframe\">\n",
       "  <thead>\n",
       "    <tr style=\"text-align: right;\">\n",
       "      <th></th>\n",
       "      <th>fixed acidity</th>\n",
       "      <th>volatile acidity</th>\n",
       "      <th>citric acid</th>\n",
       "      <th>residual sugar</th>\n",
       "      <th>chlorides</th>\n",
       "      <th>free sulfur dioxide</th>\n",
       "      <th>total sulfur dioxide</th>\n",
       "      <th>density</th>\n",
       "      <th>pH</th>\n",
       "      <th>sulphates</th>\n",
       "      <th>alcohol</th>\n",
       "      <th>quality</th>\n",
       "    </tr>\n",
       "  </thead>\n",
       "  <tbody>\n",
       "    <tr>\n",
       "      <th>0</th>\n",
       "      <td>7.4</td>\n",
       "      <td>0.70</td>\n",
       "      <td>0.00</td>\n",
       "      <td>1.9</td>\n",
       "      <td>0.076</td>\n",
       "      <td>11.0</td>\n",
       "      <td>34.0</td>\n",
       "      <td>0.9978</td>\n",
       "      <td>3.51</td>\n",
       "      <td>0.56</td>\n",
       "      <td>9.4</td>\n",
       "      <td>5</td>\n",
       "    </tr>\n",
       "    <tr>\n",
       "      <th>1</th>\n",
       "      <td>7.8</td>\n",
       "      <td>0.88</td>\n",
       "      <td>0.00</td>\n",
       "      <td>2.6</td>\n",
       "      <td>0.098</td>\n",
       "      <td>25.0</td>\n",
       "      <td>67.0</td>\n",
       "      <td>0.9968</td>\n",
       "      <td>3.20</td>\n",
       "      <td>0.68</td>\n",
       "      <td>9.8</td>\n",
       "      <td>5</td>\n",
       "    </tr>\n",
       "    <tr>\n",
       "      <th>2</th>\n",
       "      <td>7.8</td>\n",
       "      <td>0.76</td>\n",
       "      <td>0.04</td>\n",
       "      <td>2.3</td>\n",
       "      <td>0.092</td>\n",
       "      <td>15.0</td>\n",
       "      <td>54.0</td>\n",
       "      <td>0.9970</td>\n",
       "      <td>3.26</td>\n",
       "      <td>0.65</td>\n",
       "      <td>9.8</td>\n",
       "      <td>5</td>\n",
       "    </tr>\n",
       "    <tr>\n",
       "      <th>3</th>\n",
       "      <td>11.2</td>\n",
       "      <td>0.28</td>\n",
       "      <td>0.56</td>\n",
       "      <td>1.9</td>\n",
       "      <td>0.075</td>\n",
       "      <td>17.0</td>\n",
       "      <td>60.0</td>\n",
       "      <td>0.9980</td>\n",
       "      <td>3.16</td>\n",
       "      <td>0.58</td>\n",
       "      <td>9.8</td>\n",
       "      <td>6</td>\n",
       "    </tr>\n",
       "    <tr>\n",
       "      <th>4</th>\n",
       "      <td>7.4</td>\n",
       "      <td>0.70</td>\n",
       "      <td>0.00</td>\n",
       "      <td>1.9</td>\n",
       "      <td>0.076</td>\n",
       "      <td>11.0</td>\n",
       "      <td>34.0</td>\n",
       "      <td>0.9978</td>\n",
       "      <td>3.51</td>\n",
       "      <td>0.56</td>\n",
       "      <td>9.4</td>\n",
       "      <td>5</td>\n",
       "    </tr>\n",
       "  </tbody>\n",
       "</table>\n",
       "</div>"
      ],
      "text/plain": [
       "   fixed acidity  volatile acidity  citric acid  residual sugar  chlorides  \\\n",
       "0            7.4              0.70         0.00             1.9      0.076   \n",
       "1            7.8              0.88         0.00             2.6      0.098   \n",
       "2            7.8              0.76         0.04             2.3      0.092   \n",
       "3           11.2              0.28         0.56             1.9      0.075   \n",
       "4            7.4              0.70         0.00             1.9      0.076   \n",
       "\n",
       "   free sulfur dioxide  total sulfur dioxide  density    pH  sulphates  \\\n",
       "0                 11.0                  34.0   0.9978  3.51       0.56   \n",
       "1                 25.0                  67.0   0.9968  3.20       0.68   \n",
       "2                 15.0                  54.0   0.9970  3.26       0.65   \n",
       "3                 17.0                  60.0   0.9980  3.16       0.58   \n",
       "4                 11.0                  34.0   0.9978  3.51       0.56   \n",
       "\n",
       "   alcohol  quality  \n",
       "0      9.4        5  \n",
       "1      9.8        5  \n",
       "2      9.8        5  \n",
       "3      9.8        6  \n",
       "4      9.4        5  "
      ]
     },
     "execution_count": 21,
     "metadata": {},
     "output_type": "execute_result"
    }
   ],
   "source": [
    "dataset.head()"
   ]
  },
  {
   "cell_type": "code",
   "execution_count": 22,
   "id": "33634643",
   "metadata": {},
   "outputs": [],
   "source": [
    "# Let's split the dataset by `labels`\n",
    "from sklearn.model_selection import StratifiedShuffleSplit\n",
    "\n",
    "split = StratifiedShuffleSplit(n_splits=1, test_size=0.2, random_state=RANDOM_STATE)\n",
    "for train_idx, test_idx in split.split(dataset, dataset['quality']):\n",
    "    train_set = dataset.loc[train_idx]\n",
    "    test_set  = dataset.loc[test_idx]"
   ]
  },
  {
   "cell_type": "code",
   "execution_count": 23,
   "id": "ad360b9a",
   "metadata": {},
   "outputs": [
    {
     "data": {
      "text/html": [
       "<div>\n",
       "<style scoped>\n",
       "    .dataframe tbody tr th:only-of-type {\n",
       "        vertical-align: middle;\n",
       "    }\n",
       "\n",
       "    .dataframe tbody tr th {\n",
       "        vertical-align: top;\n",
       "    }\n",
       "\n",
       "    .dataframe thead th {\n",
       "        text-align: right;\n",
       "    }\n",
       "</style>\n",
       "<table border=\"1\" class=\"dataframe\">\n",
       "  <thead>\n",
       "    <tr style=\"text-align: right;\">\n",
       "      <th></th>\n",
       "      <th>fixed acidity</th>\n",
       "      <th>volatile acidity</th>\n",
       "      <th>citric acid</th>\n",
       "      <th>residual sugar</th>\n",
       "      <th>chlorides</th>\n",
       "      <th>free sulfur dioxide</th>\n",
       "      <th>total sulfur dioxide</th>\n",
       "      <th>density</th>\n",
       "      <th>pH</th>\n",
       "      <th>sulphates</th>\n",
       "      <th>alcohol</th>\n",
       "      <th>quality</th>\n",
       "    </tr>\n",
       "  </thead>\n",
       "  <tbody>\n",
       "    <tr>\n",
       "      <th>819</th>\n",
       "      <td>8.3</td>\n",
       "      <td>0.60</td>\n",
       "      <td>0.25</td>\n",
       "      <td>2.2</td>\n",
       "      <td>0.118</td>\n",
       "      <td>9.0</td>\n",
       "      <td>38.0</td>\n",
       "      <td>0.99616</td>\n",
       "      <td>3.15</td>\n",
       "      <td>0.53</td>\n",
       "      <td>9.8</td>\n",
       "      <td>5</td>\n",
       "    </tr>\n",
       "    <tr>\n",
       "      <th>357</th>\n",
       "      <td>10.5</td>\n",
       "      <td>0.24</td>\n",
       "      <td>0.42</td>\n",
       "      <td>1.8</td>\n",
       "      <td>0.077</td>\n",
       "      <td>6.0</td>\n",
       "      <td>22.0</td>\n",
       "      <td>0.99760</td>\n",
       "      <td>3.21</td>\n",
       "      <td>1.05</td>\n",
       "      <td>10.8</td>\n",
       "      <td>7</td>\n",
       "    </tr>\n",
       "    <tr>\n",
       "      <th>385</th>\n",
       "      <td>9.5</td>\n",
       "      <td>0.46</td>\n",
       "      <td>0.49</td>\n",
       "      <td>6.3</td>\n",
       "      <td>0.064</td>\n",
       "      <td>5.0</td>\n",
       "      <td>17.0</td>\n",
       "      <td>0.99880</td>\n",
       "      <td>3.21</td>\n",
       "      <td>0.73</td>\n",
       "      <td>11.0</td>\n",
       "      <td>6</td>\n",
       "    </tr>\n",
       "    <tr>\n",
       "      <th>1057</th>\n",
       "      <td>5.6</td>\n",
       "      <td>0.62</td>\n",
       "      <td>0.03</td>\n",
       "      <td>1.5</td>\n",
       "      <td>0.080</td>\n",
       "      <td>6.0</td>\n",
       "      <td>13.0</td>\n",
       "      <td>0.99498</td>\n",
       "      <td>3.66</td>\n",
       "      <td>0.62</td>\n",
       "      <td>10.1</td>\n",
       "      <td>4</td>\n",
       "    </tr>\n",
       "    <tr>\n",
       "      <th>161</th>\n",
       "      <td>8.9</td>\n",
       "      <td>0.59</td>\n",
       "      <td>0.50</td>\n",
       "      <td>2.0</td>\n",
       "      <td>0.337</td>\n",
       "      <td>27.0</td>\n",
       "      <td>81.0</td>\n",
       "      <td>0.99640</td>\n",
       "      <td>3.04</td>\n",
       "      <td>1.61</td>\n",
       "      <td>9.5</td>\n",
       "      <td>6</td>\n",
       "    </tr>\n",
       "  </tbody>\n",
       "</table>\n",
       "</div>"
      ],
      "text/plain": [
       "      fixed acidity  volatile acidity  citric acid  residual sugar  chlorides  \\\n",
       "819             8.3              0.60         0.25             2.2      0.118   \n",
       "357            10.5              0.24         0.42             1.8      0.077   \n",
       "385             9.5              0.46         0.49             6.3      0.064   \n",
       "1057            5.6              0.62         0.03             1.5      0.080   \n",
       "161             8.9              0.59         0.50             2.0      0.337   \n",
       "\n",
       "      free sulfur dioxide  total sulfur dioxide  density    pH  sulphates  \\\n",
       "819                   9.0                  38.0  0.99616  3.15       0.53   \n",
       "357                   6.0                  22.0  0.99760  3.21       1.05   \n",
       "385                   5.0                  17.0  0.99880  3.21       0.73   \n",
       "1057                  6.0                  13.0  0.99498  3.66       0.62   \n",
       "161                  27.0                  81.0  0.99640  3.04       1.61   \n",
       "\n",
       "      alcohol  quality  \n",
       "819       9.8        5  \n",
       "357      10.8        7  \n",
       "385      11.0        6  \n",
       "1057     10.1        4  \n",
       "161       9.5        6  "
      ]
     },
     "execution_count": 23,
     "metadata": {},
     "output_type": "execute_result"
    }
   ],
   "source": [
    "train_set.head()"
   ]
  },
  {
   "cell_type": "code",
   "execution_count": 24,
   "id": "77443028",
   "metadata": {},
   "outputs": [
    {
     "data": {
      "text/plain": [
       "(914, 12)"
      ]
     },
     "execution_count": 24,
     "metadata": {},
     "output_type": "execute_result"
    }
   ],
   "source": [
    "train_set.shape"
   ]
  },
  {
   "cell_type": "code",
   "execution_count": 25,
   "id": "1dc61201",
   "metadata": {},
   "outputs": [
    {
     "data": {
      "text/plain": [
       "5    0.422319\n",
       "6    0.404814\n",
       "7    0.124726\n",
       "4    0.028446\n",
       "8    0.014223\n",
       "3    0.005470\n",
       "Name: quality, dtype: float64"
      ]
     },
     "execution_count": 25,
     "metadata": {},
     "output_type": "execute_result"
    }
   ],
   "source": [
    "train_set['quality'].value_counts() / len(train_set)"
   ]
  },
  {
   "cell_type": "code",
   "execution_count": null,
   "id": "d6e118f1",
   "metadata": {},
   "outputs": [],
   "source": []
  },
  {
   "cell_type": "code",
   "execution_count": 26,
   "id": "fb8ec1db",
   "metadata": {},
   "outputs": [
    {
     "data": {
      "text/html": [
       "<div>\n",
       "<style scoped>\n",
       "    .dataframe tbody tr th:only-of-type {\n",
       "        vertical-align: middle;\n",
       "    }\n",
       "\n",
       "    .dataframe tbody tr th {\n",
       "        vertical-align: top;\n",
       "    }\n",
       "\n",
       "    .dataframe thead th {\n",
       "        text-align: right;\n",
       "    }\n",
       "</style>\n",
       "<table border=\"1\" class=\"dataframe\">\n",
       "  <thead>\n",
       "    <tr style=\"text-align: right;\">\n",
       "      <th></th>\n",
       "      <th>fixed acidity</th>\n",
       "      <th>volatile acidity</th>\n",
       "      <th>citric acid</th>\n",
       "      <th>residual sugar</th>\n",
       "      <th>chlorides</th>\n",
       "      <th>free sulfur dioxide</th>\n",
       "      <th>total sulfur dioxide</th>\n",
       "      <th>density</th>\n",
       "      <th>pH</th>\n",
       "      <th>sulphates</th>\n",
       "      <th>alcohol</th>\n",
       "      <th>quality</th>\n",
       "    </tr>\n",
       "  </thead>\n",
       "  <tbody>\n",
       "    <tr>\n",
       "      <th>96</th>\n",
       "      <td>5.2</td>\n",
       "      <td>0.34</td>\n",
       "      <td>0.00</td>\n",
       "      <td>1.8</td>\n",
       "      <td>0.050</td>\n",
       "      <td>27.0</td>\n",
       "      <td>63.0</td>\n",
       "      <td>0.99160</td>\n",
       "      <td>3.68</td>\n",
       "      <td>0.79</td>\n",
       "      <td>14.0</td>\n",
       "      <td>6</td>\n",
       "    </tr>\n",
       "    <tr>\n",
       "      <th>442</th>\n",
       "      <td>8.8</td>\n",
       "      <td>0.60</td>\n",
       "      <td>0.29</td>\n",
       "      <td>2.2</td>\n",
       "      <td>0.098</td>\n",
       "      <td>5.0</td>\n",
       "      <td>15.0</td>\n",
       "      <td>0.99880</td>\n",
       "      <td>3.36</td>\n",
       "      <td>0.49</td>\n",
       "      <td>9.1</td>\n",
       "      <td>5</td>\n",
       "    </tr>\n",
       "    <tr>\n",
       "      <th>872</th>\n",
       "      <td>7.6</td>\n",
       "      <td>0.43</td>\n",
       "      <td>0.29</td>\n",
       "      <td>2.1</td>\n",
       "      <td>0.075</td>\n",
       "      <td>19.0</td>\n",
       "      <td>66.0</td>\n",
       "      <td>0.99718</td>\n",
       "      <td>3.40</td>\n",
       "      <td>0.64</td>\n",
       "      <td>9.5</td>\n",
       "      <td>5</td>\n",
       "    </tr>\n",
       "    <tr>\n",
       "      <th>764</th>\n",
       "      <td>6.8</td>\n",
       "      <td>0.48</td>\n",
       "      <td>0.08</td>\n",
       "      <td>1.8</td>\n",
       "      <td>0.074</td>\n",
       "      <td>40.0</td>\n",
       "      <td>64.0</td>\n",
       "      <td>0.99529</td>\n",
       "      <td>3.12</td>\n",
       "      <td>0.49</td>\n",
       "      <td>9.6</td>\n",
       "      <td>5</td>\n",
       "    </tr>\n",
       "    <tr>\n",
       "      <th>570</th>\n",
       "      <td>7.7</td>\n",
       "      <td>0.60</td>\n",
       "      <td>0.00</td>\n",
       "      <td>2.6</td>\n",
       "      <td>0.055</td>\n",
       "      <td>7.0</td>\n",
       "      <td>13.0</td>\n",
       "      <td>0.99639</td>\n",
       "      <td>3.38</td>\n",
       "      <td>0.56</td>\n",
       "      <td>10.8</td>\n",
       "      <td>5</td>\n",
       "    </tr>\n",
       "  </tbody>\n",
       "</table>\n",
       "</div>"
      ],
      "text/plain": [
       "     fixed acidity  volatile acidity  citric acid  residual sugar  chlorides  \\\n",
       "96             5.2              0.34         0.00             1.8      0.050   \n",
       "442            8.8              0.60         0.29             2.2      0.098   \n",
       "872            7.6              0.43         0.29             2.1      0.075   \n",
       "764            6.8              0.48         0.08             1.8      0.074   \n",
       "570            7.7              0.60         0.00             2.6      0.055   \n",
       "\n",
       "     free sulfur dioxide  total sulfur dioxide  density    pH  sulphates  \\\n",
       "96                  27.0                  63.0  0.99160  3.68       0.79   \n",
       "442                  5.0                  15.0  0.99880  3.36       0.49   \n",
       "872                 19.0                  66.0  0.99718  3.40       0.64   \n",
       "764                 40.0                  64.0  0.99529  3.12       0.49   \n",
       "570                  7.0                  13.0  0.99639  3.38       0.56   \n",
       "\n",
       "     alcohol  quality  \n",
       "96      14.0        6  \n",
       "442      9.1        5  \n",
       "872      9.5        5  \n",
       "764      9.6        5  \n",
       "570     10.8        5  "
      ]
     },
     "execution_count": 26,
     "metadata": {},
     "output_type": "execute_result"
    }
   ],
   "source": [
    "test_set.head()"
   ]
  },
  {
   "cell_type": "code",
   "execution_count": 27,
   "id": "43639e74",
   "metadata": {},
   "outputs": [
    {
     "data": {
      "text/plain": [
       "(229, 12)"
      ]
     },
     "execution_count": 27,
     "metadata": {},
     "output_type": "execute_result"
    }
   ],
   "source": [
    "test_set.shape"
   ]
  },
  {
   "cell_type": "code",
   "execution_count": 28,
   "id": "b7a43c86",
   "metadata": {},
   "outputs": [
    {
     "data": {
      "text/plain": [
       "5    0.423581\n",
       "6    0.401747\n",
       "7    0.126638\n",
       "4    0.030568\n",
       "8    0.013100\n",
       "3    0.004367\n",
       "Name: quality, dtype: float64"
      ]
     },
     "execution_count": 28,
     "metadata": {},
     "output_type": "execute_result"
    }
   ],
   "source": [
    "test_set['quality'].value_counts() / len(test_set)"
   ]
  },
  {
   "cell_type": "code",
   "execution_count": 29,
   "id": "cbca9dac",
   "metadata": {},
   "outputs": [],
   "source": [
    "# We can see that the proportions are roughly the same, which is good"
   ]
  },
  {
   "cell_type": "code",
   "execution_count": 30,
   "id": "abcde02f",
   "metadata": {},
   "outputs": [],
   "source": [
    "# Let's drop the labels from `train_set` and `test_set`"
   ]
  },
  {
   "cell_type": "code",
   "execution_count": 31,
   "id": "ad6ad9ff",
   "metadata": {},
   "outputs": [],
   "source": [
    "y_train = train_set['quality']\n",
    "train_set.drop('quality', axis=1, inplace=True)"
   ]
  },
  {
   "cell_type": "code",
   "execution_count": 32,
   "id": "27e4d2af",
   "metadata": {},
   "outputs": [],
   "source": [
    "y_test = test_set['quality']\n",
    "test_set.drop('quality', axis=1, inplace=True)"
   ]
  },
  {
   "cell_type": "code",
   "execution_count": 33,
   "id": "d16628c6",
   "metadata": {},
   "outputs": [],
   "source": [
    "# Convert from pd series to array\n",
    "y_train = np.asarray(y_train)\n",
    "y_test  = np.asarray(y_test)"
   ]
  },
  {
   "cell_type": "code",
   "execution_count": 34,
   "id": "3d988cf7",
   "metadata": {},
   "outputs": [],
   "source": [
    "# Until now, we have (train_set, y_train), (test_set, y_test)"
   ]
  },
  {
   "cell_type": "code",
   "execution_count": 35,
   "id": "77377b75",
   "metadata": {},
   "outputs": [],
   "source": [
    "attrs = []\n",
    "for attr in train_set.columns:\n",
    "    attrs.append(attr)"
   ]
  },
  {
   "cell_type": "code",
   "execution_count": 36,
   "id": "829f871c",
   "metadata": {},
   "outputs": [],
   "source": [
    "# The dataset doesn't have any missing values\n",
    "# Contains only numerical values, so we don't need separate pipelines\n",
    "\n",
    "from sklearn.compose import ColumnTransformer\n",
    "from sklearn.pipeline import Pipeline\n",
    "from sklearn.preprocessing import Normalizer\n",
    "\n",
    "pipe = Pipeline([\n",
    "    ('normalizer', Normalizer()),\n",
    "])\n",
    "\n",
    "transformer = ColumnTransformer([\n",
    "    ('num', pipe, attrs),\n",
    "])"
   ]
  },
  {
   "cell_type": "code",
   "execution_count": 37,
   "id": "caa88cdb",
   "metadata": {},
   "outputs": [
    {
     "data": {
      "text/plain": [
       "ColumnTransformer(transformers=[('num',\n",
       "                                 Pipeline(steps=[('normalizer', Normalizer())]),\n",
       "                                 ['fixed acidity', 'volatile acidity',\n",
       "                                  'citric acid', 'residual sugar', 'chlorides',\n",
       "                                  'free sulfur dioxide', 'total sulfur dioxide',\n",
       "                                  'density', 'pH', 'sulphates', 'alcohol'])])"
      ]
     },
     "execution_count": 37,
     "metadata": {},
     "output_type": "execute_result"
    }
   ],
   "source": [
    "transformer"
   ]
  },
  {
   "cell_type": "code",
   "execution_count": 38,
   "id": "34eeeba0",
   "metadata": {},
   "outputs": [],
   "source": [
    "X_train = transformer.fit_transform(train_set[attrs])"
   ]
  },
  {
   "cell_type": "code",
   "execution_count": 39,
   "id": "d32e05af",
   "metadata": {},
   "outputs": [
    {
     "data": {
      "text/plain": [
       "(914, 11)"
      ]
     },
     "execution_count": 39,
     "metadata": {},
     "output_type": "execute_result"
    }
   ],
   "source": [
    "X_train.shape"
   ]
  },
  {
   "cell_type": "code",
   "execution_count": 40,
   "id": "9c8119c9",
   "metadata": {},
   "outputs": [
    {
     "data": {
      "text/plain": [
       "array([0.20092658, 0.01452481, 0.00605201, 0.05325765, 0.00285655,\n",
       "       0.2178722 , 0.91990483, 0.02411506, 0.07625527, 0.01283025,\n",
       "       0.23723861])"
      ]
     },
     "execution_count": 40,
     "metadata": {},
     "output_type": "execute_result"
    }
   ],
   "source": [
    "X_train[0]"
   ]
  },
  {
   "cell_type": "code",
   "execution_count": 41,
   "id": "b540c9ca",
   "metadata": {},
   "outputs": [],
   "source": [
    "X_test = transformer.transform(test_set[attrs])"
   ]
  },
  {
   "cell_type": "code",
   "execution_count": 42,
   "id": "6858e6ae",
   "metadata": {},
   "outputs": [
    {
     "data": {
      "text/plain": [
       "(229, 11)"
      ]
     },
     "execution_count": 42,
     "metadata": {},
     "output_type": "execute_result"
    }
   ],
   "source": [
    "X_test.shape"
   ]
  },
  {
   "cell_type": "code",
   "execution_count": null,
   "id": "8f9391aa",
   "metadata": {},
   "outputs": [],
   "source": []
  },
  {
   "cell_type": "code",
   "execution_count": 43,
   "id": "ce519c66",
   "metadata": {},
   "outputs": [],
   "source": [
    "# Until now, we have (X_train, y_train) and (X_test, y_test)"
   ]
  },
  {
   "cell_type": "code",
   "execution_count": 44,
   "id": "5e7ab9fa",
   "metadata": {},
   "outputs": [
    {
     "data": {
      "text/plain": [
       "DecisionTreeClassifier(random_state=42)"
      ]
     },
     "execution_count": 44,
     "metadata": {},
     "output_type": "execute_result"
    }
   ],
   "source": [
    "# Let's try a base model to see the first results\n",
    "from sklearn.tree import DecisionTreeClassifier\n",
    "\n",
    "tree_clf = DecisionTreeClassifier(random_state=RANDOM_STATE)\n",
    "tree_clf.fit(X_train, y_train)"
   ]
  },
  {
   "cell_type": "code",
   "execution_count": 45,
   "id": "097ca25e",
   "metadata": {},
   "outputs": [
    {
     "data": {
      "text/plain": [
       "0.5414847161572053"
      ]
     },
     "execution_count": 45,
     "metadata": {},
     "output_type": "execute_result"
    }
   ],
   "source": [
    "from sklearn.metrics import accuracy_score\n",
    "\n",
    "y_pred = tree_clf.predict(X_test)\n",
    "tree_acc = accuracy_score(y_test, y_pred)\n",
    "tree_acc"
   ]
  },
  {
   "cell_type": "code",
   "execution_count": 46,
   "id": "a18f96cc",
   "metadata": {},
   "outputs": [
    {
     "data": {
      "text/plain": [
       "array([[  3,   5],\n",
       "       [  4,  26],\n",
       "       [  5, 386],\n",
       "       [  6, 370],\n",
       "       [  7, 114],\n",
       "       [  8,  13]], dtype=int64)"
      ]
     },
     "execution_count": 46,
     "metadata": {},
     "output_type": "execute_result"
    }
   ],
   "source": [
    "(unique, counts) = np.unique(y_train, return_counts=True)\n",
    "freq = np.asarray((unique, counts)).T\n",
    "freq"
   ]
  },
  {
   "cell_type": "code",
   "execution_count": 47,
   "id": "d7b8e59d",
   "metadata": {},
   "outputs": [],
   "source": [
    "# We can see that the minority classes have very few instances\n",
    "# This leads to poor predictions\n",
    "\n",
    "# We need to find a way to augmentate the minority instances"
   ]
  },
  {
   "cell_type": "code",
   "execution_count": 48,
   "id": "d2d19fdc",
   "metadata": {},
   "outputs": [],
   "source": [
    "# Let's use the SMOTE class to perform oversampling"
   ]
  },
  {
   "cell_type": "code",
   "execution_count": 49,
   "id": "ae30606b",
   "metadata": {},
   "outputs": [
    {
     "name": "stdout",
     "output_type": "stream",
     "text": [
      "Requirement already satisfied: imbalanced-learn in f:\\anaconda3\\lib\\site-packages (0.9.0)\n",
      "Requirement already satisfied: threadpoolctl>=2.0.0 in f:\\anaconda3\\lib\\site-packages (from imbalanced-learn) (2.1.0)\n",
      "Requirement already satisfied: numpy>=1.14.6 in f:\\anaconda3\\lib\\site-packages (from imbalanced-learn) (1.20.1)\n",
      "Requirement already satisfied: scikit-learn>=1.0.1 in f:\\anaconda3\\lib\\site-packages (from imbalanced-learn) (1.0.2)\n",
      "Requirement already satisfied: scipy>=1.1.0 in f:\\anaconda3\\lib\\site-packages (from imbalanced-learn) (1.6.2)\n",
      "Requirement already satisfied: joblib>=0.11 in f:\\anaconda3\\lib\\site-packages (from imbalanced-learn) (1.0.1)\n"
     ]
    }
   ],
   "source": [
    "!pip3.8 install imbalanced-learn"
   ]
  },
  {
   "cell_type": "code",
   "execution_count": 52,
   "id": "4b66cc0f",
   "metadata": {},
   "outputs": [],
   "source": [
    "from imblearn.over_sampling import SMOTE\n",
    "smote = SMOTE(k_neighbors=4, random_state=RANDOM_STATE)\n",
    "X_train_res, y_train_res = smote.fit_resample(X_train, y_train)"
   ]
  },
  {
   "cell_type": "code",
   "execution_count": 53,
   "id": "540ed101",
   "metadata": {},
   "outputs": [
    {
     "data": {
      "text/plain": [
       "(914, 11)"
      ]
     },
     "execution_count": 53,
     "metadata": {},
     "output_type": "execute_result"
    }
   ],
   "source": [
    "X_train.shape"
   ]
  },
  {
   "cell_type": "code",
   "execution_count": 55,
   "id": "31c35ebf",
   "metadata": {},
   "outputs": [
    {
     "data": {
      "text/plain": [
       "(914,)"
      ]
     },
     "execution_count": 55,
     "metadata": {},
     "output_type": "execute_result"
    }
   ],
   "source": [
    "y_train.shape"
   ]
  },
  {
   "cell_type": "code",
   "execution_count": 54,
   "id": "37f2f024",
   "metadata": {},
   "outputs": [
    {
     "data": {
      "text/plain": [
       "(2316, 11)"
      ]
     },
     "execution_count": 54,
     "metadata": {},
     "output_type": "execute_result"
    }
   ],
   "source": [
    "X_train_res.shape"
   ]
  },
  {
   "cell_type": "code",
   "execution_count": 56,
   "id": "10ebc0cf",
   "metadata": {},
   "outputs": [
    {
     "data": {
      "text/plain": [
       "(2316,)"
      ]
     },
     "execution_count": 56,
     "metadata": {},
     "output_type": "execute_result"
    }
   ],
   "source": [
    "y_train_res.shape"
   ]
  },
  {
   "cell_type": "code",
   "execution_count": 57,
   "id": "bb608490",
   "metadata": {},
   "outputs": [
    {
     "data": {
      "text/plain": [
       "array([[  3, 386],\n",
       "       [  4, 386],\n",
       "       [  5, 386],\n",
       "       [  6, 386],\n",
       "       [  7, 386],\n",
       "       [  8, 386]], dtype=int64)"
      ]
     },
     "execution_count": 57,
     "metadata": {},
     "output_type": "execute_result"
    }
   ],
   "source": [
    "(unique, counts) = np.unique(y_train_res, return_counts=True)\n",
    "freq = np.asarray((unique, counts)).T\n",
    "freq"
   ]
  },
  {
   "cell_type": "code",
   "execution_count": 58,
   "id": "ba15a205",
   "metadata": {},
   "outputs": [
    {
     "data": {
      "text/plain": [
       "0.537117903930131"
      ]
     },
     "execution_count": 58,
     "metadata": {},
     "output_type": "execute_result"
    }
   ],
   "source": [
    "# Now, we have an equal number of instances in each class\n",
    "# Let's try again a base `tree_clf`\n",
    "\n",
    "tree_clf.fit(X_train_res, y_train_res)\n",
    "y_pred = tree_clf.predict(X_test)\n",
    "tree_acc = accuracy_score(y_test, y_pred)\n",
    "tree_acc"
   ]
  },
  {
   "cell_type": "code",
   "execution_count": 61,
   "id": "b12ac138",
   "metadata": {},
   "outputs": [
    {
     "data": {
      "text/plain": [
       "3    386\n",
       "4    386\n",
       "5    386\n",
       "6    386\n",
       "7    386\n",
       "8    386\n",
       "dtype: int64"
      ]
     },
     "execution_count": 61,
     "metadata": {},
     "output_type": "execute_result"
    }
   ],
   "source": [
    "# Another way to see how many instances we have in each class\n",
    "y_train_res_df = pd.DataFrame(y_train_res)\n",
    "y_train_res_df.value_counts()"
   ]
  },
  {
   "cell_type": "code",
   "execution_count": 66,
   "id": "389f9746",
   "metadata": {},
   "outputs": [],
   "source": [
    "# We don't see any improvement yet\n",
    "# Let's try a RandomForestClassifier\n",
    "\n",
    "from sklearn.ensemble import RandomForestClassifier\n",
    "\n",
    "rnd_clf = RandomForestClassifier(random_state=RANDOM_STATE)"
   ]
  },
  {
   "cell_type": "code",
   "execution_count": 67,
   "id": "1562ae19",
   "metadata": {},
   "outputs": [
    {
     "data": {
      "text/plain": [
       "RandomForestClassifier(random_state=42)"
      ]
     },
     "execution_count": 67,
     "metadata": {},
     "output_type": "execute_result"
    }
   ],
   "source": [
    "rnd_clf.fit(X_train, y_train)"
   ]
  },
  {
   "cell_type": "code",
   "execution_count": 68,
   "id": "f25743a8",
   "metadata": {},
   "outputs": [
    {
     "data": {
      "text/plain": [
       "0.6462882096069869"
      ]
     },
     "execution_count": 68,
     "metadata": {},
     "output_type": "execute_result"
    }
   ],
   "source": [
    "y_pred = rnd_clf.predict(X_test)\n",
    "rnd_acc = accuracy_score(y_test, y_pred)\n",
    "rnd_acc"
   ]
  },
  {
   "cell_type": "code",
   "execution_count": 69,
   "id": "49d3c994",
   "metadata": {},
   "outputs": [
    {
     "data": {
      "text/plain": [
       "RandomForestClassifier(random_state=42)"
      ]
     },
     "execution_count": 69,
     "metadata": {},
     "output_type": "execute_result"
    }
   ],
   "source": [
    "rnd_clf.fit(X_train_res, y_train_res)"
   ]
  },
  {
   "cell_type": "code",
   "execution_count": 70,
   "id": "f7dd9bd0",
   "metadata": {},
   "outputs": [
    {
     "data": {
      "text/plain": [
       "0.5851528384279476"
      ]
     },
     "execution_count": 70,
     "metadata": {},
     "output_type": "execute_result"
    }
   ],
   "source": [
    "y_pred = rnd_clf.predict(X_test)\n",
    "rnd_acc = accuracy_score(y_test, y_pred)\n",
    "rnd_acc"
   ]
  },
  {
   "cell_type": "code",
   "execution_count": 72,
   "id": "2881a75b",
   "metadata": {},
   "outputs": [],
   "source": [
    "# As we can see, there is no improvement with the oversampling technique\n",
    "# Because the model is expecting to receive a balanced test set, which is not the case"
   ]
  },
  {
   "cell_type": "code",
   "execution_count": 73,
   "id": "ca6fe9ea",
   "metadata": {},
   "outputs": [],
   "source": [
    "# So, let's use the (X_train, y_train), (X_test, y_test) sets"
   ]
  },
  {
   "cell_type": "code",
   "execution_count": 77,
   "id": "3d1a1798",
   "metadata": {},
   "outputs": [],
   "source": [
    "# We can try to do a TSNE for dataviz\n",
    "from sklearn.manifold import TSNE\n",
    "tsne = TSNE(n_components=2, n_iter=10000, random_state=RANDOM_STATE)"
   ]
  },
  {
   "cell_type": "code",
   "execution_count": 78,
   "id": "ef7beb57",
   "metadata": {},
   "outputs": [
    {
     "name": "stderr",
     "output_type": "stream",
     "text": [
      "F:\\anaconda3\\lib\\site-packages\\sklearn\\manifold\\_t_sne.py:780: FutureWarning: The default initialization in TSNE will change from 'random' to 'pca' in 1.2.\n",
      "  warnings.warn(\n",
      "F:\\anaconda3\\lib\\site-packages\\sklearn\\manifold\\_t_sne.py:790: FutureWarning: The default learning rate in TSNE will change from 200.0 to 'auto' in 1.2.\n",
      "  warnings.warn(\n"
     ]
    }
   ],
   "source": [
    "X_train_red = tsne.fit_transform(X_train)"
   ]
  },
  {
   "cell_type": "code",
   "execution_count": 79,
   "id": "4fad0a56",
   "metadata": {},
   "outputs": [
    {
     "data": {
      "text/plain": [
       "(914, 2)"
      ]
     },
     "execution_count": 79,
     "metadata": {},
     "output_type": "execute_result"
    }
   ],
   "source": [
    "X_train_red.shape"
   ]
  },
  {
   "cell_type": "code",
   "execution_count": 80,
   "id": "b654ac17",
   "metadata": {},
   "outputs": [],
   "source": [
    "def plot_clusters(X, y):\n",
    "    plt.figure(figsize=(10, 7))\n",
    "    plt.scatter(X[:, 0], X[:, 1], c=y, cmap=\"jet\")\n",
    "    plt.axis('off')\n",
    "    plt.colorbar()"
   ]
  },
  {
   "cell_type": "code",
   "execution_count": 83,
   "id": "2d8aee7b",
   "metadata": {},
   "outputs": [
    {
     "data": {
      "image/png": "[encoded data removed]",
      "text/plain": [
       "<Figure size 720x504 with 2 Axes>"
      ]
     },
     "metadata": {
      "needs_background": "light"
     },
     "output_type": "display_data"
    }
   ],
   "source": [
    "plot_clusters(X_train_red, y_train)"
   ]
  },
  {
   "cell_type": "code",
   "execution_count": 84,
   "id": "4908b30d",
   "metadata": {},
   "outputs": [],
   "source": [
    "# There are not obvious clusters\n",
    "# Let's try an unsupervised algorithm such as KMeans\n",
    "# Maybe it will result in a better cluster visualisation"
   ]
  },
  {
   "cell_type": "code",
   "execution_count": 100,
   "id": "e2f3c3bc",
   "metadata": {
    "scrolled": true
   },
   "outputs": [],
   "source": [
    "from sklearn.cluster import KMeans\n",
    "\n",
    "kmeans = KMeans(n_clusters=6, random_state=RANDOM_STATE)\n",
    "clusters = kmeans.fit_predict(X_train)"
   ]
  },
  {
   "cell_type": "code",
   "execution_count": 101,
   "id": "5d679f39",
   "metadata": {},
   "outputs": [
    {
     "data": {
      "text/html": [
       "<div>\n",
       "<style scoped>\n",
       "    .dataframe tbody tr th:only-of-type {\n",
       "        vertical-align: middle;\n",
       "    }\n",
       "\n",
       "    .dataframe tbody tr th {\n",
       "        vertical-align: top;\n",
       "    }\n",
       "\n",
       "    .dataframe thead th {\n",
       "        text-align: right;\n",
       "    }\n",
       "</style>\n",
       "<table border=\"1\" class=\"dataframe\">\n",
       "  <thead>\n",
       "    <tr style=\"text-align: right;\">\n",
       "      <th></th>\n",
       "      <th>PC1</th>\n",
       "      <th>PC2</th>\n",
       "    </tr>\n",
       "  </thead>\n",
       "  <tbody>\n",
       "    <tr>\n",
       "      <th>0</th>\n",
       "      <td>-0.083969</td>\n",
       "      <td>-0.102137</td>\n",
       "    </tr>\n",
       "    <tr>\n",
       "      <th>1</th>\n",
       "      <td>0.181252</td>\n",
       "      <td>-0.101486</td>\n",
       "    </tr>\n",
       "    <tr>\n",
       "      <th>2</th>\n",
       "      <td>0.309203</td>\n",
       "      <td>-0.099226</td>\n",
       "    </tr>\n",
       "    <tr>\n",
       "      <th>3</th>\n",
       "      <td>0.298452</td>\n",
       "      <td>0.031718</td>\n",
       "    </tr>\n",
       "    <tr>\n",
       "      <th>4</th>\n",
       "      <td>-0.242279</td>\n",
       "      <td>0.001005</td>\n",
       "    </tr>\n",
       "    <tr>\n",
       "      <th>...</th>\n",
       "      <td>...</td>\n",
       "      <td>...</td>\n",
       "    </tr>\n",
       "    <tr>\n",
       "      <th>909</th>\n",
       "      <td>-0.264707</td>\n",
       "      <td>0.030708</td>\n",
       "    </tr>\n",
       "    <tr>\n",
       "      <th>910</th>\n",
       "      <td>0.341681</td>\n",
       "      <td>-0.092028</td>\n",
       "    </tr>\n",
       "    <tr>\n",
       "      <th>911</th>\n",
       "      <td>-0.043156</td>\n",
       "      <td>0.069492</td>\n",
       "    </tr>\n",
       "    <tr>\n",
       "      <th>912</th>\n",
       "      <td>-0.150971</td>\n",
       "      <td>-0.047376</td>\n",
       "    </tr>\n",
       "    <tr>\n",
       "      <th>913</th>\n",
       "      <td>-0.291478</td>\n",
       "      <td>-0.169983</td>\n",
       "    </tr>\n",
       "  </tbody>\n",
       "</table>\n",
       "<p>914 rows × 2 columns</p>\n",
       "</div>"
      ],
      "text/plain": [
       "          PC1       PC2\n",
       "0   -0.083969 -0.102137\n",
       "1    0.181252 -0.101486\n",
       "2    0.309203 -0.099226\n",
       "3    0.298452  0.031718\n",
       "4   -0.242279  0.001005\n",
       "..        ...       ...\n",
       "909 -0.264707  0.030708\n",
       "910  0.341681 -0.092028\n",
       "911 -0.043156  0.069492\n",
       "912 -0.150971 -0.047376\n",
       "913 -0.291478 -0.169983\n",
       "\n",
       "[914 rows x 2 columns]"
      ]
     },
     "execution_count": 101,
     "metadata": {},
     "output_type": "execute_result"
    }
   ],
   "source": [
    "# Let's combine KMeans with PCA\n",
    "from sklearn.decomposition import PCA\n",
    "\n",
    "pca = PCA(n_components=2, random_state=RANDOM_STATE)\n",
    "X_red = pd.DataFrame(pca.fit_transform(X_train), columns=['PC1', 'PC2'])\n",
    "X_red"
   ]
  },
  {
   "cell_type": "code",
   "execution_count": 104,
   "id": "a89c0cd0",
   "metadata": {},
   "outputs": [
    {
     "data": {
      "text/plain": [
       "(914, 11)"
      ]
     },
     "execution_count": 104,
     "metadata": {},
     "output_type": "execute_result"
    }
   ],
   "source": [
    "X_train.shape\n"
   ]
  },
  {
   "cell_type": "code",
   "execution_count": 105,
   "id": "9a51be3d",
   "metadata": {},
   "outputs": [
    {
     "data": {
      "text/html": [
       "<div>\n",
       "<style scoped>\n",
       "    .dataframe tbody tr th:only-of-type {\n",
       "        vertical-align: middle;\n",
       "    }\n",
       "\n",
       "    .dataframe tbody tr th {\n",
       "        vertical-align: top;\n",
       "    }\n",
       "\n",
       "    .dataframe thead th {\n",
       "        text-align: right;\n",
       "    }\n",
       "</style>\n",
       "<table border=\"1\" class=\"dataframe\">\n",
       "  <thead>\n",
       "    <tr style=\"text-align: right;\">\n",
       "      <th></th>\n",
       "      <th>PC1</th>\n",
       "      <th>PC2</th>\n",
       "      <th>cluster</th>\n",
       "    </tr>\n",
       "  </thead>\n",
       "  <tbody>\n",
       "    <tr>\n",
       "      <th>0</th>\n",
       "      <td>-0.083969</td>\n",
       "      <td>-0.102137</td>\n",
       "      <td>4</td>\n",
       "    </tr>\n",
       "    <tr>\n",
       "      <th>1</th>\n",
       "      <td>0.181252</td>\n",
       "      <td>-0.101486</td>\n",
       "      <td>3</td>\n",
       "    </tr>\n",
       "    <tr>\n",
       "      <th>2</th>\n",
       "      <td>0.309203</td>\n",
       "      <td>-0.099226</td>\n",
       "      <td>3</td>\n",
       "    </tr>\n",
       "    <tr>\n",
       "      <th>3</th>\n",
       "      <td>0.298452</td>\n",
       "      <td>0.031718</td>\n",
       "      <td>3</td>\n",
       "    </tr>\n",
       "    <tr>\n",
       "      <th>4</th>\n",
       "      <td>-0.242279</td>\n",
       "      <td>0.001005</td>\n",
       "      <td>0</td>\n",
       "    </tr>\n",
       "    <tr>\n",
       "      <th>...</th>\n",
       "      <td>...</td>\n",
       "      <td>...</td>\n",
       "      <td>...</td>\n",
       "    </tr>\n",
       "    <tr>\n",
       "      <th>909</th>\n",
       "      <td>-0.264707</td>\n",
       "      <td>0.030708</td>\n",
       "      <td>0</td>\n",
       "    </tr>\n",
       "    <tr>\n",
       "      <th>910</th>\n",
       "      <td>0.341681</td>\n",
       "      <td>-0.092028</td>\n",
       "      <td>3</td>\n",
       "    </tr>\n",
       "    <tr>\n",
       "      <th>911</th>\n",
       "      <td>-0.043156</td>\n",
       "      <td>0.069492</td>\n",
       "      <td>2</td>\n",
       "    </tr>\n",
       "    <tr>\n",
       "      <th>912</th>\n",
       "      <td>-0.150971</td>\n",
       "      <td>-0.047376</td>\n",
       "      <td>4</td>\n",
       "    </tr>\n",
       "    <tr>\n",
       "      <th>913</th>\n",
       "      <td>-0.291478</td>\n",
       "      <td>-0.169983</td>\n",
       "      <td>0</td>\n",
       "    </tr>\n",
       "  </tbody>\n",
       "</table>\n",
       "<p>914 rows × 3 columns</p>\n",
       "</div>"
      ],
      "text/plain": [
       "          PC1       PC2  cluster\n",
       "0   -0.083969 -0.102137        4\n",
       "1    0.181252 -0.101486        3\n",
       "2    0.309203 -0.099226        3\n",
       "3    0.298452  0.031718        3\n",
       "4   -0.242279  0.001005        0\n",
       "..        ...       ...      ...\n",
       "909 -0.264707  0.030708        0\n",
       "910  0.341681 -0.092028        3\n",
       "911 -0.043156  0.069492        2\n",
       "912 -0.150971 -0.047376        4\n",
       "913 -0.291478 -0.169983        0\n",
       "\n",
       "[914 rows x 3 columns]"
      ]
     },
     "execution_count": 105,
     "metadata": {},
     "output_type": "execute_result"
    }
   ],
   "source": [
    "X_red['cluster'] = clusters\n",
    "X_red"
   ]
  },
  {
   "cell_type": "code",
   "execution_count": 107,
   "id": "7d1cb021",
   "metadata": {},
   "outputs": [
    {
     "data": {
      "text/plain": [
       "array([[-0.2501191 , -0.09662847],\n",
       "       [ 0.07940252,  0.1078521 ],\n",
       "       [-0.13628127,  0.14003922],\n",
       "       [ 0.26419742, -0.04661801],\n",
       "       [-0.05188364, -0.06818807],\n",
       "       [ 0.48575431, -0.03351716]])"
      ]
     },
     "execution_count": 107,
     "metadata": {},
     "output_type": "execute_result"
    }
   ],
   "source": [
    "# Only `transform` (we fitted the pca model previously)\n",
    "reduced_centers = pca.transform(kmeans.cluster_centers_)\n",
    "reduced_centers"
   ]
  },
  {
   "cell_type": "code",
   "execution_count": 108,
   "id": "b35384da",
   "metadata": {},
   "outputs": [
    {
     "data": {
      "image/png": "[encoded data removed]",
      "text/plain": [
       "<Figure size 1008x720 with 1 Axes>"
      ]
     },
     "metadata": {
      "needs_background": "light"
     },
     "output_type": "display_data"
    }
   ],
   "source": [
    "plt.figure(figsize=(14, 10))\n",
    "\n",
    "plt.scatter(X_red[X_red['cluster'] == 0].loc[:, 'PC1'], X_red[X_red['cluster'] == 0].loc[:, 'PC2'], color='slateblue')\n",
    "plt.scatter(X_red[X_red['cluster'] == 1].loc[:, 'PC1'], X_red[X_red['cluster'] == 1].loc[:, 'PC2'], color='springgreen')\n",
    "plt.scatter(X_red[X_red['cluster'] == 2].loc[:, 'PC1'], X_red[X_red['cluster'] == 2].loc[:, 'PC2'], color='indigo')\n",
    "plt.scatter(X_red[X_red['cluster'] == 3].loc[:, 'PC1'], X_red[X_red['cluster'] == 3].loc[:, 'PC2'], color='teal')\n",
    "plt.scatter(X_red[X_red['cluster'] == 4].loc[:, 'PC1'], X_red[X_red['cluster'] == 4].loc[:, 'PC2'], color='lightcoral')\n",
    "plt.scatter(X_red[X_red['cluster'] == 5].loc[:, 'PC1'], X_red[X_red['cluster'] == 5].loc[:, 'PC2'], color='gold')\n",
    "\n",
    "plt.scatter(reduced_centers[:, 0], reduced_centers[:, 1], color='black', marker='x', s=300)\n",
    "\n",
    "plt.show()"
   ]
  },
  {
   "cell_type": "code",
   "execution_count": 114,
   "id": "95625c6d",
   "metadata": {},
   "outputs": [],
   "source": [
    "# As we can see, KMeans finds some interesting clusters\n",
    "# But this doesn't mean that they are the correct ones"
   ]
  },
  {
   "cell_type": "code",
   "execution_count": 117,
   "id": "7790d947",
   "metadata": {},
   "outputs": [],
   "source": [
    "# Anyway, we can continue with the (X_train, y_train), (X_test, y_test) sets"
   ]
  },
  {
   "cell_type": "code",
   "execution_count": 118,
   "id": "4030f86d",
   "metadata": {},
   "outputs": [],
   "source": [
    "# Let's go ahead and try different base models:\n",
    "# -> LinearSVC\n",
    "# -> KNeighborsClassifier\n",
    "# -> Kernelized SVM\n",
    "# -> RandomForest\n",
    "# Then we can combine them into:\n",
    "# -> EnsembleClassifiers\n",
    "# Last, use a grid search on the entire ensemble"
   ]
  },
  {
   "cell_type": "code",
   "execution_count": 126,
   "id": "e252cdac",
   "metadata": {},
   "outputs": [
    {
     "data": {
      "text/plain": [
       "SVC(kernel='linear', probability=True)"
      ]
     },
     "execution_count": 126,
     "metadata": {},
     "output_type": "execute_result"
    }
   ],
   "source": [
    "# `LinearSVC`\n",
    "from sklearn.svm import SVC\n",
    "\n",
    "lin_svc = SVC(kernel='linear', probability=True)\n",
    "lin_svc.fit(X_train, y_train) "
   ]
  },
  {
   "cell_type": "code",
   "execution_count": 127,
   "id": "458d6086",
   "metadata": {},
   "outputs": [
    {
     "data": {
      "text/plain": [
       "0.5633187772925764"
      ]
     },
     "execution_count": 127,
     "metadata": {},
     "output_type": "execute_result"
    }
   ],
   "source": [
    "y_pred = lin_svc.predict(X_test)\n",
    "lin_svc_acc = accuracy_score(y_test, y_pred)\n",
    "lin_svc_acc"
   ]
  },
  {
   "cell_type": "code",
   "execution_count": null,
   "id": "3065517b",
   "metadata": {},
   "outputs": [],
   "source": []
  },
  {
   "cell_type": "code",
   "execution_count": 128,
   "id": "51b3e7eb",
   "metadata": {},
   "outputs": [
    {
     "data": {
      "text/plain": [
       "KNeighborsClassifier()"
      ]
     },
     "execution_count": 128,
     "metadata": {},
     "output_type": "execute_result"
    }
   ],
   "source": [
    "# `KNeighborsClassifier`\n",
    "from sklearn.neighbors import KNeighborsClassifier\n",
    "\n",
    "knn = KNeighborsClassifier()\n",
    "knn.fit(X_train, y_train)"
   ]
  },
  {
   "cell_type": "code",
   "execution_count": 129,
   "id": "73dfdaa0",
   "metadata": {},
   "outputs": [
    {
     "data": {
      "text/plain": [
       "0.5109170305676856"
      ]
     },
     "execution_count": 129,
     "metadata": {},
     "output_type": "execute_result"
    }
   ],
   "source": [
    "y_pred = knn.predict(X_test)\n",
    "knn_acc = accuracy_score(y_test, y_pred)\n",
    "knn_acc"
   ]
  },
  {
   "cell_type": "code",
   "execution_count": null,
   "id": "9166c3ae",
   "metadata": {},
   "outputs": [],
   "source": []
  },
  {
   "cell_type": "code",
   "execution_count": 136,
   "id": "b8e3f6f6",
   "metadata": {},
   "outputs": [
    {
     "data": {
      "text/plain": [
       "SVC(probability=True)"
      ]
     },
     "execution_count": 136,
     "metadata": {},
     "output_type": "execute_result"
    }
   ],
   "source": [
    "# `Kernelized SVM`\n",
    "\n",
    "from sklearn.svm import SVC\n",
    "\n",
    "svm = SVC(probability=True)\n",
    "svm.fit(X_train, y_train)"
   ]
  },
  {
   "cell_type": "code",
   "execution_count": 137,
   "id": "13356899",
   "metadata": {},
   "outputs": [
    {
     "data": {
      "text/plain": [
       "0.5676855895196506"
      ]
     },
     "execution_count": 137,
     "metadata": {},
     "output_type": "execute_result"
    }
   ],
   "source": [
    "y_pred = svm.predict(X_test)\n",
    "svm_acc = accuracy_score(y_test, y_pred)\n",
    "svm_acc"
   ]
  },
  {
   "cell_type": "code",
   "execution_count": null,
   "id": "90436b93",
   "metadata": {},
   "outputs": [],
   "source": []
  },
  {
   "cell_type": "code",
   "execution_count": 130,
   "id": "4d3079dc",
   "metadata": {},
   "outputs": [
    {
     "data": {
      "text/plain": [
       "RandomForestClassifier()"
      ]
     },
     "execution_count": 130,
     "metadata": {},
     "output_type": "execute_result"
    }
   ],
   "source": [
    "# `RandomForest`\n",
    "from sklearn.ensemble import RandomForestClassifier\n",
    "\n",
    "rnd_forest = RandomForestClassifier()\n",
    "rnd_forest.fit(X_train, y_train)"
   ]
  },
  {
   "cell_type": "code",
   "execution_count": 131,
   "id": "4177521b",
   "metadata": {},
   "outputs": [
    {
     "data": {
      "text/plain": [
       "0.62882096069869"
      ]
     },
     "execution_count": 131,
     "metadata": {},
     "output_type": "execute_result"
    }
   ],
   "source": [
    "y_pred = rnd_forest.predict(X_test)\n",
    "rnd_forest_acc = accuracy_score(y_test, y_pred)\n",
    "rnd_forest_acc"
   ]
  },
  {
   "cell_type": "code",
   "execution_count": null,
   "id": "2dec34c6",
   "metadata": {},
   "outputs": [],
   "source": []
  },
  {
   "cell_type": "code",
   "execution_count": 134,
   "id": "7c17d757",
   "metadata": {},
   "outputs": [],
   "source": [
    "# Until now, the `RandomForest` have the best accuracy\n",
    "# The dataset doesn't have very correlated features and the model can't generalize well"
   ]
  },
  {
   "cell_type": "code",
   "execution_count": 144,
   "id": "63961773",
   "metadata": {},
   "outputs": [
    {
     "data": {
      "text/plain": [
       "VotingClassifier(estimators=[('rnd_forest', RandomForestClassifier()),\n",
       "                             ('svc', SVC(probability=True))],\n",
       "                 voting='soft')"
      ]
     },
     "execution_count": 144,
     "metadata": {},
     "output_type": "execute_result"
    }
   ],
   "source": [
    "# Let's try an ensemble (`VotingClassifier`)\n",
    "from sklearn.ensemble import VotingClassifier\n",
    "\n",
    "voting = VotingClassifier([\n",
    "    ('rnd_forest', rnd_forest),\n",
    "    ('svc', svm),\n",
    "], voting='soft')\n",
    "voting"
   ]
  },
  {
   "cell_type": "code",
   "execution_count": 145,
   "id": "10e36613",
   "metadata": {},
   "outputs": [],
   "source": [
    "def get_acc(model, X_train, y_train, X_test, y_test):\n",
    "    model.fit(X_train, y_train)\n",
    "    y_pred = model.predict(X_test)\n",
    "    return accuracy_score(y_test, y_pred)"
   ]
  },
  {
   "cell_type": "code",
   "execution_count": 151,
   "id": "35de4ed7",
   "metadata": {},
   "outputs": [
    {
     "data": {
      "text/plain": [
       "0.6681222707423581"
      ]
     },
     "execution_count": 151,
     "metadata": {},
     "output_type": "execute_result"
    }
   ],
   "source": [
    "voting_acc = get_acc(voting, X_train, y_train, X_test, y_test)\n",
    "voting_acc\n",
    "# From 62% to 66%. Let's use this `voting` clf"
   ]
  },
  {
   "cell_type": "code",
   "execution_count": 153,
   "id": "c3d7771c",
   "metadata": {},
   "outputs": [],
   "source": [
    "from sklearn.metrics import mean_squared_error\n",
    "from sklearn.model_selection import train_test_split\n",
    "\n",
    "def plot_learning_curves(model, X, y):\n",
    "    X_train, X_val, y_train, y_val = train_test_split(X, y, test_size=0.2, random_state=10)\n",
    "    train_errors, val_errors = [], []\n",
    "    \n",
    "    # Select a sized subset from the training set (10 instances, 11 instances,..., until all instances)\n",
    "    for m in range(10, len(X_train) + 1):\n",
    "        # Fit the model on that subset\n",
    "        model.fit(X_train[:m], y_train[:m])\n",
    "        \n",
    "        # Predict on the training subset\n",
    "        y_train_predict = model.predict(X_train[:m])\n",
    "        \n",
    "        # Predict on the validation subset\n",
    "        y_val_predict = model.predict(X_val)\n",
    "        \n",
    "        # Save the train and validation errors\n",
    "        train_errors.append(mean_squared_error(y_train[:m], y_train_predict))\n",
    "        val_errors.append(mean_squared_error(y_val, y_val_predict))\n",
    "\n",
    "    # Plot the results\n",
    "    plt.plot(np.sqrt(train_errors), \"r-+\", linewidth=2, label=\"train\")\n",
    "    plt.plot(np.sqrt(val_errors), \"b-\", linewidth=3, label=\"val\")\n",
    "    \n",
    "    plt.legend(loc=\"upper right\", fontsize=14)\n",
    "    \n",
    "    plt.xlabel(\"Training set size\", fontsize=14)\n",
    "    plt.ylabel(\"RMSE\", fontsize=14)"
   ]
  },
  {
   "cell_type": "code",
   "execution_count": 154,
   "id": "789f43f0",
   "metadata": {},
   "outputs": [
    {
     "data": {
      "image/png": "[encoded data removed]",
      "text/plain": [
       "<Figure size 432x288 with 1 Axes>"
      ]
     },
     "metadata": {
      "needs_background": "light"
     },
     "output_type": "display_data"
    }
   ],
   "source": [
    "plot_learning_curves(voting, X_train, y_train)"
   ]
  },
  {
   "cell_type": "code",
   "execution_count": null,
   "id": "67bb76cb",
   "metadata": {},
   "outputs": [],
   "source": [
    "# There is a gap between the curves. This means that the model performs significantly\n",
    "# better on the training data than on the validation data (overfitting)\n",
    "\n",
    "# If we had more data, we could try to feed the model with more training data,\n",
    "# until the validation error reaches the training error"
   ]
  },
  {
   "cell_type": "code",
   "execution_count": null,
   "id": "4f728099",
   "metadata": {},
   "outputs": [],
   "source": []
  },
  {
   "cell_type": "code",
   "execution_count": 156,
   "id": "c720cc65",
   "metadata": {},
   "outputs": [],
   "source": [
    "# Finally, we can try a grid search\n",
    "from sklearn.model_selection import GridSearchCV\n",
    "\n",
    "param_grid = {\n",
    "    'svc__C': [0.1, 0.25, 0.5, 0.75, 1],\n",
    "    'rnd_forest__max_depth': [None, 25, 50, 75, 100],\n",
    "    'rnd_forest__n_estimators': [75, 100, 125],\n",
    "}\n",
    "\n",
    "grid = GridSearchCV(estimator=voting, param_grid=param_grid, cv=3, verbose=2)"
   ]
  },
  {
   "cell_type": "code",
   "execution_count": 157,
   "id": "af3605c5",
   "metadata": {},
   "outputs": [
    {
     "name": "stdout",
     "output_type": "stream",
     "text": [
      "Fitting 3 folds for each of 75 candidates, totalling 225 fits\n",
      "[CV] END rnd_forest__max_depth=None, rnd_forest__n_estimators=75, svc__C=0.1; total time=   0.3s\n",
      "[CV] END rnd_forest__max_depth=None, rnd_forest__n_estimators=75, svc__C=0.1; total time=   0.3s\n",
      "[CV] END rnd_forest__max_depth=None, rnd_forest__n_estimators=75, svc__C=0.1; total time=   0.2s\n",
      "[CV] END rnd_forest__max_depth=None, rnd_forest__n_estimators=75, svc__C=0.25; total time=   0.2s\n",
      "[CV] END rnd_forest__max_depth=None, rnd_forest__n_estimators=75, svc__C=0.25; total time=   0.2s\n",
      "[CV] END rnd_forest__max_depth=None, rnd_forest__n_estimators=75, svc__C=0.25; total time=   0.2s\n",
      "[CV] END rnd_forest__max_depth=None, rnd_forest__n_estimators=75, svc__C=0.5; total time=   0.2s\n",
      "[CV] END rnd_forest__max_depth=None, rnd_forest__n_estimators=75, svc__C=0.5; total time=   0.2s\n",
      "[CV] END rnd_forest__max_depth=None, rnd_forest__n_estimators=75, svc__C=0.5; total time=   0.3s\n",
      "[CV] END rnd_forest__max_depth=None, rnd_forest__n_estimators=75, svc__C=0.75; total time=   0.2s\n",
      "[CV] END rnd_forest__max_depth=None, rnd_forest__n_estimators=75, svc__C=0.75; total time=   0.2s\n",
      "[CV] END rnd_forest__max_depth=None, rnd_forest__n_estimators=75, svc__C=0.75; total time=   0.2s\n",
      "[CV] END rnd_forest__max_depth=None, rnd_forest__n_estimators=75, svc__C=1; total time=   0.2s\n",
      "[CV] END rnd_forest__max_depth=None, rnd_forest__n_estimators=75, svc__C=1; total time=   0.2s\n",
      "[CV] END rnd_forest__max_depth=None, rnd_forest__n_estimators=75, svc__C=1; total time=   0.2s\n",
      "[CV] END rnd_forest__max_depth=None, rnd_forest__n_estimators=100, svc__C=0.1; total time=   0.2s\n",
      "[CV] END rnd_forest__max_depth=None, rnd_forest__n_estimators=100, svc__C=0.1; total time=   0.2s\n",
      "[CV] END rnd_forest__max_depth=None, rnd_forest__n_estimators=100, svc__C=0.1; total time=   0.3s\n",
      "[CV] END rnd_forest__max_depth=None, rnd_forest__n_estimators=100, svc__C=0.25; total time=   0.2s\n",
      "[CV] END rnd_forest__max_depth=None, rnd_forest__n_estimators=100, svc__C=0.25; total time=   0.2s\n",
      "[CV] END rnd_forest__max_depth=None, rnd_forest__n_estimators=100, svc__C=0.25; total time=   0.2s\n",
      "[CV] END rnd_forest__max_depth=None, rnd_forest__n_estimators=100, svc__C=0.5; total time=   0.3s\n",
      "[CV] END rnd_forest__max_depth=None, rnd_forest__n_estimators=100, svc__C=0.5; total time=   0.2s\n",
      "[CV] END rnd_forest__max_depth=None, rnd_forest__n_estimators=100, svc__C=0.5; total time=   0.2s\n",
      "[CV] END rnd_forest__max_depth=None, rnd_forest__n_estimators=100, svc__C=0.75; total time=   0.3s\n",
      "[CV] END rnd_forest__max_depth=None, rnd_forest__n_estimators=100, svc__C=0.75; total time=   0.3s\n",
      "[CV] END rnd_forest__max_depth=None, rnd_forest__n_estimators=100, svc__C=0.75; total time=   0.3s\n",
      "[CV] END rnd_forest__max_depth=None, rnd_forest__n_estimators=100, svc__C=1; total time=   0.3s\n",
      "[CV] END rnd_forest__max_depth=None, rnd_forest__n_estimators=100, svc__C=1; total time=   0.3s\n",
      "[CV] END rnd_forest__max_depth=None, rnd_forest__n_estimators=100, svc__C=1; total time=   0.3s\n",
      "[CV] END rnd_forest__max_depth=None, rnd_forest__n_estimators=125, svc__C=0.1; total time=   0.3s\n",
      "[CV] END rnd_forest__max_depth=None, rnd_forest__n_estimators=125, svc__C=0.1; total time=   0.3s\n",
      "[CV] END rnd_forest__max_depth=None, rnd_forest__n_estimators=125, svc__C=0.1; total time=   0.3s\n",
      "[CV] END rnd_forest__max_depth=None, rnd_forest__n_estimators=125, svc__C=0.25; total time=   0.3s\n",
      "[CV] END rnd_forest__max_depth=None, rnd_forest__n_estimators=125, svc__C=0.25; total time=   0.4s\n",
      "[CV] END rnd_forest__max_depth=None, rnd_forest__n_estimators=125, svc__C=0.25; total time=   0.4s\n",
      "[CV] END rnd_forest__max_depth=None, rnd_forest__n_estimators=125, svc__C=0.5; total time=   0.4s\n",
      "[CV] END rnd_forest__max_depth=None, rnd_forest__n_estimators=125, svc__C=0.5; total time=   0.3s\n",
      "[CV] END rnd_forest__max_depth=None, rnd_forest__n_estimators=125, svc__C=0.5; total time=   0.4s\n",
      "[CV] END rnd_forest__max_depth=None, rnd_forest__n_estimators=125, svc__C=0.75; total time=   0.4s\n",
      "[CV] END rnd_forest__max_depth=None, rnd_forest__n_estimators=125, svc__C=0.75; total time=   0.4s\n",
      "[CV] END rnd_forest__max_depth=None, rnd_forest__n_estimators=125, svc__C=0.75; total time=   0.4s\n",
      "[CV] END rnd_forest__max_depth=None, rnd_forest__n_estimators=125, svc__C=1; total time=   0.3s\n",
      "[CV] END rnd_forest__max_depth=None, rnd_forest__n_estimators=125, svc__C=1; total time=   0.3s\n",
      "[CV] END rnd_forest__max_depth=None, rnd_forest__n_estimators=125, svc__C=1; total time=   0.3s\n",
      "[CV] END rnd_forest__max_depth=25, rnd_forest__n_estimators=75, svc__C=0.1; total time=   0.2s\n",
      "[CV] END rnd_forest__max_depth=25, rnd_forest__n_estimators=75, svc__C=0.1; total time=   0.2s\n",
      "[CV] END rnd_forest__max_depth=25, rnd_forest__n_estimators=75, svc__C=0.1; total time=   0.2s\n",
      "[CV] END rnd_forest__max_depth=25, rnd_forest__n_estimators=75, svc__C=0.25; total time=   0.2s\n",
      "[CV] END rnd_forest__max_depth=25, rnd_forest__n_estimators=75, svc__C=0.25; total time=   0.2s\n",
      "[CV] END rnd_forest__max_depth=25, rnd_forest__n_estimators=75, svc__C=0.25; total time=   0.2s\n",
      "[CV] END rnd_forest__max_depth=25, rnd_forest__n_estimators=75, svc__C=0.5; total time=   0.2s\n",
      "[CV] END rnd_forest__max_depth=25, rnd_forest__n_estimators=75, svc__C=0.5; total time=   0.2s\n",
      "[CV] END rnd_forest__max_depth=25, rnd_forest__n_estimators=75, svc__C=0.5; total time=   0.2s\n",
      "[CV] END rnd_forest__max_depth=25, rnd_forest__n_estimators=75, svc__C=0.75; total time=   0.3s\n",
      "[CV] END rnd_forest__max_depth=25, rnd_forest__n_estimators=75, svc__C=0.75; total time=   0.2s\n",
      "[CV] END rnd_forest__max_depth=25, rnd_forest__n_estimators=75, svc__C=0.75; total time=   0.3s\n",
      "[CV] END rnd_forest__max_depth=25, rnd_forest__n_estimators=75, svc__C=1; total time=   0.2s\n",
      "[CV] END rnd_forest__max_depth=25, rnd_forest__n_estimators=75, svc__C=1; total time=   0.2s\n",
      "[CV] END rnd_forest__max_depth=25, rnd_forest__n_estimators=75, svc__C=1; total time=   0.2s\n",
      "[CV] END rnd_forest__max_depth=25, rnd_forest__n_estimators=100, svc__C=0.1; total time=   0.3s\n",
      "[CV] END rnd_forest__max_depth=25, rnd_forest__n_estimators=100, svc__C=0.1; total time=   0.3s\n",
      "[CV] END rnd_forest__max_depth=25, rnd_forest__n_estimators=100, svc__C=0.1; total time=   0.3s\n",
      "[CV] END rnd_forest__max_depth=25, rnd_forest__n_estimators=100, svc__C=0.25; total time=   0.4s\n",
      "[CV] END rnd_forest__max_depth=25, rnd_forest__n_estimators=100, svc__C=0.25; total time=   0.3s\n",
      "[CV] END rnd_forest__max_depth=25, rnd_forest__n_estimators=100, svc__C=0.25; total time=   0.3s\n",
      "[CV] END rnd_forest__max_depth=25, rnd_forest__n_estimators=100, svc__C=0.5; total time=   0.3s\n",
      "[CV] END rnd_forest__max_depth=25, rnd_forest__n_estimators=100, svc__C=0.5; total time=   0.3s\n",
      "[CV] END rnd_forest__max_depth=25, rnd_forest__n_estimators=100, svc__C=0.5; total time=   0.3s\n",
      "[CV] END rnd_forest__max_depth=25, rnd_forest__n_estimators=100, svc__C=0.75; total time=   0.3s\n",
      "[CV] END rnd_forest__max_depth=25, rnd_forest__n_estimators=100, svc__C=0.75; total time=   0.3s\n",
      "[CV] END rnd_forest__max_depth=25, rnd_forest__n_estimators=100, svc__C=0.75; total time=   0.3s\n",
      "[CV] END rnd_forest__max_depth=25, rnd_forest__n_estimators=100, svc__C=1; total time=   0.3s\n",
      "[CV] END rnd_forest__max_depth=25, rnd_forest__n_estimators=100, svc__C=1; total time=   0.3s\n",
      "[CV] END rnd_forest__max_depth=25, rnd_forest__n_estimators=100, svc__C=1; total time=   0.3s\n",
      "[CV] END rnd_forest__max_depth=25, rnd_forest__n_estimators=125, svc__C=0.1; total time=   0.4s\n",
      "[CV] END rnd_forest__max_depth=25, rnd_forest__n_estimators=125, svc__C=0.1; total time=   0.4s\n",
      "[CV] END rnd_forest__max_depth=25, rnd_forest__n_estimators=125, svc__C=0.1; total time=   0.3s\n",
      "[CV] END rnd_forest__max_depth=25, rnd_forest__n_estimators=125, svc__C=0.25; total time=   0.4s\n",
      "[CV] END rnd_forest__max_depth=25, rnd_forest__n_estimators=125, svc__C=0.25; total time=   0.3s\n",
      "[CV] END rnd_forest__max_depth=25, rnd_forest__n_estimators=125, svc__C=0.25; total time=   0.3s\n",
      "[CV] END rnd_forest__max_depth=25, rnd_forest__n_estimators=125, svc__C=0.5; total time=   0.4s\n",
      "[CV] END rnd_forest__max_depth=25, rnd_forest__n_estimators=125, svc__C=0.5; total time=   0.4s\n",
      "[CV] END rnd_forest__max_depth=25, rnd_forest__n_estimators=125, svc__C=0.5; total time=   0.4s\n",
      "[CV] END rnd_forest__max_depth=25, rnd_forest__n_estimators=125, svc__C=0.75; total time=   0.4s\n"
     ]
    },
    {
     "name": "stdout",
     "output_type": "stream",
     "text": [
      "[CV] END rnd_forest__max_depth=25, rnd_forest__n_estimators=125, svc__C=0.75; total time=   0.5s\n",
      "[CV] END rnd_forest__max_depth=25, rnd_forest__n_estimators=125, svc__C=0.75; total time=   0.4s\n",
      "[CV] END rnd_forest__max_depth=25, rnd_forest__n_estimators=125, svc__C=1; total time=   0.3s\n",
      "[CV] END rnd_forest__max_depth=25, rnd_forest__n_estimators=125, svc__C=1; total time=   0.3s\n",
      "[CV] END rnd_forest__max_depth=25, rnd_forest__n_estimators=125, svc__C=1; total time=   0.3s\n",
      "[CV] END rnd_forest__max_depth=50, rnd_forest__n_estimators=75, svc__C=0.1; total time=   0.3s\n",
      "[CV] END rnd_forest__max_depth=50, rnd_forest__n_estimators=75, svc__C=0.1; total time=   0.2s\n",
      "[CV] END rnd_forest__max_depth=50, rnd_forest__n_estimators=75, svc__C=0.1; total time=   0.2s\n",
      "[CV] END rnd_forest__max_depth=50, rnd_forest__n_estimators=75, svc__C=0.25; total time=   0.2s\n",
      "[CV] END rnd_forest__max_depth=50, rnd_forest__n_estimators=75, svc__C=0.25; total time=   0.2s\n",
      "[CV] END rnd_forest__max_depth=50, rnd_forest__n_estimators=75, svc__C=0.25; total time=   0.2s\n",
      "[CV] END rnd_forest__max_depth=50, rnd_forest__n_estimators=75, svc__C=0.5; total time=   0.2s\n",
      "[CV] END rnd_forest__max_depth=50, rnd_forest__n_estimators=75, svc__C=0.5; total time=   0.2s\n",
      "[CV] END rnd_forest__max_depth=50, rnd_forest__n_estimators=75, svc__C=0.5; total time=   0.2s\n",
      "[CV] END rnd_forest__max_depth=50, rnd_forest__n_estimators=75, svc__C=0.75; total time=   0.2s\n",
      "[CV] END rnd_forest__max_depth=50, rnd_forest__n_estimators=75, svc__C=0.75; total time=   0.2s\n",
      "[CV] END rnd_forest__max_depth=50, rnd_forest__n_estimators=75, svc__C=0.75; total time=   0.3s\n",
      "[CV] END rnd_forest__max_depth=50, rnd_forest__n_estimators=75, svc__C=1; total time=   0.3s\n",
      "[CV] END rnd_forest__max_depth=50, rnd_forest__n_estimators=75, svc__C=1; total time=   0.2s\n",
      "[CV] END rnd_forest__max_depth=50, rnd_forest__n_estimators=75, svc__C=1; total time=   0.3s\n",
      "[CV] END rnd_forest__max_depth=50, rnd_forest__n_estimators=100, svc__C=0.1; total time=   0.3s\n",
      "[CV] END rnd_forest__max_depth=50, rnd_forest__n_estimators=100, svc__C=0.1; total time=   0.3s\n",
      "[CV] END rnd_forest__max_depth=50, rnd_forest__n_estimators=100, svc__C=0.1; total time=   0.3s\n",
      "[CV] END rnd_forest__max_depth=50, rnd_forest__n_estimators=100, svc__C=0.25; total time=   0.3s\n",
      "[CV] END rnd_forest__max_depth=50, rnd_forest__n_estimators=100, svc__C=0.25; total time=   0.3s\n",
      "[CV] END rnd_forest__max_depth=50, rnd_forest__n_estimators=100, svc__C=0.25; total time=   0.3s\n",
      "[CV] END rnd_forest__max_depth=50, rnd_forest__n_estimators=100, svc__C=0.5; total time=   0.3s\n",
      "[CV] END rnd_forest__max_depth=50, rnd_forest__n_estimators=100, svc__C=0.5; total time=   0.3s\n",
      "[CV] END rnd_forest__max_depth=50, rnd_forest__n_estimators=100, svc__C=0.5; total time=   0.3s\n",
      "[CV] END rnd_forest__max_depth=50, rnd_forest__n_estimators=100, svc__C=0.75; total time=   0.3s\n",
      "[CV] END rnd_forest__max_depth=50, rnd_forest__n_estimators=100, svc__C=0.75; total time=   0.3s\n",
      "[CV] END rnd_forest__max_depth=50, rnd_forest__n_estimators=100, svc__C=0.75; total time=   0.3s\n",
      "[CV] END rnd_forest__max_depth=50, rnd_forest__n_estimators=100, svc__C=1; total time=   0.3s\n",
      "[CV] END rnd_forest__max_depth=50, rnd_forest__n_estimators=100, svc__C=1; total time=   0.3s\n",
      "[CV] END rnd_forest__max_depth=50, rnd_forest__n_estimators=100, svc__C=1; total time=   0.3s\n",
      "[CV] END rnd_forest__max_depth=50, rnd_forest__n_estimators=125, svc__C=0.1; total time=   0.3s\n",
      "[CV] END rnd_forest__max_depth=50, rnd_forest__n_estimators=125, svc__C=0.1; total time=   0.3s\n",
      "[CV] END rnd_forest__max_depth=50, rnd_forest__n_estimators=125, svc__C=0.1; total time=   0.3s\n",
      "[CV] END rnd_forest__max_depth=50, rnd_forest__n_estimators=125, svc__C=0.25; total time=   0.3s\n",
      "[CV] END rnd_forest__max_depth=50, rnd_forest__n_estimators=125, svc__C=0.25; total time=   0.3s\n",
      "[CV] END rnd_forest__max_depth=50, rnd_forest__n_estimators=125, svc__C=0.25; total time=   0.3s\n",
      "[CV] END rnd_forest__max_depth=50, rnd_forest__n_estimators=125, svc__C=0.5; total time=   0.4s\n",
      "[CV] END rnd_forest__max_depth=50, rnd_forest__n_estimators=125, svc__C=0.5; total time=   0.3s\n",
      "[CV] END rnd_forest__max_depth=50, rnd_forest__n_estimators=125, svc__C=0.5; total time=   0.3s\n",
      "[CV] END rnd_forest__max_depth=50, rnd_forest__n_estimators=125, svc__C=0.75; total time=   0.3s\n",
      "[CV] END rnd_forest__max_depth=50, rnd_forest__n_estimators=125, svc__C=0.75; total time=   0.3s\n",
      "[CV] END rnd_forest__max_depth=50, rnd_forest__n_estimators=125, svc__C=0.75; total time=   0.3s\n",
      "[CV] END rnd_forest__max_depth=50, rnd_forest__n_estimators=125, svc__C=1; total time=   0.3s\n",
      "[CV] END rnd_forest__max_depth=50, rnd_forest__n_estimators=125, svc__C=1; total time=   0.3s\n",
      "[CV] END rnd_forest__max_depth=50, rnd_forest__n_estimators=125, svc__C=1; total time=   0.3s\n",
      "[CV] END rnd_forest__max_depth=75, rnd_forest__n_estimators=75, svc__C=0.1; total time=   0.2s\n",
      "[CV] END rnd_forest__max_depth=75, rnd_forest__n_estimators=75, svc__C=0.1; total time=   0.2s\n",
      "[CV] END rnd_forest__max_depth=75, rnd_forest__n_estimators=75, svc__C=0.1; total time=   0.2s\n",
      "[CV] END rnd_forest__max_depth=75, rnd_forest__n_estimators=75, svc__C=0.25; total time=   0.2s\n",
      "[CV] END rnd_forest__max_depth=75, rnd_forest__n_estimators=75, svc__C=0.25; total time=   0.2s\n",
      "[CV] END rnd_forest__max_depth=75, rnd_forest__n_estimators=75, svc__C=0.25; total time=   0.2s\n",
      "[CV] END rnd_forest__max_depth=75, rnd_forest__n_estimators=75, svc__C=0.5; total time=   0.2s\n",
      "[CV] END rnd_forest__max_depth=75, rnd_forest__n_estimators=75, svc__C=0.5; total time=   0.2s\n",
      "[CV] END rnd_forest__max_depth=75, rnd_forest__n_estimators=75, svc__C=0.5; total time=   0.2s\n",
      "[CV] END rnd_forest__max_depth=75, rnd_forest__n_estimators=75, svc__C=0.75; total time=   0.3s\n",
      "[CV] END rnd_forest__max_depth=75, rnd_forest__n_estimators=75, svc__C=0.75; total time=   0.2s\n",
      "[CV] END rnd_forest__max_depth=75, rnd_forest__n_estimators=75, svc__C=0.75; total time=   0.2s\n",
      "[CV] END rnd_forest__max_depth=75, rnd_forest__n_estimators=75, svc__C=1; total time=   0.2s\n",
      "[CV] END rnd_forest__max_depth=75, rnd_forest__n_estimators=75, svc__C=1; total time=   0.2s\n",
      "[CV] END rnd_forest__max_depth=75, rnd_forest__n_estimators=75, svc__C=1; total time=   0.2s\n",
      "[CV] END rnd_forest__max_depth=75, rnd_forest__n_estimators=100, svc__C=0.1; total time=   0.3s\n",
      "[CV] END rnd_forest__max_depth=75, rnd_forest__n_estimators=100, svc__C=0.1; total time=   0.3s\n",
      "[CV] END rnd_forest__max_depth=75, rnd_forest__n_estimators=100, svc__C=0.1; total time=   0.2s\n",
      "[CV] END rnd_forest__max_depth=75, rnd_forest__n_estimators=100, svc__C=0.25; total time=   0.3s\n",
      "[CV] END rnd_forest__max_depth=75, rnd_forest__n_estimators=100, svc__C=0.25; total time=   0.3s\n",
      "[CV] END rnd_forest__max_depth=75, rnd_forest__n_estimators=100, svc__C=0.25; total time=   0.3s\n",
      "[CV] END rnd_forest__max_depth=75, rnd_forest__n_estimators=100, svc__C=0.5; total time=   0.3s\n",
      "[CV] END rnd_forest__max_depth=75, rnd_forest__n_estimators=100, svc__C=0.5; total time=   0.3s\n",
      "[CV] END rnd_forest__max_depth=75, rnd_forest__n_estimators=100, svc__C=0.5; total time=   0.3s\n",
      "[CV] END rnd_forest__max_depth=75, rnd_forest__n_estimators=100, svc__C=0.75; total time=   0.3s\n",
      "[CV] END rnd_forest__max_depth=75, rnd_forest__n_estimators=100, svc__C=0.75; total time=   0.3s\n",
      "[CV] END rnd_forest__max_depth=75, rnd_forest__n_estimators=100, svc__C=0.75; total time=   0.3s\n",
      "[CV] END rnd_forest__max_depth=75, rnd_forest__n_estimators=100, svc__C=1; total time=   0.3s\n",
      "[CV] END rnd_forest__max_depth=75, rnd_forest__n_estimators=100, svc__C=1; total time=   0.3s\n",
      "[CV] END rnd_forest__max_depth=75, rnd_forest__n_estimators=100, svc__C=1; total time=   0.3s\n",
      "[CV] END rnd_forest__max_depth=75, rnd_forest__n_estimators=125, svc__C=0.1; total time=   0.3s\n",
      "[CV] END rnd_forest__max_depth=75, rnd_forest__n_estimators=125, svc__C=0.1; total time=   0.3s\n",
      "[CV] END rnd_forest__max_depth=75, rnd_forest__n_estimators=125, svc__C=0.1; total time=   0.3s\n",
      "[CV] END rnd_forest__max_depth=75, rnd_forest__n_estimators=125, svc__C=0.25; total time=   0.3s\n",
      "[CV] END rnd_forest__max_depth=75, rnd_forest__n_estimators=125, svc__C=0.25; total time=   0.3s\n",
      "[CV] END rnd_forest__max_depth=75, rnd_forest__n_estimators=125, svc__C=0.25; total time=   0.3s\n"
     ]
    },
    {
     "name": "stdout",
     "output_type": "stream",
     "text": [
      "[CV] END rnd_forest__max_depth=75, rnd_forest__n_estimators=125, svc__C=0.5; total time=   0.3s\n",
      "[CV] END rnd_forest__max_depth=75, rnd_forest__n_estimators=125, svc__C=0.5; total time=   0.3s\n",
      "[CV] END rnd_forest__max_depth=75, rnd_forest__n_estimators=125, svc__C=0.5; total time=   0.3s\n",
      "[CV] END rnd_forest__max_depth=75, rnd_forest__n_estimators=125, svc__C=0.75; total time=   0.3s\n",
      "[CV] END rnd_forest__max_depth=75, rnd_forest__n_estimators=125, svc__C=0.75; total time=   0.3s\n",
      "[CV] END rnd_forest__max_depth=75, rnd_forest__n_estimators=125, svc__C=0.75; total time=   0.4s\n",
      "[CV] END rnd_forest__max_depth=75, rnd_forest__n_estimators=125, svc__C=1; total time=   0.4s\n",
      "[CV] END rnd_forest__max_depth=75, rnd_forest__n_estimators=125, svc__C=1; total time=   0.4s\n",
      "[CV] END rnd_forest__max_depth=75, rnd_forest__n_estimators=125, svc__C=1; total time=   0.3s\n",
      "[CV] END rnd_forest__max_depth=100, rnd_forest__n_estimators=75, svc__C=0.1; total time=   0.2s\n",
      "[CV] END rnd_forest__max_depth=100, rnd_forest__n_estimators=75, svc__C=0.1; total time=   0.2s\n",
      "[CV] END rnd_forest__max_depth=100, rnd_forest__n_estimators=75, svc__C=0.1; total time=   0.2s\n",
      "[CV] END rnd_forest__max_depth=100, rnd_forest__n_estimators=75, svc__C=0.25; total time=   0.2s\n",
      "[CV] END rnd_forest__max_depth=100, rnd_forest__n_estimators=75, svc__C=0.25; total time=   0.3s\n",
      "[CV] END rnd_forest__max_depth=100, rnd_forest__n_estimators=75, svc__C=0.25; total time=   0.2s\n",
      "[CV] END rnd_forest__max_depth=100, rnd_forest__n_estimators=75, svc__C=0.5; total time=   0.3s\n",
      "[CV] END rnd_forest__max_depth=100, rnd_forest__n_estimators=75, svc__C=0.5; total time=   0.2s\n",
      "[CV] END rnd_forest__max_depth=100, rnd_forest__n_estimators=75, svc__C=0.5; total time=   0.2s\n",
      "[CV] END rnd_forest__max_depth=100, rnd_forest__n_estimators=75, svc__C=0.75; total time=   0.3s\n",
      "[CV] END rnd_forest__max_depth=100, rnd_forest__n_estimators=75, svc__C=0.75; total time=   0.2s\n",
      "[CV] END rnd_forest__max_depth=100, rnd_forest__n_estimators=75, svc__C=0.75; total time=   0.3s\n",
      "[CV] END rnd_forest__max_depth=100, rnd_forest__n_estimators=75, svc__C=1; total time=   0.3s\n",
      "[CV] END rnd_forest__max_depth=100, rnd_forest__n_estimators=75, svc__C=1; total time=   0.2s\n",
      "[CV] END rnd_forest__max_depth=100, rnd_forest__n_estimators=75, svc__C=1; total time=   0.2s\n",
      "[CV] END rnd_forest__max_depth=100, rnd_forest__n_estimators=100, svc__C=0.1; total time=   0.3s\n",
      "[CV] END rnd_forest__max_depth=100, rnd_forest__n_estimators=100, svc__C=0.1; total time=   0.2s\n",
      "[CV] END rnd_forest__max_depth=100, rnd_forest__n_estimators=100, svc__C=0.1; total time=   0.2s\n",
      "[CV] END rnd_forest__max_depth=100, rnd_forest__n_estimators=100, svc__C=0.25; total time=   0.3s\n",
      "[CV] END rnd_forest__max_depth=100, rnd_forest__n_estimators=100, svc__C=0.25; total time=   0.3s\n",
      "[CV] END rnd_forest__max_depth=100, rnd_forest__n_estimators=100, svc__C=0.25; total time=   0.3s\n",
      "[CV] END rnd_forest__max_depth=100, rnd_forest__n_estimators=100, svc__C=0.5; total time=   0.3s\n",
      "[CV] END rnd_forest__max_depth=100, rnd_forest__n_estimators=100, svc__C=0.5; total time=   0.3s\n",
      "[CV] END rnd_forest__max_depth=100, rnd_forest__n_estimators=100, svc__C=0.5; total time=   0.3s\n",
      "[CV] END rnd_forest__max_depth=100, rnd_forest__n_estimators=100, svc__C=0.75; total time=   0.3s\n",
      "[CV] END rnd_forest__max_depth=100, rnd_forest__n_estimators=100, svc__C=0.75; total time=   0.3s\n",
      "[CV] END rnd_forest__max_depth=100, rnd_forest__n_estimators=100, svc__C=0.75; total time=   0.3s\n",
      "[CV] END rnd_forest__max_depth=100, rnd_forest__n_estimators=100, svc__C=1; total time=   0.3s\n",
      "[CV] END rnd_forest__max_depth=100, rnd_forest__n_estimators=100, svc__C=1; total time=   0.3s\n",
      "[CV] END rnd_forest__max_depth=100, rnd_forest__n_estimators=100, svc__C=1; total time=   0.3s\n",
      "[CV] END rnd_forest__max_depth=100, rnd_forest__n_estimators=125, svc__C=0.1; total time=   0.3s\n",
      "[CV] END rnd_forest__max_depth=100, rnd_forest__n_estimators=125, svc__C=0.1; total time=   0.3s\n",
      "[CV] END rnd_forest__max_depth=100, rnd_forest__n_estimators=125, svc__C=0.1; total time=   0.3s\n",
      "[CV] END rnd_forest__max_depth=100, rnd_forest__n_estimators=125, svc__C=0.25; total time=   0.3s\n",
      "[CV] END rnd_forest__max_depth=100, rnd_forest__n_estimators=125, svc__C=0.25; total time=   0.3s\n",
      "[CV] END rnd_forest__max_depth=100, rnd_forest__n_estimators=125, svc__C=0.25; total time=   0.3s\n",
      "[CV] END rnd_forest__max_depth=100, rnd_forest__n_estimators=125, svc__C=0.5; total time=   0.3s\n",
      "[CV] END rnd_forest__max_depth=100, rnd_forest__n_estimators=125, svc__C=0.5; total time=   0.3s\n",
      "[CV] END rnd_forest__max_depth=100, rnd_forest__n_estimators=125, svc__C=0.5; total time=   0.3s\n",
      "[CV] END rnd_forest__max_depth=100, rnd_forest__n_estimators=125, svc__C=0.75; total time=   0.3s\n",
      "[CV] END rnd_forest__max_depth=100, rnd_forest__n_estimators=125, svc__C=0.75; total time=   0.3s\n",
      "[CV] END rnd_forest__max_depth=100, rnd_forest__n_estimators=125, svc__C=0.75; total time=   0.4s\n",
      "[CV] END rnd_forest__max_depth=100, rnd_forest__n_estimators=125, svc__C=1; total time=   0.4s\n",
      "[CV] END rnd_forest__max_depth=100, rnd_forest__n_estimators=125, svc__C=1; total time=   0.3s\n",
      "[CV] END rnd_forest__max_depth=100, rnd_forest__n_estimators=125, svc__C=1; total time=   0.3s\n"
     ]
    },
    {
     "data": {
      "text/plain": [
       "GridSearchCV(cv=3,\n",
       "             estimator=VotingClassifier(estimators=[('rnd_forest',\n",
       "                                                     RandomForestClassifier()),\n",
       "                                                    ('svc',\n",
       "                                                     SVC(probability=True))],\n",
       "                                        voting='soft'),\n",
       "             param_grid={'rnd_forest__max_depth': [None, 25, 50, 75, 100],\n",
       "                         'rnd_forest__n_estimators': [75, 100, 125],\n",
       "                         'svc__C': [0.1, 0.25, 0.5, 0.75, 1]},\n",
       "             verbose=2)"
      ]
     },
     "execution_count": 157,
     "metadata": {},
     "output_type": "execute_result"
    }
   ],
   "source": [
    "grid.fit(X_train, y_train)"
   ]
  },
  {
   "cell_type": "code",
   "execution_count": 158,
   "id": "4188537d",
   "metadata": {},
   "outputs": [
    {
     "data": {
      "text/plain": [
       "{'rnd_forest__max_depth': 50, 'rnd_forest__n_estimators': 125, 'svc__C': 0.1}"
      ]
     },
     "execution_count": 158,
     "metadata": {},
     "output_type": "execute_result"
    }
   ],
   "source": [
    "grid.best_params_"
   ]
  },
  {
   "cell_type": "code",
   "execution_count": 159,
   "id": "ed8dfffe",
   "metadata": {},
   "outputs": [
    {
     "data": {
      "text/plain": [
       "VotingClassifier(estimators=[('rnd_forest',\n",
       "                              RandomForestClassifier(max_depth=50,\n",
       "                                                     n_estimators=125)),\n",
       "                             ('svc', SVC(C=0.1, probability=True))],\n",
       "                 voting='soft')"
      ]
     },
     "execution_count": 159,
     "metadata": {},
     "output_type": "execute_result"
    }
   ],
   "source": [
    "grid.best_estimator_"
   ]
  },
  {
   "cell_type": "code",
   "execution_count": 160,
   "id": "9792ed13",
   "metadata": {},
   "outputs": [],
   "source": [
    "mod = grid.best_estimator_"
   ]
  },
  {
   "cell_type": "code",
   "execution_count": 163,
   "id": "07932535",
   "metadata": {},
   "outputs": [],
   "source": [
    "# `C` and `n_estimators` are on limits\n",
    "# Let's modify the `param_grid` to see if the those\n",
    "# hyperparameters extend their range \n",
    "\n",
    "param_grid = {\n",
    "    'svc__C': [0.001, 0.01, 0.1, 0.25],\n",
    "    'rnd_forest__max_depth': [None, 25, 50, 75, 100],\n",
    "    'rnd_forest__n_estimators': [100, 125, 150, 175],\n",
    "}\n",
    "\n",
    "grid = GridSearchCV(estimator=voting, param_grid=param_grid, cv=3, verbose=2)"
   ]
  },
  {
   "cell_type": "code",
   "execution_count": 164,
   "id": "26ecb875",
   "metadata": {
    "scrolled": true
   },
   "outputs": [
    {
     "name": "stdout",
     "output_type": "stream",
     "text": [
      "Fitting 3 folds for each of 80 candidates, totalling 240 fits\n",
      "[CV] END rnd_forest__max_depth=None, rnd_forest__n_estimators=100, svc__C=0.001; total time=   0.3s\n",
      "[CV] END rnd_forest__max_depth=None, rnd_forest__n_estimators=100, svc__C=0.001; total time=   0.2s\n",
      "[CV] END rnd_forest__max_depth=None, rnd_forest__n_estimators=100, svc__C=0.001; total time=   0.2s\n",
      "[CV] END rnd_forest__max_depth=None, rnd_forest__n_estimators=100, svc__C=0.01; total time=   0.2s\n",
      "[CV] END rnd_forest__max_depth=None, rnd_forest__n_estimators=100, svc__C=0.01; total time=   0.2s\n",
      "[CV] END rnd_forest__max_depth=None, rnd_forest__n_estimators=100, svc__C=0.01; total time=   0.3s\n",
      "[CV] END rnd_forest__max_depth=None, rnd_forest__n_estimators=100, svc__C=0.1; total time=   0.3s\n",
      "[CV] END rnd_forest__max_depth=None, rnd_forest__n_estimators=100, svc__C=0.1; total time=   0.3s\n",
      "[CV] END rnd_forest__max_depth=None, rnd_forest__n_estimators=100, svc__C=0.1; total time=   0.3s\n",
      "[CV] END rnd_forest__max_depth=None, rnd_forest__n_estimators=100, svc__C=0.25; total time=   0.3s\n",
      "[CV] END rnd_forest__max_depth=None, rnd_forest__n_estimators=100, svc__C=0.25; total time=   0.2s\n",
      "[CV] END rnd_forest__max_depth=None, rnd_forest__n_estimators=100, svc__C=0.25; total time=   0.3s\n",
      "[CV] END rnd_forest__max_depth=None, rnd_forest__n_estimators=125, svc__C=0.001; total time=   0.3s\n",
      "[CV] END rnd_forest__max_depth=None, rnd_forest__n_estimators=125, svc__C=0.001; total time=   0.3s\n",
      "[CV] END rnd_forest__max_depth=None, rnd_forest__n_estimators=125, svc__C=0.001; total time=   0.3s\n",
      "[CV] END rnd_forest__max_depth=None, rnd_forest__n_estimators=125, svc__C=0.01; total time=   0.4s\n",
      "[CV] END rnd_forest__max_depth=None, rnd_forest__n_estimators=125, svc__C=0.01; total time=   0.4s\n",
      "[CV] END rnd_forest__max_depth=None, rnd_forest__n_estimators=125, svc__C=0.01; total time=   0.3s\n",
      "[CV] END rnd_forest__max_depth=None, rnd_forest__n_estimators=125, svc__C=0.1; total time=   0.3s\n",
      "[CV] END rnd_forest__max_depth=None, rnd_forest__n_estimators=125, svc__C=0.1; total time=   0.4s\n",
      "[CV] END rnd_forest__max_depth=None, rnd_forest__n_estimators=125, svc__C=0.1; total time=   0.4s\n",
      "[CV] END rnd_forest__max_depth=None, rnd_forest__n_estimators=125, svc__C=0.25; total time=   0.3s\n",
      "[CV] END rnd_forest__max_depth=None, rnd_forest__n_estimators=125, svc__C=0.25; total time=   0.3s\n",
      "[CV] END rnd_forest__max_depth=None, rnd_forest__n_estimators=125, svc__C=0.25; total time=   0.3s\n",
      "[CV] END rnd_forest__max_depth=None, rnd_forest__n_estimators=150, svc__C=0.001; total time=   0.4s\n",
      "[CV] END rnd_forest__max_depth=None, rnd_forest__n_estimators=150, svc__C=0.001; total time=   0.4s\n",
      "[CV] END rnd_forest__max_depth=None, rnd_forest__n_estimators=150, svc__C=0.001; total time=   0.4s\n",
      "[CV] END rnd_forest__max_depth=None, rnd_forest__n_estimators=150, svc__C=0.01; total time=   0.4s\n",
      "[CV] END rnd_forest__max_depth=None, rnd_forest__n_estimators=150, svc__C=0.01; total time=   0.4s\n",
      "[CV] END rnd_forest__max_depth=None, rnd_forest__n_estimators=150, svc__C=0.01; total time=   0.4s\n",
      "[CV] END rnd_forest__max_depth=None, rnd_forest__n_estimators=150, svc__C=0.1; total time=   0.4s\n",
      "[CV] END rnd_forest__max_depth=None, rnd_forest__n_estimators=150, svc__C=0.1; total time=   0.4s\n",
      "[CV] END rnd_forest__max_depth=None, rnd_forest__n_estimators=150, svc__C=0.1; total time=   0.4s\n",
      "[CV] END rnd_forest__max_depth=None, rnd_forest__n_estimators=150, svc__C=0.25; total time=   0.4s\n",
      "[CV] END rnd_forest__max_depth=None, rnd_forest__n_estimators=150, svc__C=0.25; total time=   0.4s\n",
      "[CV] END rnd_forest__max_depth=None, rnd_forest__n_estimators=150, svc__C=0.25; total time=   0.4s\n",
      "[CV] END rnd_forest__max_depth=None, rnd_forest__n_estimators=175, svc__C=0.001; total time=   0.4s\n",
      "[CV] END rnd_forest__max_depth=None, rnd_forest__n_estimators=175, svc__C=0.001; total time=   0.4s\n",
      "[CV] END rnd_forest__max_depth=None, rnd_forest__n_estimators=175, svc__C=0.001; total time=   0.5s\n",
      "[CV] END rnd_forest__max_depth=None, rnd_forest__n_estimators=175, svc__C=0.01; total time=   0.4s\n",
      "[CV] END rnd_forest__max_depth=None, rnd_forest__n_estimators=175, svc__C=0.01; total time=   0.5s\n",
      "[CV] END rnd_forest__max_depth=None, rnd_forest__n_estimators=175, svc__C=0.01; total time=   0.4s\n",
      "[CV] END rnd_forest__max_depth=None, rnd_forest__n_estimators=175, svc__C=0.1; total time=   0.5s\n",
      "[CV] END rnd_forest__max_depth=None, rnd_forest__n_estimators=175, svc__C=0.1; total time=   0.5s\n",
      "[CV] END rnd_forest__max_depth=None, rnd_forest__n_estimators=175, svc__C=0.1; total time=   0.5s\n",
      "[CV] END rnd_forest__max_depth=None, rnd_forest__n_estimators=175, svc__C=0.25; total time=   0.4s\n",
      "[CV] END rnd_forest__max_depth=None, rnd_forest__n_estimators=175, svc__C=0.25; total time=   0.5s\n",
      "[CV] END rnd_forest__max_depth=None, rnd_forest__n_estimators=175, svc__C=0.25; total time=   0.5s\n",
      "[CV] END rnd_forest__max_depth=25, rnd_forest__n_estimators=100, svc__C=0.001; total time=   0.3s\n",
      "[CV] END rnd_forest__max_depth=25, rnd_forest__n_estimators=100, svc__C=0.001; total time=   0.3s\n",
      "[CV] END rnd_forest__max_depth=25, rnd_forest__n_estimators=100, svc__C=0.001; total time=   0.3s\n",
      "[CV] END rnd_forest__max_depth=25, rnd_forest__n_estimators=100, svc__C=0.01; total time=   0.3s\n",
      "[CV] END rnd_forest__max_depth=25, rnd_forest__n_estimators=100, svc__C=0.01; total time=   0.2s\n",
      "[CV] END rnd_forest__max_depth=25, rnd_forest__n_estimators=100, svc__C=0.01; total time=   0.3s\n",
      "[CV] END rnd_forest__max_depth=25, rnd_forest__n_estimators=100, svc__C=0.1; total time=   0.3s\n",
      "[CV] END rnd_forest__max_depth=25, rnd_forest__n_estimators=100, svc__C=0.1; total time=   0.3s\n",
      "[CV] END rnd_forest__max_depth=25, rnd_forest__n_estimators=100, svc__C=0.1; total time=   0.3s\n",
      "[CV] END rnd_forest__max_depth=25, rnd_forest__n_estimators=100, svc__C=0.25; total time=   0.3s\n",
      "[CV] END rnd_forest__max_depth=25, rnd_forest__n_estimators=100, svc__C=0.25; total time=   0.3s\n",
      "[CV] END rnd_forest__max_depth=25, rnd_forest__n_estimators=100, svc__C=0.25; total time=   0.3s\n",
      "[CV] END rnd_forest__max_depth=25, rnd_forest__n_estimators=125, svc__C=0.001; total time=   0.3s\n",
      "[CV] END rnd_forest__max_depth=25, rnd_forest__n_estimators=125, svc__C=0.001; total time=   0.3s\n",
      "[CV] END rnd_forest__max_depth=25, rnd_forest__n_estimators=125, svc__C=0.001; total time=   0.3s\n",
      "[CV] END rnd_forest__max_depth=25, rnd_forest__n_estimators=125, svc__C=0.01; total time=   0.3s\n",
      "[CV] END rnd_forest__max_depth=25, rnd_forest__n_estimators=125, svc__C=0.01; total time=   0.3s\n",
      "[CV] END rnd_forest__max_depth=25, rnd_forest__n_estimators=125, svc__C=0.01; total time=   0.3s\n",
      "[CV] END rnd_forest__max_depth=25, rnd_forest__n_estimators=125, svc__C=0.1; total time=   0.3s\n",
      "[CV] END rnd_forest__max_depth=25, rnd_forest__n_estimators=125, svc__C=0.1; total time=   0.3s\n",
      "[CV] END rnd_forest__max_depth=25, rnd_forest__n_estimators=125, svc__C=0.1; total time=   0.3s\n",
      "[CV] END rnd_forest__max_depth=25, rnd_forest__n_estimators=125, svc__C=0.25; total time=   0.3s\n",
      "[CV] END rnd_forest__max_depth=25, rnd_forest__n_estimators=125, svc__C=0.25; total time=   0.3s\n",
      "[CV] END rnd_forest__max_depth=25, rnd_forest__n_estimators=125, svc__C=0.25; total time=   0.3s\n",
      "[CV] END rnd_forest__max_depth=25, rnd_forest__n_estimators=150, svc__C=0.001; total time=   0.3s\n",
      "[CV] END rnd_forest__max_depth=25, rnd_forest__n_estimators=150, svc__C=0.001; total time=   0.4s\n",
      "[CV] END rnd_forest__max_depth=25, rnd_forest__n_estimators=150, svc__C=0.001; total time=   0.4s\n",
      "[CV] END rnd_forest__max_depth=25, rnd_forest__n_estimators=150, svc__C=0.01; total time=   0.3s\n",
      "[CV] END rnd_forest__max_depth=25, rnd_forest__n_estimators=150, svc__C=0.01; total time=   0.3s\n",
      "[CV] END rnd_forest__max_depth=25, rnd_forest__n_estimators=150, svc__C=0.01; total time=   0.4s\n",
      "[CV] END rnd_forest__max_depth=25, rnd_forest__n_estimators=150, svc__C=0.1; total time=   0.4s\n",
      "[CV] END rnd_forest__max_depth=25, rnd_forest__n_estimators=150, svc__C=0.1; total time=   0.4s\n",
      "[CV] END rnd_forest__max_depth=25, rnd_forest__n_estimators=150, svc__C=0.1; total time=   0.4s\n",
      "[CV] END rnd_forest__max_depth=25, rnd_forest__n_estimators=150, svc__C=0.25; total time=   0.4s\n",
      "[CV] END rnd_forest__max_depth=25, rnd_forest__n_estimators=150, svc__C=0.25; total time=   0.3s\n"
     ]
    },
    {
     "name": "stdout",
     "output_type": "stream",
     "text": [
      "[CV] END rnd_forest__max_depth=25, rnd_forest__n_estimators=150, svc__C=0.25; total time=   0.3s\n",
      "[CV] END rnd_forest__max_depth=25, rnd_forest__n_estimators=175, svc__C=0.001; total time=   0.4s\n",
      "[CV] END rnd_forest__max_depth=25, rnd_forest__n_estimators=175, svc__C=0.001; total time=   0.4s\n",
      "[CV] END rnd_forest__max_depth=25, rnd_forest__n_estimators=175, svc__C=0.001; total time=   0.4s\n",
      "[CV] END rnd_forest__max_depth=25, rnd_forest__n_estimators=175, svc__C=0.01; total time=   0.4s\n",
      "[CV] END rnd_forest__max_depth=25, rnd_forest__n_estimators=175, svc__C=0.01; total time=   0.4s\n",
      "[CV] END rnd_forest__max_depth=25, rnd_forest__n_estimators=175, svc__C=0.01; total time=   0.4s\n",
      "[CV] END rnd_forest__max_depth=25, rnd_forest__n_estimators=175, svc__C=0.1; total time=   0.4s\n",
      "[CV] END rnd_forest__max_depth=25, rnd_forest__n_estimators=175, svc__C=0.1; total time=   0.4s\n",
      "[CV] END rnd_forest__max_depth=25, rnd_forest__n_estimators=175, svc__C=0.1; total time=   0.4s\n",
      "[CV] END rnd_forest__max_depth=25, rnd_forest__n_estimators=175, svc__C=0.25; total time=   0.4s\n",
      "[CV] END rnd_forest__max_depth=25, rnd_forest__n_estimators=175, svc__C=0.25; total time=   0.4s\n",
      "[CV] END rnd_forest__max_depth=25, rnd_forest__n_estimators=175, svc__C=0.25; total time=   0.4s\n",
      "[CV] END rnd_forest__max_depth=50, rnd_forest__n_estimators=100, svc__C=0.001; total time=   0.3s\n",
      "[CV] END rnd_forest__max_depth=50, rnd_forest__n_estimators=100, svc__C=0.001; total time=   0.3s\n",
      "[CV] END rnd_forest__max_depth=50, rnd_forest__n_estimators=100, svc__C=0.001; total time=   0.2s\n",
      "[CV] END rnd_forest__max_depth=50, rnd_forest__n_estimators=100, svc__C=0.01; total time=   0.3s\n",
      "[CV] END rnd_forest__max_depth=50, rnd_forest__n_estimators=100, svc__C=0.01; total time=   0.2s\n",
      "[CV] END rnd_forest__max_depth=50, rnd_forest__n_estimators=100, svc__C=0.01; total time=   0.2s\n",
      "[CV] END rnd_forest__max_depth=50, rnd_forest__n_estimators=100, svc__C=0.1; total time=   0.3s\n",
      "[CV] END rnd_forest__max_depth=50, rnd_forest__n_estimators=100, svc__C=0.1; total time=   0.3s\n",
      "[CV] END rnd_forest__max_depth=50, rnd_forest__n_estimators=100, svc__C=0.1; total time=   0.3s\n",
      "[CV] END rnd_forest__max_depth=50, rnd_forest__n_estimators=100, svc__C=0.25; total time=   0.2s\n",
      "[CV] END rnd_forest__max_depth=50, rnd_forest__n_estimators=100, svc__C=0.25; total time=   0.3s\n",
      "[CV] END rnd_forest__max_depth=50, rnd_forest__n_estimators=100, svc__C=0.25; total time=   0.2s\n",
      "[CV] END rnd_forest__max_depth=50, rnd_forest__n_estimators=125, svc__C=0.001; total time=   0.3s\n",
      "[CV] END rnd_forest__max_depth=50, rnd_forest__n_estimators=125, svc__C=0.001; total time=   0.3s\n",
      "[CV] END rnd_forest__max_depth=50, rnd_forest__n_estimators=125, svc__C=0.001; total time=   0.3s\n",
      "[CV] END rnd_forest__max_depth=50, rnd_forest__n_estimators=125, svc__C=0.01; total time=   0.3s\n",
      "[CV] END rnd_forest__max_depth=50, rnd_forest__n_estimators=125, svc__C=0.01; total time=   0.3s\n",
      "[CV] END rnd_forest__max_depth=50, rnd_forest__n_estimators=125, svc__C=0.01; total time=   0.3s\n",
      "[CV] END rnd_forest__max_depth=50, rnd_forest__n_estimators=125, svc__C=0.1; total time=   0.3s\n",
      "[CV] END rnd_forest__max_depth=50, rnd_forest__n_estimators=125, svc__C=0.1; total time=   0.3s\n",
      "[CV] END rnd_forest__max_depth=50, rnd_forest__n_estimators=125, svc__C=0.1; total time=   0.3s\n",
      "[CV] END rnd_forest__max_depth=50, rnd_forest__n_estimators=125, svc__C=0.25; total time=   0.3s\n",
      "[CV] END rnd_forest__max_depth=50, rnd_forest__n_estimators=125, svc__C=0.25; total time=   0.3s\n",
      "[CV] END rnd_forest__max_depth=50, rnd_forest__n_estimators=125, svc__C=0.25; total time=   0.3s\n",
      "[CV] END rnd_forest__max_depth=50, rnd_forest__n_estimators=150, svc__C=0.001; total time=   0.3s\n",
      "[CV] END rnd_forest__max_depth=50, rnd_forest__n_estimators=150, svc__C=0.001; total time=   0.3s\n",
      "[CV] END rnd_forest__max_depth=50, rnd_forest__n_estimators=150, svc__C=0.001; total time=   0.3s\n",
      "[CV] END rnd_forest__max_depth=50, rnd_forest__n_estimators=150, svc__C=0.01; total time=   0.3s\n",
      "[CV] END rnd_forest__max_depth=50, rnd_forest__n_estimators=150, svc__C=0.01; total time=   0.4s\n",
      "[CV] END rnd_forest__max_depth=50, rnd_forest__n_estimators=150, svc__C=0.01; total time=   0.3s\n",
      "[CV] END rnd_forest__max_depth=50, rnd_forest__n_estimators=150, svc__C=0.1; total time=   0.4s\n",
      "[CV] END rnd_forest__max_depth=50, rnd_forest__n_estimators=150, svc__C=0.1; total time=   0.5s\n",
      "[CV] END rnd_forest__max_depth=50, rnd_forest__n_estimators=150, svc__C=0.1; total time=   0.4s\n",
      "[CV] END rnd_forest__max_depth=50, rnd_forest__n_estimators=150, svc__C=0.25; total time=   0.4s\n",
      "[CV] END rnd_forest__max_depth=50, rnd_forest__n_estimators=150, svc__C=0.25; total time=   0.4s\n",
      "[CV] END rnd_forest__max_depth=50, rnd_forest__n_estimators=150, svc__C=0.25; total time=   0.4s\n",
      "[CV] END rnd_forest__max_depth=50, rnd_forest__n_estimators=175, svc__C=0.001; total time=   0.4s\n",
      "[CV] END rnd_forest__max_depth=50, rnd_forest__n_estimators=175, svc__C=0.001; total time=   0.5s\n",
      "[CV] END rnd_forest__max_depth=50, rnd_forest__n_estimators=175, svc__C=0.001; total time=   0.4s\n",
      "[CV] END rnd_forest__max_depth=50, rnd_forest__n_estimators=175, svc__C=0.01; total time=   0.5s\n",
      "[CV] END rnd_forest__max_depth=50, rnd_forest__n_estimators=175, svc__C=0.01; total time=   0.4s\n",
      "[CV] END rnd_forest__max_depth=50, rnd_forest__n_estimators=175, svc__C=0.01; total time=   0.4s\n",
      "[CV] END rnd_forest__max_depth=50, rnd_forest__n_estimators=175, svc__C=0.1; total time=   0.4s\n",
      "[CV] END rnd_forest__max_depth=50, rnd_forest__n_estimators=175, svc__C=0.1; total time=   0.4s\n",
      "[CV] END rnd_forest__max_depth=50, rnd_forest__n_estimators=175, svc__C=0.1; total time=   0.5s\n",
      "[CV] END rnd_forest__max_depth=50, rnd_forest__n_estimators=175, svc__C=0.25; total time=   0.5s\n",
      "[CV] END rnd_forest__max_depth=50, rnd_forest__n_estimators=175, svc__C=0.25; total time=   0.4s\n",
      "[CV] END rnd_forest__max_depth=50, rnd_forest__n_estimators=175, svc__C=0.25; total time=   0.5s\n",
      "[CV] END rnd_forest__max_depth=75, rnd_forest__n_estimators=100, svc__C=0.001; total time=   0.2s\n",
      "[CV] END rnd_forest__max_depth=75, rnd_forest__n_estimators=100, svc__C=0.001; total time=   0.2s\n",
      "[CV] END rnd_forest__max_depth=75, rnd_forest__n_estimators=100, svc__C=0.001; total time=   0.2s\n",
      "[CV] END rnd_forest__max_depth=75, rnd_forest__n_estimators=100, svc__C=0.01; total time=   0.2s\n",
      "[CV] END rnd_forest__max_depth=75, rnd_forest__n_estimators=100, svc__C=0.01; total time=   0.2s\n",
      "[CV] END rnd_forest__max_depth=75, rnd_forest__n_estimators=100, svc__C=0.01; total time=   0.2s\n",
      "[CV] END rnd_forest__max_depth=75, rnd_forest__n_estimators=100, svc__C=0.1; total time=   0.3s\n",
      "[CV] END rnd_forest__max_depth=75, rnd_forest__n_estimators=100, svc__C=0.1; total time=   0.2s\n",
      "[CV] END rnd_forest__max_depth=75, rnd_forest__n_estimators=100, svc__C=0.1; total time=   0.2s\n",
      "[CV] END rnd_forest__max_depth=75, rnd_forest__n_estimators=100, svc__C=0.25; total time=   0.3s\n",
      "[CV] END rnd_forest__max_depth=75, rnd_forest__n_estimators=100, svc__C=0.25; total time=   0.2s\n",
      "[CV] END rnd_forest__max_depth=75, rnd_forest__n_estimators=100, svc__C=0.25; total time=   0.3s\n",
      "[CV] END rnd_forest__max_depth=75, rnd_forest__n_estimators=125, svc__C=0.001; total time=   0.3s\n",
      "[CV] END rnd_forest__max_depth=75, rnd_forest__n_estimators=125, svc__C=0.001; total time=   0.3s\n",
      "[CV] END rnd_forest__max_depth=75, rnd_forest__n_estimators=125, svc__C=0.001; total time=   0.3s\n",
      "[CV] END rnd_forest__max_depth=75, rnd_forest__n_estimators=125, svc__C=0.01; total time=   0.3s\n",
      "[CV] END rnd_forest__max_depth=75, rnd_forest__n_estimators=125, svc__C=0.01; total time=   0.3s\n",
      "[CV] END rnd_forest__max_depth=75, rnd_forest__n_estimators=125, svc__C=0.01; total time=   0.3s\n",
      "[CV] END rnd_forest__max_depth=75, rnd_forest__n_estimators=125, svc__C=0.1; total time=   0.3s\n",
      "[CV] END rnd_forest__max_depth=75, rnd_forest__n_estimators=125, svc__C=0.1; total time=   0.3s\n",
      "[CV] END rnd_forest__max_depth=75, rnd_forest__n_estimators=125, svc__C=0.1; total time=   0.3s\n",
      "[CV] END rnd_forest__max_depth=75, rnd_forest__n_estimators=125, svc__C=0.25; total time=   0.3s\n",
      "[CV] END rnd_forest__max_depth=75, rnd_forest__n_estimators=125, svc__C=0.25; total time=   0.3s\n",
      "[CV] END rnd_forest__max_depth=75, rnd_forest__n_estimators=125, svc__C=0.25; total time=   0.3s\n"
     ]
    },
    {
     "name": "stdout",
     "output_type": "stream",
     "text": [
      "[CV] END rnd_forest__max_depth=75, rnd_forest__n_estimators=150, svc__C=0.001; total time=   0.4s\n",
      "[CV] END rnd_forest__max_depth=75, rnd_forest__n_estimators=150, svc__C=0.001; total time=   0.4s\n",
      "[CV] END rnd_forest__max_depth=75, rnd_forest__n_estimators=150, svc__C=0.001; total time=   0.4s\n",
      "[CV] END rnd_forest__max_depth=75, rnd_forest__n_estimators=150, svc__C=0.01; total time=   0.5s\n",
      "[CV] END rnd_forest__max_depth=75, rnd_forest__n_estimators=150, svc__C=0.01; total time=   0.4s\n",
      "[CV] END rnd_forest__max_depth=75, rnd_forest__n_estimators=150, svc__C=0.01; total time=   0.3s\n",
      "[CV] END rnd_forest__max_depth=75, rnd_forest__n_estimators=150, svc__C=0.1; total time=   0.3s\n",
      "[CV] END rnd_forest__max_depth=75, rnd_forest__n_estimators=150, svc__C=0.1; total time=   0.3s\n",
      "[CV] END rnd_forest__max_depth=75, rnd_forest__n_estimators=150, svc__C=0.1; total time=   0.3s\n",
      "[CV] END rnd_forest__max_depth=75, rnd_forest__n_estimators=150, svc__C=0.25; total time=   0.3s\n",
      "[CV] END rnd_forest__max_depth=75, rnd_forest__n_estimators=150, svc__C=0.25; total time=   0.4s\n",
      "[CV] END rnd_forest__max_depth=75, rnd_forest__n_estimators=150, svc__C=0.25; total time=   0.4s\n",
      "[CV] END rnd_forest__max_depth=75, rnd_forest__n_estimators=175, svc__C=0.001; total time=   0.5s\n",
      "[CV] END rnd_forest__max_depth=75, rnd_forest__n_estimators=175, svc__C=0.001; total time=   0.4s\n",
      "[CV] END rnd_forest__max_depth=75, rnd_forest__n_estimators=175, svc__C=0.001; total time=   0.4s\n",
      "[CV] END rnd_forest__max_depth=75, rnd_forest__n_estimators=175, svc__C=0.01; total time=   0.5s\n",
      "[CV] END rnd_forest__max_depth=75, rnd_forest__n_estimators=175, svc__C=0.01; total time=   0.5s\n",
      "[CV] END rnd_forest__max_depth=75, rnd_forest__n_estimators=175, svc__C=0.01; total time=   0.5s\n",
      "[CV] END rnd_forest__max_depth=75, rnd_forest__n_estimators=175, svc__C=0.1; total time=   0.5s\n",
      "[CV] END rnd_forest__max_depth=75, rnd_forest__n_estimators=175, svc__C=0.1; total time=   0.4s\n",
      "[CV] END rnd_forest__max_depth=75, rnd_forest__n_estimators=175, svc__C=0.1; total time=   0.4s\n",
      "[CV] END rnd_forest__max_depth=75, rnd_forest__n_estimators=175, svc__C=0.25; total time=   0.6s\n",
      "[CV] END rnd_forest__max_depth=75, rnd_forest__n_estimators=175, svc__C=0.25; total time=   0.5s\n",
      "[CV] END rnd_forest__max_depth=75, rnd_forest__n_estimators=175, svc__C=0.25; total time=   0.4s\n",
      "[CV] END rnd_forest__max_depth=100, rnd_forest__n_estimators=100, svc__C=0.001; total time=   0.3s\n",
      "[CV] END rnd_forest__max_depth=100, rnd_forest__n_estimators=100, svc__C=0.001; total time=   0.3s\n",
      "[CV] END rnd_forest__max_depth=100, rnd_forest__n_estimators=100, svc__C=0.001; total time=   0.3s\n",
      "[CV] END rnd_forest__max_depth=100, rnd_forest__n_estimators=100, svc__C=0.01; total time=   0.2s\n",
      "[CV] END rnd_forest__max_depth=100, rnd_forest__n_estimators=100, svc__C=0.01; total time=   0.2s\n",
      "[CV] END rnd_forest__max_depth=100, rnd_forest__n_estimators=100, svc__C=0.01; total time=   0.3s\n",
      "[CV] END rnd_forest__max_depth=100, rnd_forest__n_estimators=100, svc__C=0.1; total time=   0.3s\n",
      "[CV] END rnd_forest__max_depth=100, rnd_forest__n_estimators=100, svc__C=0.1; total time=   0.3s\n",
      "[CV] END rnd_forest__max_depth=100, rnd_forest__n_estimators=100, svc__C=0.1; total time=   0.3s\n",
      "[CV] END rnd_forest__max_depth=100, rnd_forest__n_estimators=100, svc__C=0.25; total time=   0.4s\n",
      "[CV] END rnd_forest__max_depth=100, rnd_forest__n_estimators=100, svc__C=0.25; total time=   0.4s\n",
      "[CV] END rnd_forest__max_depth=100, rnd_forest__n_estimators=100, svc__C=0.25; total time=   0.3s\n",
      "[CV] END rnd_forest__max_depth=100, rnd_forest__n_estimators=125, svc__C=0.001; total time=   0.4s\n",
      "[CV] END rnd_forest__max_depth=100, rnd_forest__n_estimators=125, svc__C=0.001; total time=   0.3s\n",
      "[CV] END rnd_forest__max_depth=100, rnd_forest__n_estimators=125, svc__C=0.001; total time=   0.3s\n",
      "[CV] END rnd_forest__max_depth=100, rnd_forest__n_estimators=125, svc__C=0.01; total time=   0.4s\n",
      "[CV] END rnd_forest__max_depth=100, rnd_forest__n_estimators=125, svc__C=0.01; total time=   0.4s\n",
      "[CV] END rnd_forest__max_depth=100, rnd_forest__n_estimators=125, svc__C=0.01; total time=   0.3s\n",
      "[CV] END rnd_forest__max_depth=100, rnd_forest__n_estimators=125, svc__C=0.1; total time=   0.4s\n",
      "[CV] END rnd_forest__max_depth=100, rnd_forest__n_estimators=125, svc__C=0.1; total time=   0.3s\n",
      "[CV] END rnd_forest__max_depth=100, rnd_forest__n_estimators=125, svc__C=0.1; total time=   0.3s\n",
      "[CV] END rnd_forest__max_depth=100, rnd_forest__n_estimators=125, svc__C=0.25; total time=   0.3s\n",
      "[CV] END rnd_forest__max_depth=100, rnd_forest__n_estimators=125, svc__C=0.25; total time=   0.3s\n",
      "[CV] END rnd_forest__max_depth=100, rnd_forest__n_estimators=125, svc__C=0.25; total time=   0.3s\n",
      "[CV] END rnd_forest__max_depth=100, rnd_forest__n_estimators=150, svc__C=0.001; total time=   0.3s\n",
      "[CV] END rnd_forest__max_depth=100, rnd_forest__n_estimators=150, svc__C=0.001; total time=   0.4s\n",
      "[CV] END rnd_forest__max_depth=100, rnd_forest__n_estimators=150, svc__C=0.001; total time=   0.4s\n",
      "[CV] END rnd_forest__max_depth=100, rnd_forest__n_estimators=150, svc__C=0.01; total time=   0.4s\n",
      "[CV] END rnd_forest__max_depth=100, rnd_forest__n_estimators=150, svc__C=0.01; total time=   0.4s\n",
      "[CV] END rnd_forest__max_depth=100, rnd_forest__n_estimators=150, svc__C=0.01; total time=   0.4s\n",
      "[CV] END rnd_forest__max_depth=100, rnd_forest__n_estimators=150, svc__C=0.1; total time=   0.3s\n",
      "[CV] END rnd_forest__max_depth=100, rnd_forest__n_estimators=150, svc__C=0.1; total time=   0.3s\n",
      "[CV] END rnd_forest__max_depth=100, rnd_forest__n_estimators=150, svc__C=0.1; total time=   0.3s\n",
      "[CV] END rnd_forest__max_depth=100, rnd_forest__n_estimators=150, svc__C=0.25; total time=   0.3s\n",
      "[CV] END rnd_forest__max_depth=100, rnd_forest__n_estimators=150, svc__C=0.25; total time=   0.3s\n",
      "[CV] END rnd_forest__max_depth=100, rnd_forest__n_estimators=150, svc__C=0.25; total time=   0.3s\n",
      "[CV] END rnd_forest__max_depth=100, rnd_forest__n_estimators=175, svc__C=0.001; total time=   0.4s\n",
      "[CV] END rnd_forest__max_depth=100, rnd_forest__n_estimators=175, svc__C=0.001; total time=   0.4s\n",
      "[CV] END rnd_forest__max_depth=100, rnd_forest__n_estimators=175, svc__C=0.001; total time=   0.4s\n",
      "[CV] END rnd_forest__max_depth=100, rnd_forest__n_estimators=175, svc__C=0.01; total time=   0.4s\n",
      "[CV] END rnd_forest__max_depth=100, rnd_forest__n_estimators=175, svc__C=0.01; total time=   0.4s\n",
      "[CV] END rnd_forest__max_depth=100, rnd_forest__n_estimators=175, svc__C=0.01; total time=   0.4s\n",
      "[CV] END rnd_forest__max_depth=100, rnd_forest__n_estimators=175, svc__C=0.1; total time=   0.5s\n",
      "[CV] END rnd_forest__max_depth=100, rnd_forest__n_estimators=175, svc__C=0.1; total time=   0.4s\n",
      "[CV] END rnd_forest__max_depth=100, rnd_forest__n_estimators=175, svc__C=0.1; total time=   0.4s\n",
      "[CV] END rnd_forest__max_depth=100, rnd_forest__n_estimators=175, svc__C=0.25; total time=   0.4s\n",
      "[CV] END rnd_forest__max_depth=100, rnd_forest__n_estimators=175, svc__C=0.25; total time=   0.4s\n",
      "[CV] END rnd_forest__max_depth=100, rnd_forest__n_estimators=175, svc__C=0.25; total time=   0.5s\n"
     ]
    },
    {
     "data": {
      "text/plain": [
       "GridSearchCV(cv=3,\n",
       "             estimator=VotingClassifier(estimators=[('rnd_forest',\n",
       "                                                     RandomForestClassifier()),\n",
       "                                                    ('svc',\n",
       "                                                     SVC(probability=True))],\n",
       "                                        voting='soft'),\n",
       "             param_grid={'rnd_forest__max_depth': [None, 25, 50, 75, 100],\n",
       "                         'rnd_forest__n_estimators': [100, 125, 150, 175],\n",
       "                         'svc__C': [0.001, 0.01, 0.1, 0.25]},\n",
       "             verbose=2)"
      ]
     },
     "execution_count": 164,
     "metadata": {},
     "output_type": "execute_result"
    }
   ],
   "source": [
    "grid.fit(X_train, y_train)"
   ]
  },
  {
   "cell_type": "code",
   "execution_count": 165,
   "id": "7b15efc0",
   "metadata": {},
   "outputs": [
    {
     "data": {
      "text/plain": [
       "{'rnd_forest__max_depth': 25, 'rnd_forest__n_estimators': 100, 'svc__C': 0.25}"
      ]
     },
     "execution_count": 165,
     "metadata": {},
     "output_type": "execute_result"
    }
   ],
   "source": [
    "grid.best_params_"
   ]
  },
  {
   "cell_type": "code",
   "execution_count": 166,
   "id": "7a100197",
   "metadata": {},
   "outputs": [
    {
     "data": {
      "text/plain": [
       "VotingClassifier(estimators=[('rnd_forest',\n",
       "                              RandomForestClassifier(max_depth=25)),\n",
       "                             ('svc', SVC(C=0.25, probability=True))],\n",
       "                 voting='soft')"
      ]
     },
     "execution_count": 166,
     "metadata": {},
     "output_type": "execute_result"
    }
   ],
   "source": [
    "grid.best_estimator_"
   ]
  },
  {
   "cell_type": "code",
   "execution_count": 167,
   "id": "71d5578a",
   "metadata": {},
   "outputs": [
    {
     "data": {
      "text/plain": [
       "0.6550218340611353"
      ]
     },
     "execution_count": 167,
     "metadata": {},
     "output_type": "execute_result"
    }
   ],
   "source": [
    "get_acc(grid.best_estimator_, X_train, y_train, X_test, y_test)"
   ]
  },
  {
   "cell_type": "code",
   "execution_count": 169,
   "id": "f410e5fc",
   "metadata": {},
   "outputs": [
    {
     "data": {
      "text/plain": [
       "VotingClassifier(estimators=[('rnd_forest',\n",
       "                              RandomForestClassifier(max_depth=25)),\n",
       "                             ('svc', SVC(C=0.25, probability=True))],\n",
       "                 voting='soft')"
      ]
     },
     "execution_count": 169,
     "metadata": {},
     "output_type": "execute_result"
    }
   ],
   "source": [
    "# No improvement. Maybe, we can obtain better results using a Neural Network\n",
    "model = grid.best_estimator_\n",
    "model"
   ]
  },
  {
   "cell_type": "code",
   "execution_count": null,
   "id": "e7cb874c",
   "metadata": {},
   "outputs": [],
   "source": []
  }
 ],
 "metadata": {
  "kernelspec": {
   "display_name": "Python 3",
   "language": "python",
   "name": "python3"
  },
  "language_info": {
   "codemirror_mode": {
    "name": "ipython",
    "version": 3
   },
   "file_extension": ".py",
   "mimetype": "text/x-python",
   "name": "python",
   "nbconvert_exporter": "python",
   "pygments_lexer": "ipython3",
   "version": "3.8.8"
  }
 },
 "nbformat": 4,
 "nbformat_minor": 5
}
