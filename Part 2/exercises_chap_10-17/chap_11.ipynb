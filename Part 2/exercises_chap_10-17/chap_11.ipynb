{
  "nbformat": 4,
  "nbformat_minor": 0,
  "metadata": {
    "colab": {
      "name": "chap-11.ipynb",
      "provenance": [],
      "collapsed_sections": []
    },
    "kernelspec": {
      "name": "python3",
      "display_name": "Python 3"
    },
    "language_info": {
      "name": "python"
    },
    "gpuClass": "standard"
  },
  "cells": [
    {
      "cell_type": "code",
      "execution_count": 25,
      "metadata": {
        "colab": {
          "base_uri": "https://localhost:8080/"
        },
        "id": "Uz8qTXJX_Zrs",
        "outputId": "87ad432f-4000-469a-d2f8-b109180f5be3"
      },
      "outputs": [
        {
          "output_type": "stream",
          "name": "stdout",
          "text": [
            "Colab only includes TensorFlow 2.x; %tensorflow_version has no effect.\n"
          ]
        }
      ],
      "source": [
        "# Python ≥3.5 is required\n",
        "import sys\n",
        "assert sys.version_info >= (3, 5)\n",
        "\n",
        "# Scikit-Learn ≥0.20 is required\n",
        "import sklearn\n",
        "assert sklearn.__version__ >= \"0.20\"\n",
        "\n",
        "try:\n",
        "    # %tensorflow_version only exists in Colab.\n",
        "    %tensorflow_version 2.x\n",
        "except Exception:\n",
        "    pass\n",
        "\n",
        "# TensorFlow ≥2.4 is required in this notebook\n",
        "# Earlier 2.x versions will mostly work the same, but with a few bugs\n",
        "import tensorflow as tf\n",
        "from tensorflow import keras\n",
        "assert tf.__version__ >= \"2.4\"\n",
        "\n",
        "# Common imports\n",
        "import numpy as np\n",
        "import os\n",
        "import math\n",
        "\n",
        "# To make this notebook's output stable across runs\n",
        "np.random.seed(42)\n",
        "tf.random.set_seed(42)\n",
        "\n",
        "# To plot pretty figures\n",
        "%matplotlib inline\n",
        "import matplotlib as mpl\n",
        "import matplotlib.pyplot as plt\n",
        "mpl.rc('axes', labelsize=14)\n",
        "mpl.rc('xtick', labelsize=12)\n",
        "mpl.rc('ytick', labelsize=12)\n",
        "\n",
        "# Where to save the figures\n",
        "PROJECT_ROOT_DIR = \".\"\n",
        "CHAPTER_ID = \"deep\"\n",
        "IMAGES_PATH = os.path.join(PROJECT_ROOT_DIR, \"images\", CHAPTER_ID)\n",
        "os.makedirs(IMAGES_PATH, exist_ok=True)\n",
        "\n",
        "def save_fig(fig_id, tight_layout=True, fig_extension=\"png\", resolution=300):\n",
        "    path = os.path.join(IMAGES_PATH, fig_id + \".\" + fig_extension)\n",
        "    print(\"Saving figure\", fig_id)\n",
        "    if tight_layout:\n",
        "        plt.tight_layout()\n",
        "    plt.savefig(path, format=fig_extension, dpi=resolution)"
      ]
    },
    {
      "cell_type": "code",
      "source": [
        "# 8. Practice training a deep neural network on the CIFAR10 image dataset"
      ],
      "metadata": {
        "id": "LPfl3RjwBU05"
      },
      "execution_count": 26,
      "outputs": []
    },
    {
      "cell_type": "code",
      "source": [
        "# Let's load the dataset"
      ],
      "metadata": {
        "id": "gmwndIw9W5mb"
      },
      "execution_count": 27,
      "outputs": []
    },
    {
      "cell_type": "code",
      "source": [
        "(X_train_full, y_train_full), (X_test, y_test) = keras.datasets.cifar10.load_data()"
      ],
      "metadata": {
        "id": "1d9rAkPiBU3M"
      },
      "execution_count": 28,
      "outputs": []
    },
    {
      "cell_type": "code",
      "source": [
        "X_train = X_train_full[5000:]\n",
        "y_train = y_train_full[5000:]\n",
        "X_valid = X_train_full[:5000]\n",
        "y_valid = y_train_full[:5000]"
      ],
      "metadata": {
        "id": "lkwck1GkWlEb"
      },
      "execution_count": 29,
      "outputs": []
    },
    {
      "cell_type": "code",
      "source": [
        "X_train.shape, y_train.shape"
      ],
      "metadata": {
        "colab": {
          "base_uri": "https://localhost:8080/"
        },
        "id": "53MUHmlNV94e",
        "outputId": "2cebd8c2-9be1-4892-9470-306b931799f5"
      },
      "execution_count": 30,
      "outputs": [
        {
          "output_type": "execute_result",
          "data": {
            "text/plain": [
              "((45000, 32, 32, 3), (45000, 1))"
            ]
          },
          "metadata": {},
          "execution_count": 30
        }
      ]
    },
    {
      "cell_type": "code",
      "source": [
        "X_valid.shape, y_valid.shape"
      ],
      "metadata": {
        "colab": {
          "base_uri": "https://localhost:8080/"
        },
        "id": "4MrRHhMiWwB5",
        "outputId": "370fd59b-410c-47d0-c789-dc76d294b895"
      },
      "execution_count": 31,
      "outputs": [
        {
          "output_type": "execute_result",
          "data": {
            "text/plain": [
              "((5000, 32, 32, 3), (5000, 1))"
            ]
          },
          "metadata": {},
          "execution_count": 31
        }
      ]
    },
    {
      "cell_type": "code",
      "source": [
        "X_valid.shape, y_valid.shape"
      ],
      "metadata": {
        "colab": {
          "base_uri": "https://localhost:8080/"
        },
        "id": "Kxlm4_WKWoi7",
        "outputId": "a8bcbbe1-984e-4392-fdac-b1cba1d491fb"
      },
      "execution_count": 32,
      "outputs": [
        {
          "output_type": "execute_result",
          "data": {
            "text/plain": [
              "((5000, 32, 32, 3), (5000, 1))"
            ]
          },
          "metadata": {},
          "execution_count": 32
        }
      ]
    },
    {
      "cell_type": "code",
      "source": [
        "X_test.shape, y_test.shape"
      ],
      "metadata": {
        "colab": {
          "base_uri": "https://localhost:8080/"
        },
        "id": "FpmjZsBiV96x",
        "outputId": "883086ef-0c8a-4303-c3d3-050742244eeb"
      },
      "execution_count": 33,
      "outputs": [
        {
          "output_type": "execute_result",
          "data": {
            "text/plain": [
              "((10000, 32, 32, 3), (10000, 1))"
            ]
          },
          "metadata": {},
          "execution_count": 33
        }
      ]
    },
    {
      "cell_type": "code",
      "source": [
        "keras.backend.clear_session()\n",
        "tf.random.set_seed(42)\n",
        "np.random.seed(42)"
      ],
      "metadata": {
        "id": "BTBKClMOV988"
      },
      "execution_count": 34,
      "outputs": []
    },
    {
      "cell_type": "code",
      "source": [
        "# a. Build a DNN with 20 hidden layers of 100 neurons each. Use He initialization and the ELU activation function"
      ],
      "metadata": {
        "id": "FRZNxtqZBU5M"
      },
      "execution_count": 35,
      "outputs": []
    },
    {
      "cell_type": "code",
      "source": [
        "model = keras.models.Sequential()\n",
        "\n",
        "# Input\n",
        "model.add(keras.layers.Flatten(input_shape=[32, 32, 3]))\n",
        "\n",
        "# Hidden\n",
        "for _ in range(20):\n",
        "  model.add(keras.layers.Dense(100,\n",
        "                               activation='elu',\n",
        "                               kernel_initializer='he_normal'))\n",
        "# Output\n",
        "model.add(keras.layers.Dense(10,\n",
        "                             activation='softmax'))"
      ],
      "metadata": {
        "id": "QUln8SMRBU6_"
      },
      "execution_count": 36,
      "outputs": []
    },
    {
      "cell_type": "code",
      "source": [
        "# b. Using Nadam optimization and early stopping, train the network on the CIFAR10 dataset\n",
        "\n",
        "model.compile(loss='sparse_categorical_crossentropy',\n",
        "              optimizer=keras.optimizers.Nadam(learning_rate=5e-5),\n",
        "              metrics=['accuracy'])"
      ],
      "metadata": {
        "id": "PLM5yYjMW8LN"
      },
      "execution_count": 37,
      "outputs": []
    },
    {
      "cell_type": "code",
      "source": [
        "# Let's also add some callbacks we need to train the model"
      ],
      "metadata": {
        "id": "GAXlaurDYSA0"
      },
      "execution_count": 38,
      "outputs": []
    },
    {
      "cell_type": "code",
      "source": [
        "# Early stopping\n",
        "early_stopping_cb   = keras.callbacks.EarlyStopping(patience=20)\n",
        "\n",
        "# Checkpoint\n",
        "model_checkpoint_cb = keras.callbacks.ModelCheckpoint(\"cifar10_model.h5\", save_best_only=True)\n",
        "\n",
        "# TensorBoard\n",
        "run_index      = 1 # increment every time you train the model\n",
        "run_logdir     = os.path.join(os.curdir, \"cifar10_logs\", \"run_{:03d}\".format(run_index))\n",
        "tensorboard_cb = keras.callbacks.TensorBoard(run_logdir)"
      ],
      "metadata": {
        "id": "mHaQ2FPwW8Ne"
      },
      "execution_count": 39,
      "outputs": []
    },
    {
      "cell_type": "code",
      "source": [
        "# model.fit(X_train, y_train, epochs=100,\n",
        "#           validation_data=(X_valid, y_valid),\n",
        "#           callbacks=[early_stopping_cb, model_checkpoint_cb, tensorboard_cb])"
      ],
      "metadata": {
        "id": "tdaWbnTPYjJU"
      },
      "execution_count": 40,
      "outputs": []
    },
    {
      "cell_type": "code",
      "source": [
        "# model = keras.models.load_model(\"cifar10_model.h5\")\n",
        "# model.evaluate(X_valid, y_valid)"
      ],
      "metadata": {
        "id": "gPMzEgrfYsly"
      },
      "execution_count": 41,
      "outputs": []
    },
    {
      "cell_type": "code",
      "source": [
        ""
      ],
      "metadata": {
        "id": "-ruH5-H6ZHFg"
      },
      "execution_count": 41,
      "outputs": []
    },
    {
      "cell_type": "code",
      "source": [
        "# c. Now try adding Batch Normalization (BN) and compare the learning curves.\n",
        "# Is it converging faster than before? Does it produce a better model?\n",
        "# How does it affect training speed?"
      ],
      "metadata": {
        "id": "tuCtgfc2ZHHv"
      },
      "execution_count": 42,
      "outputs": []
    },
    {
      "cell_type": "code",
      "source": [
        "keras.backend.clear_session()\n",
        "tf.random.set_seed(42)\n",
        "np.random.seed(42)"
      ],
      "metadata": {
        "id": "ZEiQ39G9Zw0k"
      },
      "execution_count": 43,
      "outputs": []
    },
    {
      "cell_type": "code",
      "source": [
        "model = keras.models.Sequential()\n",
        "\n",
        "# Input\n",
        "model.add(keras.layers.Flatten(input_shape=[32, 32, 3]))\n",
        "model.add(keras.layers.BatchNormalization())\n",
        "\n",
        "# Hidden\n",
        "for _ in range(20):\n",
        "  model.add(keras.layers.Dense(100, kernel_initializer='he_normal'))\n",
        "  model.add(keras.layers.BatchNormalization())\n",
        "  model.add(keras.layers.Activation('elu'))\n",
        "\n",
        "# Output\n",
        "model.add(keras.layers.Dense(10, activation='softmax'))"
      ],
      "metadata": {
        "id": "_ciXFziQZMsC"
      },
      "execution_count": 44,
      "outputs": []
    },
    {
      "cell_type": "code",
      "source": [
        "model.compile(loss='sparse_categorical_crossentropy',\n",
        "              optimizer=keras.optimizers.Nadam(learning_rate=5e-4), # vs. 5e-5 before\n",
        "              metrics=['accuracy'])"
      ],
      "metadata": {
        "id": "YUdzh6ehZMuT"
      },
      "execution_count": 45,
      "outputs": []
    },
    {
      "cell_type": "code",
      "source": [
        "# Early stopping\n",
        "early_stopping_cb   = keras.callbacks.EarlyStopping(patience=20)\n",
        "\n",
        "# Checkpoint\n",
        "model_checkpoint_cb = keras.callbacks.ModelCheckpoint(\"cifar10_bn_model.h5\", save_best_only=True)\n",
        "\n",
        "# TensorBoard\n",
        "run_index      = 1 # increment every time you train the model\n",
        "run_logdir     = os.path.join(os.curdir, \"cifar10_logs\", \"run_bn_{:03d}\".format(run_index))\n",
        "tensorboard_cb = keras.callbacks.TensorBoard(run_logdir)"
      ],
      "metadata": {
        "id": "Ba69Cy8FZMwN"
      },
      "execution_count": 46,
      "outputs": []
    },
    {
      "cell_type": "code",
      "source": [
        "# model.fit(X_train, y_train, epochs=100,\n",
        "#           validation_data=(X_valid, y_valid),\n",
        "#           callbacks=[early_stopping_cb, model_checkpoint_cb, tensorboard_cb])"
      ],
      "metadata": {
        "id": "6otdMAD1ZMya"
      },
      "execution_count": 47,
      "outputs": []
    },
    {
      "cell_type": "code",
      "source": [
        "# model = keras.models.load_model(\"cifar10_bn_model.h5\")\n",
        "# model.evaluate(X_valid, y_valid)"
      ],
      "metadata": {
        "id": "LrRiHPv2ZM0m"
      },
      "execution_count": 48,
      "outputs": []
    },
    {
      "cell_type": "code",
      "source": [
        "# -> Is the model converging faster than before?\n",
        "# Much faster! The previous model took 27 epochs to reach the lowest validation loss, while the new model achieved that same loss in just 5 epochs\n",
        "# and continued to make progress until the 16th epoch. The BN layers stabilized training and allowed us to use a much larger learning rate, so convergence was faster.\n",
        "\n",
        "# -> Does BN produce a better model?\n",
        "# Yes! The final model is also much better, with 54.0% accuracy instead of 47.6%. It's still not a very good model,\n",
        "# but at least it's much better than before (a CNN would do much better, but that's a different topic).\n",
        "\n",
        "# -> How does BN affect training speed?\n",
        "# Although the model converged much faster, each epoch took about 12s instead of 8s, because of the extra computations required by the BN layers.\n",
        "# But overall the training time (wall time) was shortened significantly!"
      ],
      "metadata": {
        "id": "iGwfZJsBZM2Z"
      },
      "execution_count": 49,
      "outputs": []
    },
    {
      "cell_type": "code",
      "source": [
        ""
      ],
      "metadata": {
        "id": "xk7a-kxaZM4R"
      },
      "execution_count": 49,
      "outputs": []
    },
    {
      "cell_type": "code",
      "source": [
        "# d. Try replacing Batch Normalization with SELU, and make the necessary adjust ements to ensure the network self-normalizes\n",
        "# (i.e., standardize the input features, use LeCun normal initialization, make sure the DNN contains only a sequence of dense layers, etc.)"
      ],
      "metadata": {
        "id": "IG5mq8o9ZM6i"
      },
      "execution_count": 50,
      "outputs": []
    },
    {
      "cell_type": "code",
      "source": [
        "keras.backend.clear_session()\n",
        "tf.random.set_seed(42)\n",
        "np.random.seed(42)"
      ],
      "metadata": {
        "id": "z2-Eco7jap71"
      },
      "execution_count": 51,
      "outputs": []
    },
    {
      "cell_type": "code",
      "source": [
        "model = keras.models.Sequential()\n",
        "\n",
        "# Input\n",
        "model.add(keras.layers.Flatten(input_shape=[32, 32, 3]))\n",
        "\n",
        "# Hidden\n",
        "for _ in range(20):\n",
        "  model.add(keras.layers.Dense(100,\n",
        "                               kernel_initializer='lecun_normal',\n",
        "                               activation='selu'))\n",
        "\n",
        "# Output\n",
        "model.add(keras.layers.Dense(10, activation='softmax'))"
      ],
      "metadata": {
        "id": "rkbyj4wuap-C"
      },
      "execution_count": 52,
      "outputs": []
    },
    {
      "cell_type": "code",
      "source": [
        "# Let's standardize the input features\n",
        "# Another option is to add a BN layer after the Flatter layer (as input) => this will normalize the data automatically\n",
        "X_means = X_train.mean(axis=0)\n",
        "X_stds  = X_train.std(axis=0)\n",
        "\n",
        "X_train_scaled = (X_train - X_means) / X_stds\n",
        "X_valid_scaled = (X_valid - X_means) / X_stds\n",
        "X_test_scaled  = (X_test - X_means)  / X_stds"
      ],
      "metadata": {
        "id": "VZjZpT0sawte"
      },
      "execution_count": 53,
      "outputs": []
    },
    {
      "cell_type": "code",
      "source": [
        "model.compile(loss='sparse_categorical_crossentropy',\n",
        "              optimizer=keras.optimizers.Nadam(learning_rate=7e-4), # vs. 5e-5, 5e-4 before\n",
        "              metrics=['accuracy'])"
      ],
      "metadata": {
        "id": "fZ7-rUe2awv1"
      },
      "execution_count": 54,
      "outputs": []
    },
    {
      "cell_type": "code",
      "source": [
        "# Early stopping\n",
        "early_stopping_cb   = keras.callbacks.EarlyStopping(patience=20)\n",
        "\n",
        "# Checkpoint\n",
        "model_checkpoint_cb = keras.callbacks.ModelCheckpoint(\"cifar10_self_norm_model.h5\", save_best_only=True)\n",
        "\n",
        "# TensorBoard\n",
        "run_index      = 1 # increment every time you train the model\n",
        "run_logdir     = os.path.join(os.curdir, \"cifar10_logs\", \"run_self_norm_{:03d}\".format(run_index))\n",
        "tensorboard_cb = keras.callbacks.TensorBoard(run_logdir)"
      ],
      "metadata": {
        "id": "W4GuxE4Eawxs"
      },
      "execution_count": 55,
      "outputs": []
    },
    {
      "cell_type": "code",
      "source": [
        "# model.fit(X_train, y_train, epochs=100,\n",
        "#           validation_data=(X_valid, y_valid),\n",
        "#           callbacks=[early_stopping_cb, model_checkpoint_cb, tensorboard_cb])"
      ],
      "metadata": {
        "id": "6cYbVc8_aqAJ"
      },
      "execution_count": 56,
      "outputs": []
    },
    {
      "cell_type": "code",
      "source": [
        "# model = keras.models.load_model(\"cifar10_self_norm_model.h5\")\n",
        "# model.evaluate(X_valid, y_valid)"
      ],
      "metadata": {
        "id": "0K2ympypZM8s"
      },
      "execution_count": 57,
      "outputs": []
    },
    {
      "cell_type": "code",
      "source": [
        ""
      ],
      "metadata": {
        "id": "yQzVXwnJZHLe"
      },
      "execution_count": 57,
      "outputs": []
    },
    {
      "cell_type": "code",
      "source": [
        "# e. Try regularizing the model with alpha dropout. Then, without retraining your\n",
        "# model, see if you can achieve better accuracy using MC Dropout."
      ],
      "metadata": {
        "id": "YbXHzDg7be8w"
      },
      "execution_count": 58,
      "outputs": []
    },
    {
      "cell_type": "code",
      "source": [
        "keras.backend.clear_session()\n",
        "tf.random.set_seed(42)"
      ],
      "metadata": {
        "id": "NPuoXkSDbpm_"
      },
      "execution_count": 59,
      "outputs": []
    },
    {
      "cell_type": "code",
      "source": [
        "model = keras.models.Sequential()\n",
        "\n",
        "# Input\n",
        "model.add(keras.layers.Flatten(input_shape=[32, 32, 3]))\n",
        "\n",
        "# Hiddens (Dense + AlphaDropout)\n",
        "for _ in range(20):\n",
        "  model.add(keras.layers.Dense(100,\n",
        "                               kernel_initializer='lecun_normal',\n",
        "                               activation='selu'))\n",
        "  model.add(keras.layers.AlphaDropout(rate=0.1))\n",
        "\n",
        "# Output\n",
        "model.add(keras.layers.Dense(10, activation='softmax'))"
      ],
      "metadata": {
        "id": "TOO6Oseqbe_I"
      },
      "execution_count": 60,
      "outputs": []
    },
    {
      "cell_type": "code",
      "source": [
        "# I am using AlphaDropout instead of vanilla Dropout because it preserves the self-normalization feature"
      ],
      "metadata": {
        "id": "hm5fK87ibmcv"
      },
      "execution_count": 61,
      "outputs": []
    },
    {
      "cell_type": "code",
      "source": [
        "model.compile(loss='sparse_categorical_crossentropy',\n",
        "              optimizer=keras.optimizers.Nadam(learning_rate=5e-4),\n",
        "              metrics=['accuracy'])"
      ],
      "metadata": {
        "id": "jWI9zgBFbme2"
      },
      "execution_count": 62,
      "outputs": []
    },
    {
      "cell_type": "code",
      "source": [
        "# Early stopping\n",
        "early_stopping_cb   = keras.callbacks.EarlyStopping(patience=20)\n",
        "\n",
        "# Checkpoint\n",
        "model_checkpoint_cb = keras.callbacks.ModelCheckpoint(\"cifar10_alpha_dropout_model.h5\", save_best_only=True)\n",
        "\n",
        "# TensorBoard\n",
        "run_index      = 1 # increment every time you train the model\n",
        "run_logdir     = os.path.join(os.curdir, \"cifar10_logs\", \"run_alpha_dropout_{:03d}\".format(run_index))\n",
        "tensorboard_cb = keras.callbacks.TensorBoard(run_logdir)"
      ],
      "metadata": {
        "id": "2Ep0DIB6bmg3"
      },
      "execution_count": 63,
      "outputs": []
    },
    {
      "cell_type": "code",
      "source": [
        "# Let's fit the model again on the scaled data\n",
        "\n",
        "# model.fit(X_train_scaled, y_train, epochs=100,\n",
        "#           validation_data=(X_valid_scaled, y_valid),\n",
        "#           callbacks=callbacks)"
      ],
      "metadata": {
        "id": "ta7P5U5Xbmit"
      },
      "execution_count": 64,
      "outputs": []
    },
    {
      "cell_type": "code",
      "source": [
        "# model = keras.models.load_model(\"cifar10_alpha_dropout_model.h5\")\n",
        "# model.evaluate(X_valid_scaled, y_valid)"
      ],
      "metadata": {
        "id": "uiuX4t_scT2m"
      },
      "execution_count": 65,
      "outputs": []
    },
    {
      "cell_type": "code",
      "source": [
        ""
      ],
      "metadata": {
        "id": "X8mOUgH1ceTg"
      },
      "execution_count": 65,
      "outputs": []
    },
    {
      "cell_type": "code",
      "source": [
        "# Let's use MCDroput now\n",
        "\n",
        "# I created a new class for more robustness (e.g.: if we have some layers which works different at training & inference time BN let's say,\n",
        "# then we can't just 'hardcode' the arg `training=True` on the entire model, because it will break the BN layer)\n",
        "# For more details, see: https://keras.io/api/layers/normalization_layers/batch_normalization/\n",
        "\n",
        "# In conclusion, we will only force the AlphaDropout layer to be active (even at) inference for performing MonteCarlo experiment\n",
        "\n",
        "class MCAlphaDropout(keras.layers.AlphaDropout):\n",
        "    def call(self, inputs):\n",
        "        return super().call(inputs, training=True)"
      ],
      "metadata": {
        "id": "IX5YcI2aceVo"
      },
      "execution_count": 66,
      "outputs": []
    },
    {
      "cell_type": "code",
      "source": [
        "# Now let's create a new model, identical to the one we just trained (with the same weights), but with MCAlphaDropout dropout layers instead of AlphaDropout layers\n",
        "mc_model = keras.models.Sequential([MCAlphaDropout(layer.rate) if isinstance(layer, keras.layers.AlphaDropout) else layer for layer in model.layers])"
      ],
      "metadata": {
        "id": "SBS9wJcIcT4Y"
      },
      "execution_count": 67,
      "outputs": []
    },
    {
      "cell_type": "code",
      "source": [
        "# Then let's add a couple utility functions. The first will run the model many times (10 by default) and it will return the mean predicted class probabilities.\n",
        "# The second will use these mean probabilities to predict the most likely class for each instance"
      ],
      "metadata": {
        "id": "s9jJTymsdlDV"
      },
      "execution_count": 68,
      "outputs": []
    },
    {
      "cell_type": "code",
      "source": [
        "def mc_dropout_predict_probas(mc_model, X, n_samples=10):\n",
        "    Y_probas = [mc_model.predict(X) for sample in range(n_samples)]\n",
        "    return np.mean(Y_probas, axis=0)\n",
        "\n",
        "def mc_dropout_predict_classes(mc_model, X, n_samples=10):\n",
        "    Y_probas = mc_dropout_predict_probas(mc_model, X, n_samples)\n",
        "    return np.argmax(Y_probas, axis=1)"
      ],
      "metadata": {
        "id": "-qoCSlRfdlFh"
      },
      "execution_count": 69,
      "outputs": []
    },
    {
      "cell_type": "code",
      "source": [
        "# Now let's make predictions for all the instances in the validation set, and compute the accuracy"
      ],
      "metadata": {
        "id": "eyQGZvt7bfBM"
      },
      "execution_count": 70,
      "outputs": []
    },
    {
      "cell_type": "code",
      "source": [
        "keras.backend.clear_session()\n",
        "tf.random.set_seed(42)\n",
        "np.random.seed(42)"
      ],
      "metadata": {
        "id": "JX-EYWYBd3_D"
      },
      "execution_count": 71,
      "outputs": []
    },
    {
      "cell_type": "code",
      "source": [
        "# y_pred = mc_dropout_predict_classes(mc_model, X_valid_scaled)\n",
        "# accuracy = np.mean(y_pred == y_valid[:, 0])\n",
        "# accuracy"
      ],
      "metadata": {
        "id": "ESeHvf9Zd1qY"
      },
      "execution_count": 72,
      "outputs": []
    },
    {
      "cell_type": "code",
      "source": [
        ""
      ],
      "metadata": {
        "id": "eQH0ykyRd2u_"
      },
      "execution_count": 72,
      "outputs": []
    },
    {
      "cell_type": "code",
      "source": [
        "# f. Retrain your model using 1cycle scheduling and see if it improves training speed and model accuracy"
      ],
      "metadata": {
        "id": "eJqjW5fKd2xL"
      },
      "execution_count": 73,
      "outputs": []
    },
    {
      "cell_type": "code",
      "source": [
        "keras.backend.clear_session()\n",
        "tf.random.set_seed(42)\n",
        "np.random.seed(42)"
      ],
      "metadata": {
        "id": "2fsvSDikeJ5B"
      },
      "execution_count": 74,
      "outputs": []
    },
    {
      "cell_type": "code",
      "source": [
        "model = keras.models.Sequential()\n",
        "\n",
        "# Input\n",
        "model.add(keras.layers.Flatten(input_shape=[32, 32, 3]))\n",
        "\n",
        "# Hiddens (Dense + AlphaDropout)\n",
        "for _ in range(20):\n",
        "  model.add(keras.layers.Dense(100,\n",
        "                               kernel_initializer='lecun_normal',\n",
        "                               activation='selu'))\n",
        "  model.add(keras.layers.AlphaDropout(rate=0.1))\n",
        "\n",
        "# Output\n",
        "model.add(keras.layers.Dense(10, activation='softmax'))\n",
        "\n",
        "model.compile(loss='sparse_categorical_crossentropy',\n",
        "              optimizer=keras.optimizers.SGD(learning_rate=1e-3),\n",
        "              metrics=['accuracy'])"
      ],
      "metadata": {
        "id": "2fWUI7N1d2zG"
      },
      "execution_count": 75,
      "outputs": []
    },
    {
      "cell_type": "code",
      "source": [
        "K = keras.backend\n",
        "\n",
        "class ExponentialLearningRate(keras.callbacks.Callback):\n",
        "    def __init__(self, factor):\n",
        "        self.factor = factor\n",
        "        self.rates = []\n",
        "        self.losses = []\n",
        "    def on_batch_end(self, batch, logs):\n",
        "        self.rates.append(K.get_value(self.model.optimizer.learning_rate))\n",
        "        self.losses.append(logs[\"loss\"])\n",
        "        K.set_value(self.model.optimizer.learning_rate, self.model.optimizer.learning_rate * self.factor)\n",
        "\n",
        "def find_learning_rate(model, X, y, epochs=1, batch_size=32, min_rate=10**-5, max_rate=10):\n",
        "    init_weights = model.get_weights()\n",
        "    iterations = math.ceil(len(X) / batch_size) * epochs\n",
        "    factor = np.exp(np.log(max_rate / min_rate) / iterations)\n",
        "    init_lr = K.get_value(model.optimizer.learning_rate)\n",
        "    K.set_value(model.optimizer.learning_rate, min_rate)\n",
        "    exp_lr = ExponentialLearningRate(factor)\n",
        "    history = model.fit(X, y, epochs=epochs, batch_size=batch_size, callbacks=[exp_lr])\n",
        "    K.set_value(model.optimizer.learning_rate, init_lr)\n",
        "    model.set_weights(init_weights)\n",
        "    return exp_lr.rates, exp_lr.losses\n",
        "\n",
        "def plot_lr_vs_loss(rates, losses):\n",
        "    plt.plot(rates, losses)\n",
        "    plt.gca().set_xscale('log')\n",
        "    plt.hlines(min(losses), min(rates), max(rates))\n",
        "    plt.axis([min(rates), max(rates), min(losses), (losses[0] + min(losses)) / 2])\n",
        "    plt.xlabel(\"Learning rate\")\n",
        "    plt.ylabel(\"Loss\")"
      ],
      "metadata": {
        "id": "u8rlDb6QeXEQ"
      },
      "execution_count": 76,
      "outputs": []
    },
    {
      "cell_type": "code",
      "source": [
        "batch_size = 128\n",
        "rates, losses = find_learning_rate(model, X_train_scaled, y_train, epochs=1, batch_size=batch_size)\n",
        "plot_lr_vs_loss(rates, losses)\n",
        "plt.axis([min(rates), max(rates), min(losses), (losses[0] + min(losses)) / 1.4])"
      ],
      "metadata": {
        "colab": {
          "base_uri": "https://localhost:8080/",
          "height": 381
        },
        "id": "0Twa1w3Nd21J",
        "outputId": "8aa34175-81f6-4f06-98f4-91153b9cb335"
      },
      "execution_count": 77,
      "outputs": [
        {
          "output_type": "stream",
          "name": "stdout",
          "text": [
            "352/352 [==============================] - 10s 23ms/step - loss: nan - accuracy: 0.1042\n"
          ]
        },
        {
          "output_type": "execute_result",
          "data": {
            "text/plain": [
              "(9.999999747378752e-06,\n",
              " 9.615227699279785,\n",
              " 2.865111827850342,\n",
              " 4.178337029048375)"
            ]
          },
          "metadata": {},
          "execution_count": 77
        },
        {
          "output_type": "display_data",
          "data": {
            "text/plain": [
              "<Figure size 432x288 with 1 Axes>"
            ],
            "image/png": "[encoded data removed]"
          },
          "metadata": {
            "needs_background": "light"
          }
        }
      ]
    },
    {
      "cell_type": "code",
      "source": [
        "# 1cycle scheduling\n",
        "\n",
        "# Contrary to the other approaches, 1cycle (introduced in a 2018 paper21 by Leslie Smith)\n",
        "# starts by increasing the initial learning rate η0 , growing linearly up to η1\n",
        "# halfway through training. Then it decreases the learning rate linearly down to η0\n",
        "# again during the second half of training, finishing the last few epochs by dropping the rate down\n",
        "# by several orders of magnitude (still linearly). The maximum learning rate η1\n",
        "# is chosen using the same approach we used to find the optimal learning rate (see plot above),\n",
        "# and the initial learning rate η0 is chosen to be roughly 10 times lower.\n",
        "\n",
        "# When using a momentum, we start with a high momentum first\n",
        "# (e.g., 0.95), then drop it down to a lower momentum during the first half of training\n",
        "# (e.g., down to 0.85, linearly), and then bring it back up to the maximum value\n",
        "# (e.g., 0.95) during the second half of training, finishing the last few epochs with that maximum value."
      ],
      "metadata": {
        "id": "FhTP8Jgfe-kw"
      },
      "execution_count": 78,
      "outputs": []
    },
    {
      "cell_type": "code",
      "source": [
        "# We can see that a good maximum learning rate η1 is 0.05"
      ],
      "metadata": {
        "id": "7HgmGJs0eRhb"
      },
      "execution_count": 79,
      "outputs": []
    },
    {
      "cell_type": "code",
      "source": [
        "keras.backend.clear_session()\n",
        "tf.random.set_seed(42)\n",
        "np.random.seed(42)"
      ],
      "metadata": {
        "id": "EwjtJ6hqeRjm"
      },
      "execution_count": 80,
      "outputs": []
    },
    {
      "cell_type": "code",
      "source": [
        "model = keras.models.Sequential()\n",
        "\n",
        "# Input\n",
        "model.add(keras.layers.Flatten(input_shape=[32, 32, 3]))\n",
        "\n",
        "# Hiddens (Dense + AlphaDropout)\n",
        "for _ in range(20):\n",
        "  model.add(keras.layers.Dense(100,\n",
        "                               kernel_initializer='lecun_normal',\n",
        "                               activation='selu'))\n",
        "  model.add(keras.layers.AlphaDropout(rate=0.1))\n",
        "\n",
        "# Output\n",
        "model.add(keras.layers.Dense(10, activation='softmax'))\n",
        "\n",
        "model.compile(loss='sparse_categorical_crossentropy',\n",
        "              optimizer=keras.optimizers.SGD(learning_rate=1e-2),\n",
        "              metrics=['accuracy'])"
      ],
      "metadata": {
        "id": "pLciq6RmeRl4"
      },
      "execution_count": 81,
      "outputs": []
    },
    {
      "cell_type": "code",
      "source": [
        "class OneCycleScheduler(keras.callbacks.Callback):\n",
        "    def __init__(self, iterations, max_rate, start_rate=None,\n",
        "                 last_iterations=None, last_rate=None):\n",
        "        self.iterations = iterations\n",
        "        self.max_rate = max_rate\n",
        "        self.start_rate = start_rate or max_rate / 10\n",
        "        self.last_iterations = last_iterations or iterations // 10 + 1\n",
        "        self.half_iteration = (iterations - self.last_iterations) // 2\n",
        "        self.last_rate = last_rate or self.start_rate / 1000\n",
        "        self.iteration = 0\n",
        "\n",
        "    def _interpolate(self, iter1, iter2, rate1, rate2):\n",
        "        return ((rate2 - rate1) * (self.iteration - iter1) / (iter2 - iter1) + rate1)\n",
        "        \n",
        "    def on_batch_begin(self, batch, logs):\n",
        "        if self.iteration < self.half_iteration:\n",
        "            rate = self._interpolate(0, self.half_iteration, self.start_rate, self.max_rate)\n",
        "        elif self.iteration < 2 * self.half_iteration:\n",
        "            rate = self._interpolate(self.half_iteration, 2 * self.half_iteration,\n",
        "                                     self.max_rate, self.start_rate)\n",
        "        else:\n",
        "            rate = self._interpolate(2 * self.half_iteration, self.iterations,\n",
        "                                     self.start_rate, self.last_rate)\n",
        "        self.iteration += 1\n",
        "        K.set_value(self.model.optimizer.learning_rate, rate)"
      ],
      "metadata": {
        "id": "wSnIz4bcf4gq"
      },
      "execution_count": 82,
      "outputs": []
    },
    {
      "cell_type": "code",
      "source": [
        "n_epochs = 15\n",
        "onecycle = OneCycleScheduler(math.ceil(len(X_train_scaled) / batch_size) * n_epochs, max_rate=0.05)"
      ],
      "metadata": {
        "id": "tTFdGmKUfhaW"
      },
      "execution_count": 83,
      "outputs": []
    },
    {
      "cell_type": "code",
      "source": [
        "# history  = model.fit(X_train_scaled, y_train, epochs=n_epochs, batch_size=batch_size,\n",
        "#                      validation_data=(X_valid_scaled, y_valid),\n",
        "#                      callbacks=[onecycle])"
      ],
      "metadata": {
        "id": "z0xErxqCfhoy"
      },
      "execution_count": 84,
      "outputs": []
    },
    {
      "cell_type": "code",
      "source": [
        ""
      ],
      "metadata": {
        "id": "dQpxnirhgRoO"
      },
      "execution_count": 84,
      "outputs": []
    }
  ]
}